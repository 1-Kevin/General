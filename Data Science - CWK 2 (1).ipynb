{
 "cells": [
  {
   "cell_type": "markdown",
   "metadata": {},
   "source": [
    "# Name: Kevin Jaku\n",
    "# CID: 01492272\n",
    "\n",
    "# Methods of Data Science - Coursework 2\n",
    "\n",
    "In this notebook, we will be carrying out a set of classification tasks on the following 2 datasets:\n",
    "- A set of images (task 1)\n",
    "- A social network of Zachary's karate club (task 2)"
   ]
  },
  {
   "cell_type": "markdown",
   "metadata": {},
   "source": [
    "I will carry out these tasks by building on the algorithms discussed in the lectures notes and exercises in order to implement them."
   ]
  },
  {
   "cell_type": "markdown",
   "metadata": {},
   "source": [
    "For task 1, I will focus on two types of neural networks: \n",
    "- Multi-layer perceptrons (task 1.1)\n",
    "- Convolutional neural networks (task 1.2) "
   ]
  },
  {
   "cell_type": "markdown",
   "metadata": {},
   "source": [
    "For both of these networks I will use the training sets to train the model and then run the max-trained model on the validation set in order to obtain results I can use to analyse the performance of my networks. The architecture of the neural networks will be described in their corresponding sections. "
   ]
  },
  {
   "cell_type": "markdown",
   "metadata": {},
   "source": [
    "For task 2, I will carry out a range of tasks which are:\n",
    "- Clustering my feature matrix (task 2.1)\n",
    "- Dimensionality reduction on my feature matrix (task 2.2)\n",
    "- Graph-based analysis (task 2.3)"
   ]
  },
  {
   "cell_type": "markdown",
   "metadata": {},
   "source": [
    "I will implement the k-means algorithm to cluster my feature matrix and obtain a Calinski-Harabasz score which I will use to understanding the robustness of my clusterings. I will then implement principle component analysis (PCA) to see what is the optimal dimension to reduce our feature matrix to. Finally, I will use graph-baased analysis (GBA) in order to obtain clusterings and then compare these to the clusters obtained through the k-means algorithm using the adjusted rand index (ARI)."
   ]
  },
  {
   "cell_type": "markdown",
   "metadata": {},
   "source": [
    "I will start by importing the relevant packages that required throughout this notebook to complete the tasks, these are as follows:\n",
    "- NumPy \n",
    "- NetworkX \n",
    "- TensorFlow \n",
    "- MatplotLib \n",
    "- SciPy (alongside some specific functions within SciPy)"
   ]
  },
  {
   "cell_type": "code",
   "execution_count": 128,
   "metadata": {},
   "outputs": [],
   "source": [
    "import numpy as np\n",
    "import networkx as nx\n",
    "import tensorflow as tf\n",
    "import matplotlib.pyplot as plt\n",
    "import scipy as sc\n",
    "import pandas as pd\n",
    "\n",
    "from scipy.spatial.distance import cdist\n",
    "from scipy.sparse import linalg"
   ]
  },
  {
   "cell_type": "markdown",
   "metadata": {},
   "source": [
    "I will now load the dataset that we will use in task 1, this is a collection of 2D images that use 3 colour channels (each image is 32 x 32 pixels), as a result each image has size 32 x 32 x 3. The training dataset has 50,000 of these images and the validation dataset has 10,000 of these images, so our datasets have the following dimensions:\n",
    "- Training dataset: 50000 x 32 x 32 x 3\n",
    "- Validation dataset: 10000 x 32 x 32 x 3"
   ]
  },
  {
   "cell_type": "markdown",
   "metadata": {},
   "source": [
    "In order to be able to use this data in NumPy, I will have to flatten it from (50000, 32, 32, 3) to (50000, 3072) - where 32 x 32 x 32 = 3072. I will flatten the data later in this way and will state this again before I do it. Here I will just shuffle the data to avoid having unbalanced datasets and sort it into batches of 128 data points, this handling of the data is done specifically for CNN so that I can run this type of network on batches of the desired size later on in the notebook. I will handle the data slightly differently for MLP and will do this later on, in that section."
   ]
  },
  {
   "cell_type": "code",
   "execution_count": 129,
   "metadata": {},
   "outputs": [],
   "source": [
    "# Use tensorflow to load the data as specified in the coursework question sheet\n",
    "def load_data():\n",
    "    (x_train, y_train), (x_val, y_val) = tf.keras.datasets.cifar10.load_data()\n",
    "    x_train = x_train.astype('float32') / 255\n",
    "    x_val = x_val.astype('float32') / 255\n",
    "    # convert labels to categorical samples\n",
    "    y_train = tf.keras.utils.to_categorical(y_train, num_classes=10)\n",
    "    y_val = tf.keras.utils.to_categorical(y_val, num_classes=10)\n",
    "    return ((x_train, y_train), (x_val, y_val))\n",
    "\n",
    "(x_train, y_train), (x_val, y_val) = load_data()\n",
    "\n",
    "# Load the data into dataset objects, shuffle and separate into batches as explained above\n",
    "train_data = tf.data.Dataset.from_tensor_slices((x_train.astype(np.float32), y_train.astype(np.float32)))\n",
    "train_data = train_data.shuffle(50000)\n",
    "train_data = train_data.batch(128)\n",
    "\n",
    "val_data = tf.data.Dataset.from_tensor_slices((x_val.astype(np.float32), y_val.astype(np.float32)))\n",
    "val_data = val_data.shuffle(10000)\n",
    "val_data = val_data.batch(128)"
   ]
  },
  {
   "cell_type": "markdown",
   "metadata": {},
   "source": [
    "# Task 1: Neural Networks\n",
    "\n",
    "Neural networks form the basis of deep learning, and their algorithms are inspired by the biological neurons in the human brain. Neural networks take in data, train themselves on this data by updating the network parameters at each iteration and then predict the outputs. This training is done on the training set and then these updated, max-trained parameters are then tested on the validation set. Neural networks are made up of hidden layers (which includes the input layer) and an output layer. The input layer receives the input, the output layers predict the final output, and inbetween these are the hidden layers which are made up of neurons which we train by updating our network paramters, this training is done by through forward- and back-propagation at each iteration. Once max-trained, these neural networks can be used to output very accurate predictions in classification tasks and have been used in the real world for things like facial recognition.\n"
   ]
  },
  {
   "cell_type": "markdown",
   "metadata": {},
   "source": [
    "## 1.1 Multi-Layer Perceptron (MLP)\n",
    "\n",
    "The MLP is a type of neural network model, that consists of an input layer, an output layer and hidden layers between these. Each hidden layer and in some case the output layer have an activation function. These hidden layers take in input, multiply them by weights and then add a bias and as this onto the next layer as input. This is shown below for which we denote the hidden layers as: ${h}^{(k)}$ for $k=0,\\ldots, L$ (where ${h}^{(0)}$ is the input layer) and the output layer as: $\\hat{\\boldsymbol{y}}$...\n",
    "\n",
    "$$\n",
    "\\begin{align}\n",
    "\\boldsymbol{h}^{(0)} &= \\boldsymbol{x} \\\\\n",
    "\\boldsymbol{h}^{(k)} &= \\sigma\\left((\\boldsymbol{h}^{(k-1)})^T \\boldsymbol{W}^{(k-1)} + \\boldsymbol{b}^{(k-1)} \\right) \\qquad k=1,\\ldots, L \\\\\n",
    "\\hat{\\boldsymbol{y}} &= \\sigma_{out}\\left((\\boldsymbol{h}^{(L)})^T \\boldsymbol{W}^{(L)} + \\boldsymbol{b}^{(L)} \\right) \n",
    "\\end{align}\n",
    "$$\n",
    "\n",
    "Here, $\\boldsymbol x\\in\\mathbb{R}^D$ are the inputs, $\\hat{\\boldsymbol{y}}\\in\\mathbb{R}^{n_{L+1}}$ are the outputs, $L$ is the number of hidden layers in the model, $\\boldsymbol{W}^{(k)}\\in\\mathbb{R}^{n_{k}\\times n_{k+1}}$ is the kernel matrix consisting of the weights that we will update, $\\boldsymbol{b}^{(k)}\\in\\mathbb{R}^{n_{k+1}}$ are the biases, $\\boldsymbol{h}^{(k)}\\in\\mathbb{R}^{n_k}$ are the outputs from the hidden layers - where $n_k$ is the number of neurons in the $k^{th}$ hidden layer, and we have set $n_0 := D$ - which corresponds to the size of the dataset. Furthermore, $\\sigma, \\sigma_{out}: \\mathbb{R}\\mapsto\\mathbb{R}$ are activation functions for the hidden layers and for the output layer respectively - and they operate element-wise.\n",
    "$$\n",
    "$$\n",
    "\n",
    "### Part 1.1.1\n",
    "\n",
    "I will build the MLP model just using NumPy to train on the flattened images dataset. The architecture of the network we will use for this task is as follows:\n",
    "\n",
    "- 5 hidden layers (including the input layer) with 400 neurons each, with activation function: $\\sigma(x) = tanh(x)$\n",
    "- Output layer with 10 neurons, with activation function: $\\sigma_{out}(x) = softmax(x)_{i}$\n",
    "\n",
    "where the $softmax$ function is as follows: $\\sigma_{out}(x)_{i} = \\frac{e^{x_{i}}}{\\sum_{j=1}^{L} e^{x_{j}}}$, this normalization ensures that the sum of the components of the output vector $\\sigma_{out}(x)$ is 1 as these outputs represent the probabilities of the input falling into a specific class, the highest probability is then chosen and the network says the input (image) to that class.\n",
    "\n",
    "For our MLP, the optimisation method will be stochastic gradient descent (SGD) and the loss function will be cross-entropy. SGD requires us to perform gradient descent which is linear regression problem with the objective of minimizing the sum of squared residuals, which will allow us to update our kernels and biases which will reduce our loss. The 'stochastic' bit becomes from the fact that we are applying gradient descent to randomly selected (since we shuffled the data) subsets (our batches of 128 data points) of the data. The cross-entropy loss function is a function that allows us to find the loss between our network's output and the data that this output was meant to be predicting, it does this in the way defined in my 'cross_ent_loss()' function below.\n",
    "\n",
    "I will now define a series of function that I will need when implementing my MLP network:"
   ]
  },
  {
   "cell_type": "code",
   "execution_count": 602,
   "metadata": {},
   "outputs": [],
   "source": [
    "# This dense function will form the hidden layers which will do as described above\n",
    "def dense(x, W, b):\n",
    "   \n",
    "    h = b + x @ W\n",
    "    return h"
   ]
  },
  {
   "cell_type": "markdown",
   "metadata": {},
   "source": [
    "My activation functions will be the standardised $tanh$ function for my hidden layers and the $softmax$ function for my output layer. We will use the inbuilt NumPy $tanh$ function for the hidden layers, but for my output layer I will define a $softmax$ function as follows:"
   ]
  },
  {
   "cell_type": "code",
   "execution_count": 614,
   "metadata": {},
   "outputs": [],
   "source": [
    "# This code allows me to implement the softmax function that I described above \n",
    "def softmax_fn(x):\n",
    "    x_trans = x.T\n",
    "    e_x = np.exp(x_trans - np.max(x_trans))\n",
    "    return (e_x / e_x.sum(axis = 0)).T"
   ]
  },
  {
   "cell_type": "markdown",
   "metadata": {},
   "source": [
    "The loss between the output from my MLP network $\\hat{y}$ and the value that I am trying to predict $y_{train}$ will be calculated by cross-entropy loss. These losses are the losses I will obtain and store for each iteration, and once an epoch has run through all iterations, I will define the loss for that epoch to be the mean of all these cross entropy losses for each iteration. Cross entropy loss has the following formula:\n",
    "$$\n",
    "\\textit{Cross-entropy loss} = \\frac{1}{M} \\sum_{i = 1}^{M} y^{(i)}_{train}(log(\\hat{y}^{(i)}))\n",
    "$$\n",
    "where $M$ is the batch size (in our case $M$ = 128), $y^{(i)}_{train}$ is our $y_{train}$ from the dataset and $\\hat{y}^{(i)}$ is the output from our forward propagation."
   ]
  },
  {
   "cell_type": "markdown",
   "metadata": {},
   "source": [
    " I implemented this with the following function."
   ]
  },
  {
   "cell_type": "code",
   "execution_count": 130,
   "metadata": {},
   "outputs": [],
   "source": [
    "def cross_ent_loss(predicted, target):\n",
    "    N = predicted.shape[0]\n",
    "    # Add a very small value 1e-9 just to ensure we are never putting zero into the log function\n",
    "    ce_loss = -np.sum(target * np.log(predicted + 1e-9)) / N\n",
    "    return ce_loss"
   ]
  },
  {
   "cell_type": "markdown",
   "metadata": {},
   "source": [
    "The accuracy of the output from my MLP network $\\hat{y}$ against the value that I am trying to predict $y_{train}$ will be calculated by the accuracy function that I defined below. It uses argmax and the equality operator in order to obtain a final accuracy. Just like with the losses, these accuracies are the accuracies I will obtain and store for each iteration, and once an epoch has run through all iterations, I will define the accuracy for that epoch to be the mean of all these accuracies for each iteration. I implemented the following accuracy function:"
   ]
  },
  {
   "cell_type": "code",
   "execution_count": 131,
   "metadata": {},
   "outputs": [],
   "source": [
    "def get_acc(A, B):\n",
    "    a = np.argmax(A, axis = 1)\n",
    "    b = np.argmax(B, axis = 1)\n",
    "    total = 0\n",
    "    for i in range(A.shape[0]):\n",
    "        if a[i] == b[i]:\n",
    "            total += 1\n",
    "    accuracy = total / A.shape[0]\n",
    "    return accuracy"
   ]
  },
  {
   "cell_type": "markdown",
   "metadata": {},
   "source": [
    "I will now look a little deeper into how we will run the forward propagation of my MLP network and why we do this. Let's reconsider the layers of my MLP model and look at the kernels and biases in particular. From the lecture notes, we know that MLP algorithm will need the following parameters:\n",
    "\n",
    "Input layer -> first hidden layer:\n",
    "* Kernel $\\boldsymbol{W}^{(0)} \\in\\mathbb{R}^{3072\\times 400}$\n",
    "* Bias $\\boldsymbol{b}^{(0)} \\in\\mathbb{R}^{400}$\n",
    "* The dimensions here come from the fact that my input x has dimension (50000, 3072) after flattening and I want 400 neurons in my hidden layers\n",
    "\n",
    "Hidden layer -> hidden layer:\n",
    "* Kernel $\\boldsymbol{W}^{(k)} \\in\\mathbb{R}^{400\\times 400}$, $k=1, 2, 3, 4$\n",
    "* Bias $\\boldsymbol{b}^{(k)} \\in\\mathbb{R}^{400}$, $k=1, 2, 3, 4$\n",
    "* The dimensions here come from the fact that we want 400 neurons in our hidden layers\n",
    "\n",
    "Output layer -> final layer:\n",
    "* Kernel $\\boldsymbol{W}^{(5)} \\in\\mathbb{R}^{400\\times 10}$\n",
    "* Bias $\\boldsymbol{b}^{(5)} \\in\\mathbb{R}^{10}$\n",
    "* The dimensions here come from the fact that my output is receiving an input of size 400 and I want 10 neurons in my output layers\n",
    "\n",
    "I will create these parameters as NumPy arrays, and initialise the kernel and bias values with samples from a zero-mean Gaussian distribution with variance $2 / (n_{in} + n_{out})$, where $n_{in}$ and $n_{out}$ are the number of neurons going in and out of the dense layer respectively. This initialisation strategy is known as [Glorot initialisation] - see references at the bottom. I will initialise these parameters later on in my actual 'MLP_SGD()' function.  \n",
    "\n",
    "Forward propagation allows us to obtain $h^{k}$ for $k = 0, 1, 2, 3, 4, 5$ which are the outputs of my hidden layers (called post-activations) and the final output $y_{hat}$. Using $y_{hat}$ I can find my output error, which is just the difference between $y_{hat}$ and what I am trying to predict with my model which is $y_{train}$. This output error is the used to find $\\delta^{6}$ which is what I need to then start my back propagation, which I will move onto after testing my MLP function quickly."
   ]
  },
  {
   "cell_type": "markdown",
   "metadata": {},
   "source": [
    "I will now quickly implement a very basic MLP testing function just to ensure this network runs and that the outputs (which are probabilities) have indeed been normalised by the $softmax$ function so that once outputted, they sum to 1. This MLP function will not be called in my actual 'MLP_SGD()' function when I run the epochs, but it is just to check that what I have so far is performing as it should. It uses my dense function to create the layers, each of which have their appropriate corresponding activation functions."
   ]
  },
  {
   "cell_type": "code",
   "execution_count": 132,
   "metadata": {},
   "outputs": [],
   "source": [
    "def mlp_test(x):\n",
    "    a1 = dense(h0, W0, b0)\n",
    "    h1 = np.tanh(a1)\n",
    "    a2 = dense(h1, W1, b1)\n",
    "    h2 = np.tanh(a2)\n",
    "    a3 = dense(h2, W2, b2)\n",
    "    h3 = np.tanh(a3)\n",
    "    a4 = dense(h3, W3, b3)\n",
    "    h4 = np.tanh(a4)\n",
    "    a5 = dense(h4, W4, b4)\n",
    "    h5 = np.tanh(a5)\n",
    "    y = dense(h5, W5, b5)\n",
    "    y_hat = softmax_fn(y)\n",
    "    \n",
    "    return y_hat"
   ]
  },
  {
   "cell_type": "markdown",
   "metadata": {},
   "source": [
    "Using this function, I can see that all of my probabilities sum to 1, so my output makes sense and I can proceed."
   ]
  },
  {
   "cell_type": "code",
   "execution_count": 684,
   "metadata": {},
   "outputs": [
    {
     "name": "stdout",
     "output_type": "stream",
     "text": [
      "1.0\n",
      "1.0\n",
      "1.0\n",
      "1.0\n"
     ]
    }
   ],
   "source": [
    "# Get the output of my MLP testing network to check that my outputs are correct\n",
    "y_hat_test = mlp_test(x_train)\n",
    "# Check that probabilities sum to 1 for some random images out of the batch of 128 data points\n",
    "print(np.sum(y_hat_test[15, :]))\n",
    "print(np.sum(y_hat_test[43, :]))\n",
    "print(np.sum(y_hat_test[79, :]))\n",
    "print(np.sum(y_hat_test[103, :]))"
   ]
  },
  {
   "cell_type": "markdown",
   "metadata": {},
   "source": [
    "Now that I have finished with the forward propagation part of my MLP network, I can proceed with explaining why we now need back propagation and implement the relevant functions in order to be able to code this part of the MLP algorithm. From the lecture notes, we know that the backpropagation algorithm can be summarised as follows:\n",
    "\n",
    "* Find the first error $\\delta^{(6)} := \\mathcal{L}(y_{hat}, y_{train})$ where we denote $\\mathcal{L}$ as the cross-entropy loss function \n",
    "* Using $\\delta^{(6)}$, kernels $W^{(k)}$ and post-activations $h^(k)$ for $k=1, 2, 3, 4, 5$, carry out back propagation to find the remaining deltas: $\\delta^{(i)}$ for $i=1, 2, 3, 4, 5$.\n",
    "* Perform gradient descent and obtain values $W^{k}_{grad}$ and $b^{k}_{grad}$ for $k = 0, 1, ..., 5$ to then update the kernels and biases, respectively."
   ]
  },
  {
   "cell_type": "markdown",
   "metadata": {},
   "source": [
    "To calculate $\\delta^{(6)}$ as defined above, we need the following output error function which is a very basic function that uses minibatch loss, which involves finding the difference between $y_hat$ and $y_train$ and then scaling by a factor of $\\frac{1}{M}$ where $M$ is the size of the batch, in our case it will be M = 128. This will allow us to start our back propagation alogrithm:"
   ]
  },
  {
   "cell_type": "code",
   "execution_count": 689,
   "metadata": {},
   "outputs": [],
   "source": [
    "def output_error(y, a):\n",
    "    \n",
    "    return (a - y) / y.shape[0]"
   ]
  },
  {
   "cell_type": "markdown",
   "metadata": {},
   "source": [
    "Once I have my first $\\delta$ which will be $\\delta^{6}$, I can use back propagation to work backwards to find the rest of my deltas which are: $\\delta^{5}$, ..., $\\delta^{1}$. Before I define my back propagation function, I need to define the activation derivative which is just the derivative of the hidden layer activation function $tanh$, this is done as we want to minimise our loss. The derivative of $tanh$ is just 1 - $tanh^{2}$:"
   ]
  },
  {
   "cell_type": "code",
   "execution_count": null,
   "metadata": {},
   "outputs": [],
   "source": [
    "def activation_derivative(a1):\n",
    "    \n",
    "    return 1 - np.square(np.tanh(a1))"
   ]
  },
  {
   "cell_type": "markdown",
   "metadata": {},
   "source": [
    "Now I am able to define my back propagation function which is the following:"
   ]
  },
  {
   "cell_type": "code",
   "execution_count": null,
   "metadata": {},
   "outputs": [],
   "source": [
    "def back_prop(delta, W, a):\n",
    "    \n",
    "    W_delta = W @ delta.T\n",
    "    delta_star = activation_derivative(a) * W_delta.T\n",
    "    return delta_star"
   ]
  },
  {
   "cell_type": "markdown",
   "metadata": {},
   "source": [
    "After I find all my $\\delta^{k}$ for $k = 1, 2, ..., 6$, I can then use these $\\delta^{k}$ and the post-activations $h^{i}$ for $i = 0, 1, ..., 5$ from our forward propagation algorithm in order to perform gradient descent and obtain values $W^{k}_{grad}$ and $b^{k}_{grad}$ for $k = 0, 1, ..., 5$ which I will use to update my kernels and biases, respectively. This is the whole point of the back propagation algorithm as it allows me to train my MLP network by updating my kernels and biases."
   ]
  },
  {
   "cell_type": "code",
   "execution_count": 688,
   "metadata": {},
   "outputs": [],
   "source": [
    "def grads(delta1, delta2, delta3, delta4, delta5, delta6, h0, h1, h2, h3, h4, h5):\n",
    "    \n",
    "    grad_W0 = (delta1.T @ h0).T\n",
    "    grad_b0 = delta1\n",
    "    grad_W1 = (delta2.T @ h1).T\n",
    "    grad_b1 = delta2\n",
    "    grad_W2 = (delta3.T @ h2).T\n",
    "    grad_b2 = delta3\n",
    "    grad_W3 = (delta4.T @ h3).T\n",
    "    grad_b3 = delta4\n",
    "    grad_W4 = (delta5.T @ h4).T\n",
    "    grad_b4 = delta5\n",
    "    grad_W5 = (delta6.T @ h5).T\n",
    "    grad_b5 = delta6\n",
    "    \n",
    "    grad_b0 = np.mean(grad_b0, axis=0)\n",
    "    grad_b1 = np.mean(grad_b1, axis=0)\n",
    "    grad_b2 = np.mean(grad_b2, axis=0)\n",
    "    grad_b3 = np.mean(grad_b3, axis=0)\n",
    "    grad_b4 = np.mean(grad_b4, axis=0)\n",
    "    grad_b5 = np.mean(grad_b5, axis=0)\n",
    "    grad_b5 = np.mean(grad_b5, axis=0)\n",
    "    \n",
    "    return grad_W0, grad_b0, grad_W1, grad_b1, grad_W2, grad_b2, grad_W3, grad_b3, grad_W4, grad_b4, grad_W5, grad_b5"
   ]
  },
  {
   "cell_type": "markdown",
   "metadata": {},
   "source": [
    "I will handle the data here by first flattening it, then shuffling it and then shaving off the last 80 dataset points so that I am able to run 390 iterations on different batches of size 128 (as 390 x 128 = 49920). This will not significantly impact my network but will ensure that I do not run into any dimension errors. I do these steps for both the training and validation datasets but for the validation dataset I shave off the last 16 dataset points so that I am able to run 78 iterations on different batches of size 128 (as 78 x 128 = 9984). Now, the training and validation datasets are ready for me to run my MLP network on."
   ]
  },
  {
   "cell_type": "code",
   "execution_count": 673,
   "metadata": {},
   "outputs": [],
   "source": [
    "x_train = np.reshape(x_train, (x_train.shape[0], 3072))\n",
    "train_data = np.concatenate((x_train, y_train), axis = 1)\n",
    "np.random.shuffle(train_data)\n",
    "train_data = train_data[:49920, :]\n",
    "train_data1 = np.split(train_data, 390)\n",
    "\n",
    "x_val = np.reshape(x_val, (x_val.shape[0], 3072))\n",
    "val_data = np.concatenate((x_val, y_val), axis = 1)\n",
    "np.random.shuffle(val_data)\n",
    "val_data = val_data[:9984, :]\n",
    "val_data1 = np.split(val_data, 78)"
   ]
  },
  {
   "cell_type": "markdown",
   "metadata": {},
   "source": [
    "Finally, I will implement all of the theory explained above in order to create my 'MLP_SGD()' function which will call most of the functions that I have defined above. It will take as inputs the number of epochs and the desired learning rate, and output the losses and accuracies for both the training and validation datasets."
   ]
  },
  {
   "cell_type": "code",
   "execution_count": 699,
   "metadata": {},
   "outputs": [],
   "source": [
    "# Define a function that implements MLP with SGD as the optimizer and lets me choose the learning rate and \n",
    "# number of epochs\n",
    "def MLP_SGD(epochs, learning_rate):\n",
    "    \n",
    "    # Define the number of iterations that will I use\n",
    "    iter_train = 390\n",
    "    iter_val = 78\n",
    "    \n",
    "    # Initialise the parameters, these will then be updated after each iteration\n",
    "    var0 = 2. / (400 + 3072)\n",
    "    W0 = np.random.randn(3072, 400) * np.sqrt(var0)\n",
    "    b0 = np.zeros(400)\n",
    "\n",
    "    var1 = 2. / (400 + 400)\n",
    "    W1 = np.random.randn(400, 400) * np.sqrt(var1)\n",
    "    b1 = np.zeros(400)\n",
    "\n",
    "    var2 = 2. / (400 + 400)\n",
    "    W2 = np.random.randn(400, 400) * np.sqrt(var2)\n",
    "    b2 = np.zeros(400)\n",
    "\n",
    "    var3 = 2. / (400 + 400)\n",
    "    W3 = np.random.randn(400, 400) * np.sqrt(var3)\n",
    "    b3 = np.zeros(400)\n",
    "\n",
    "    var4 = 2. / (400 + 400)\n",
    "    W4 = np.random.randn(400, 400) * np.sqrt(var4)\n",
    "    b4 = np.zeros(400)\n",
    "\n",
    "    var5 = 2. / (10 + 400)\n",
    "    W5 = np.random.randn(400, 10) * np.sqrt(var5)\n",
    "    b5 = np.zeros(10)\n",
    "    \n",
    "    # Preallocate the losses and accuracies over an entire epoch for the training and validation sets\n",
    "    train_losses = []\n",
    "    train_accuracies = []\n",
    "    val_losses = []\n",
    "    val_accuracies = []\n",
    "\n",
    "    for epoch in range(epochs):\n",
    "        # Keep track of the epochs\n",
    "        print('Epoch:', epoch + 1)\n",
    "        \n",
    "        # Preallocate the losses and accuracies over an entire iteration for the training set\n",
    "        train_batch_losses = []\n",
    "        train_batch_accuracies = []\n",
    "        \n",
    "        for i in range(iter_train):\n",
    "            x_train_batch = train_data1[i][:, :3072]\n",
    "            h0 = x_train_batch\n",
    "            y_train_batch = train_data1[i][:, 3072:]\n",
    "\n",
    "            # Apply the forward propagation step to obtain h's and y_hat\n",
    "            a1 = dense(h0, W0, b0)\n",
    "            h1 = np.tanh(a1)\n",
    "            a2 = dense(h1, W1, b1)\n",
    "            h2 = np.tanh(a2)\n",
    "            a3 = dense(h2, W2, b2)\n",
    "            h3 = np.tanh(a3)\n",
    "            a4 = dense(h3, W3, b3)\n",
    "            h4 = np.tanh(a4)\n",
    "            a5 = dense(h4, W4, b4)\n",
    "            h5 = np.tanh(a5)\n",
    "            y = dense(h5, W5, b5)\n",
    "            y_hat = softmax_fn(y)\n",
    "        \n",
    "            # Calculate the loss using cross entropy then find the respective losses and accuracies and updating the\n",
    "            # preallocations\n",
    "            # Calculate the error to find delta6 to start back propagation\n",
    "            train_batch_loss = cross_ent_loss(y_hat, y_train_batch)\n",
    "            train_batch_losses.append(train_batch_loss)\n",
    "            train_batch_accuracy = get_acc(y_hat, y_train_batch)\n",
    "            train_batch_accuracies.append(train_batch_accuracy)\n",
    "            del6 = output_error(y_train_batch, y_hat)\n",
    "        \n",
    "            # Use back propagation to calculate the deltas\n",
    "            del5 = back_prop(del6, W5, a5)\n",
    "            del4 = back_prop(del5, W4, a4)\n",
    "            del3 = back_prop(del4, W3, a3)\n",
    "            del2 = back_prop(del3, W2, a2)\n",
    "            del1 = back_prop(del2, W1, a1)\n",
    "        \n",
    "            # Feed the h's from forward propagation and deltas from back propagation to obtain values that I will \n",
    "            # then use to update our kernels and biases\n",
    "            grad_W0, grad_b0, grad_W1, grad_b1, grad_W2, grad_b2, grad_W3, grad_b3, grad_W4, grad_b4, grad_W5, grad_b5 = grads(del1, del2, del3, del4, del5, del6, h0, h1, h2, h3, h4, h5)\n",
    "        \n",
    "            # Update kernels and biases\n",
    "            b0 -= learning_rate * grad_b0\n",
    "            b1 -= learning_rate * grad_b1\n",
    "            b2 -= learning_rate * grad_b2\n",
    "            b3 -= learning_rate * grad_b3\n",
    "            b4 -= learning_rate * grad_b4\n",
    "            b5 -= learning_rate * grad_b5\n",
    "\n",
    "            W0 -= learning_rate * grad_W0\n",
    "            W1 -= learning_rate * grad_W1\n",
    "            W2 -= learning_rate * grad_W2\n",
    "            W3 -= learning_rate * grad_W3\n",
    "            W4 -= learning_rate * grad_W4\n",
    "            W5 -= learning_rate * grad_W5\n",
    "            \n",
    "        # Calculate the error using cross entropy then find the respective losses and accuracies and updating my\n",
    "        # preallocations\n",
    "        train_losses.append(np.mean(train_batch_losses))\n",
    "        print('Training loss after this epoch', np.mean(train_batch_losses))\n",
    "        train_accuracies.append(np.mean(train_batch_accuracies))\n",
    "        print('Training accuracy after this epoch', np.mean(train_batch_accuracies))\n",
    "        \n",
    "# Now to use these updated kernels and biases on the validation set\n",
    "        \n",
    "    \n",
    "        # Preallocate the losses and accuracies over an entire iteration for the validation set\n",
    "        val_batch_losses = []\n",
    "        val_batch_accuracies = []\n",
    "        \n",
    "        for i in range(iter_val):            \n",
    "            # Define the batches of 128 data points\n",
    "            x_val_batch = val_data1[i][:, :3072]\n",
    "            h0 = x_val_batch\n",
    "            y_val_batch = val_data1[i][:, 3072:]\n",
    "            \n",
    "            # Apply the forward propagation step to obtain h's and y_hat\n",
    "            a1 = dense(h0, W0, b0)\n",
    "            h1 = np.tanh(a1)\n",
    "            a2 = dense(h1, W1, b1)\n",
    "            h2 = np.tanh(a2)\n",
    "            a3 = dense(h2, W2, b2)\n",
    "            h3 = np.tanh(a3)\n",
    "            a4 = dense(h3, W3, b3)\n",
    "            h4 = np.tanh(a4)\n",
    "            a5 = dense(h4, W4, b4)\n",
    "            h5 = np.tanh(a5)\n",
    "            y = dense(h5, W5, b5)\n",
    "            y_hat = softmax_fn(y)\n",
    "    \n",
    "            # Calculate the loss using cross entropy then find the respective losses and accuracies and updating the\n",
    "            # preallocations\n",
    "            # Calculate the error to find delta6 to start back propagation\n",
    "            val_batch_loss = cross_ent_loss(y_hat, y_val_batch)\n",
    "            val_batch_losses.append(val_batch_loss)\n",
    "            val_batch_accuracy = get_acc(y_hat, y_val_batch)\n",
    "            val_batch_accuracies.append(val_batch_accuracy)\n",
    "            \n",
    "        # Calculate the error using cross entropy then find the respective losses and accuracies and updating the\n",
    "        # preallocations\n",
    "        val_losses.append(np.mean(val_batch_losses))\n",
    "        print('Validation loss after this epoch', np.mean(val_batch_losses))\n",
    "        val_accuracies.append(np.mean(val_batch_accuracies))\n",
    "        print('Validation accuracy after this epoch', np.mean(val_batch_accuracies))\n",
    "    \n",
    "    return train_losses, train_accuracies, val_losses, val_accuracies"
   ]
  },
  {
   "cell_type": "markdown",
   "metadata": {},
   "source": [
    "I will now implement my 'MLP_SGD()' function with the epochs set to 40 and the learning rate set to 0.01 and see what values I obtain for the losses and accuracies for both the training and validation datasets."
   ]
  },
  {
   "cell_type": "code",
   "execution_count": 700,
   "metadata": {},
   "outputs": [
    {
     "name": "stdout",
     "output_type": "stream",
     "text": [
      "Epoch: 1\n",
      "Training loss after this epoch 1.9355219909515353\n",
      "Training accuracy after this epoch 0.3074519230769231\n",
      "Validation loss after this epoch 1.845391531412282\n",
      "Validation accuracy after this epoch 0.3278245192307692\n",
      "Epoch: 2\n",
      "Training loss after this epoch 1.7880937038118883\n",
      "Training accuracy after this epoch 0.36606570512820513\n",
      "Validation loss after this epoch 1.8086824194396958\n",
      "Validation accuracy after this epoch 0.3407451923076923\n",
      "Epoch: 3\n",
      "Training loss after this epoch 1.7329984634031852\n",
      "Training accuracy after this epoch 0.38719951923076923\n",
      "Validation loss after this epoch 1.785955668761626\n",
      "Validation accuracy after this epoch 0.34915865384615385\n",
      "Epoch: 4\n",
      "Training loss after this epoch 1.688486362880583\n",
      "Training accuracy after this epoch 0.4046073717948718\n",
      "Validation loss after this epoch 1.747365187642476\n",
      "Validation accuracy after this epoch 0.36728766025641024\n",
      "Epoch: 5\n",
      "Training loss after this epoch 1.6511772848665358\n",
      "Training accuracy after this epoch 0.4158253205128205\n",
      "Validation loss after this epoch 1.710283219637559\n",
      "Validation accuracy after this epoch 0.3815104166666667\n",
      "Epoch: 6\n",
      "Training loss after this epoch 1.6203492462773452\n",
      "Training accuracy after this epoch 0.426161858974359\n",
      "Validation loss after this epoch 1.6800255945236522\n",
      "Validation accuracy after this epoch 0.39372996794871795\n",
      "Epoch: 7\n",
      "Training loss after this epoch 1.5943001919889546\n",
      "Training accuracy after this epoch 0.4344150641025641\n",
      "Validation loss after this epoch 1.6555007637434813\n",
      "Validation accuracy after this epoch 0.3996394230769231\n",
      "Epoch: 8\n",
      "Training loss after this epoch 1.571548801670307\n",
      "Training accuracy after this epoch 0.4424278846153846\n",
      "Validation loss after this epoch 1.6350016926356576\n",
      "Validation accuracy after this epoch 0.40635016025641024\n",
      "Epoch: 9\n",
      "Training loss after this epoch 1.5511069513595488\n",
      "Training accuracy after this epoch 0.4490785256410256\n",
      "Validation loss after this epoch 1.6173502962314474\n",
      "Validation accuracy after this epoch 0.41165865384615385\n",
      "Epoch: 10\n",
      "Training loss after this epoch 1.5323298420284794\n",
      "Training accuracy after this epoch 0.4555088141025641\n",
      "Validation loss after this epoch 1.6017776382392976\n",
      "Validation accuracy after this epoch 0.4195713141025641\n",
      "Epoch: 11\n",
      "Training loss after this epoch 1.5147728152301005\n",
      "Training accuracy after this epoch 0.461318108974359\n",
      "Validation loss after this epoch 1.587736062700575\n",
      "Validation accuracy after this epoch 0.42407852564102566\n",
      "Epoch: 12\n",
      "Training loss after this epoch 1.4981170887150737\n",
      "Training accuracy after this epoch 0.46694711538461536\n",
      "Validation loss after this epoch 1.5747889229159868\n",
      "Validation accuracy after this epoch 0.4305889423076923\n",
      "Epoch: 13\n",
      "Training loss after this epoch 1.4821331817049734\n",
      "Training accuracy after this epoch 0.47269631410256413\n",
      "Validation loss after this epoch 1.562578726304521\n",
      "Validation accuracy after this epoch 0.43509615384615385\n",
      "Epoch: 14\n",
      "Training loss after this epoch 1.4666610612672892\n",
      "Training accuracy after this epoch 0.4786258012820513\n",
      "Validation loss after this epoch 1.5508384477268078\n",
      "Validation accuracy after this epoch 0.437900641025641\n",
      "Epoch: 15\n",
      "Training loss after this epoch 1.4515973370899624\n",
      "Training accuracy after this epoch 0.48373397435897436\n",
      "Validation loss after this epoch 1.5394043829498465\n",
      "Validation accuracy after this epoch 0.44190705128205127\n",
      "Epoch: 16\n",
      "Training loss after this epoch 1.4368837994177015\n",
      "Training accuracy after this epoch 0.48938301282051283\n",
      "Validation loss after this epoch 1.5282097430928008\n",
      "Validation accuracy after this epoch 0.4463141025641026\n",
      "Epoch: 17\n",
      "Training loss after this epoch 1.4224957818264372\n",
      "Training accuracy after this epoch 0.49439102564102566\n",
      "Validation loss after this epoch 1.517262756756809\n",
      "Validation accuracy after this epoch 0.45202323717948717\n",
      "Epoch: 18\n",
      "Training loss after this epoch 1.4084314632719275\n",
      "Training accuracy after this epoch 0.4999198717948718\n",
      "Validation loss after this epoch 1.5066246111083064\n",
      "Validation accuracy after this epoch 0.4550280448717949\n",
      "Epoch: 19\n",
      "Training loss after this epoch 1.3947028605233092\n",
      "Training accuracy after this epoch 0.505869391025641\n",
      "Validation loss after this epoch 1.4963885738990181\n",
      "Validation accuracy after this epoch 0.45923477564102566\n",
      "Epoch: 20\n",
      "Training loss after this epoch 1.38132821933412\n",
      "Training accuracy after this epoch 0.510536858974359\n",
      "Validation loss after this epoch 1.4866476724912936\n",
      "Validation accuracy after this epoch 0.46314102564102566\n",
      "Epoch: 21\n",
      "Training loss after this epoch 1.3683250796599347\n",
      "Training accuracy after this epoch 0.5152043269230769\n",
      "Validation loss after this epoch 1.4774613441932445\n",
      "Validation accuracy after this epoch 0.465244391025641\n",
      "Epoch: 22\n",
      "Training loss after this epoch 1.3557034054090769\n",
      "Training accuracy after this epoch 0.5197315705128205\n",
      "Validation loss after this epoch 1.468848280609568\n",
      "Validation accuracy after this epoch 0.4678485576923077\n",
      "Epoch: 23\n",
      "Training loss after this epoch 1.3434596608583422\n",
      "Training accuracy after this epoch 0.5249198717948718\n",
      "Validation loss after this epoch 1.4608036037310914\n",
      "Validation accuracy after this epoch 0.4714543269230769\n",
      "Epoch: 24\n",
      "Training loss after this epoch 1.3315744709510702\n",
      "Training accuracy after this epoch 0.5297475961538461\n",
      "Validation loss after this epoch 1.4533166894784217\n",
      "Validation accuracy after this epoch 0.4745592948717949\n",
      "Epoch: 25\n",
      "Training loss after this epoch 1.3200154900594965\n",
      "Training accuracy after this epoch 0.5332732371794872\n",
      "Validation loss after this epoch 1.4463777103685675\n",
      "Validation accuracy after this epoch 0.4765625\n",
      "Epoch: 26\n",
      "Training loss after this epoch 1.3087438311512023\n",
      "Training accuracy after this epoch 0.5373397435897436\n",
      "Validation loss after this epoch 1.4399763084418846\n",
      "Validation accuracy after this epoch 0.4811698717948718\n",
      "Epoch: 27\n",
      "Training loss after this epoch 1.2977205809385663\n",
      "Training accuracy after this epoch 0.5408653846153846\n",
      "Validation loss after this epoch 1.434099026040827\n",
      "Validation accuracy after this epoch 0.48377403846153844\n",
      "Epoch: 28\n",
      "Training loss after this epoch 1.2869109622825707\n",
      "Training accuracy after this epoch 0.5456730769230769\n",
      "Validation loss after this epoch 1.4287287127344048\n",
      "Validation accuracy after this epoch 0.48647836538461536\n",
      "Epoch: 29\n",
      "Training loss after this epoch 1.27628579006156\n",
      "Training accuracy after this epoch 0.5497596153846154\n",
      "Validation loss after this epoch 1.4238457938686837\n",
      "Validation accuracy after this epoch 0.48717948717948717\n",
      "Epoch: 30\n",
      "Training loss after this epoch 1.2658211278562506\n",
      "Training accuracy after this epoch 0.5536057692307692\n",
      "Validation loss after this epoch 1.4194301145073467\n",
      "Validation accuracy after this epoch 0.4898838141025641\n",
      "Epoch: 31\n",
      "Training loss after this epoch 1.2554972016649562\n",
      "Training accuracy after this epoch 0.5572315705128205\n",
      "Validation loss after this epoch 1.4154623738706935\n",
      "Validation accuracy after this epoch 0.4908854166666667\n",
      "Epoch: 32\n",
      "Training loss after this epoch 1.2452972508812885\n",
      "Training accuracy after this epoch 0.5603966346153846\n",
      "Validation loss after this epoch 1.4119248088807728\n",
      "Validation accuracy after this epoch 0.4928886217948718\n",
      "Epoch: 33\n",
      "Training loss after this epoch 1.2352066036266125\n",
      "Training accuracy after this epoch 0.5633814102564103\n",
      "Validation loss after this epoch 1.4088012094276854\n",
      "Validation accuracy after this epoch 0.4946915064102564\n",
      "Epoch: 34\n",
      "Training loss after this epoch 1.2252120278005312\n",
      "Training accuracy after this epoch 0.5673277243589744\n",
      "Validation loss after this epoch 1.406076503445187\n",
      "Validation accuracy after this epoch 0.49619391025641024\n",
      "Epoch: 35\n",
      "Training loss after this epoch 1.2153013120748375\n",
      "Training accuracy after this epoch 0.5709935897435897\n",
      "Validation loss after this epoch 1.403736156721294\n",
      "Validation accuracy after this epoch 0.4973958333333333\n",
      "Epoch: 36\n",
      "Training loss after this epoch 1.2054630101270971\n",
      "Training accuracy after this epoch 0.5742387820512821\n",
      "Validation loss after this epoch 1.4017655834387486\n",
      "Validation accuracy after this epoch 0.4989983974358974\n",
      "Epoch: 37\n",
      "Training loss after this epoch 1.1956862912897182\n",
      "Training accuracy after this epoch 0.577744391025641\n",
      "Validation loss after this epoch 1.4001496976262244\n",
      "Validation accuracy after this epoch 0.49919871794871795\n",
      "Epoch: 38\n",
      "Training loss after this epoch 1.1859608587669317\n",
      "Training accuracy after this epoch 0.5811498397435897\n",
      "Validation loss after this epoch 1.3988726685679596\n",
      "Validation accuracy after this epoch 0.500801282051282\n",
      "Epoch: 39\n",
      "Training loss after this epoch 1.1762769130346986\n",
      "Training accuracy after this epoch 0.584375\n",
      "Validation loss after this epoch 1.3979178863300656\n",
      "Validation accuracy after this epoch 0.5011017628205128\n",
      "Epoch: 40\n",
      "Training loss after this epoch 1.1666251487961714\n",
      "Training accuracy after this epoch 0.5882011217948718\n",
      "Validation loss after this epoch 1.3972681053371176\n",
      "Validation accuracy after this epoch 0.5013020833333334\n"
     ]
    }
   ],
   "source": [
    "train_losses1, train_accuracies1, val_losses1, val_accuracies1 = MLP_SGD(40, 0.01)"
   ]
  },
  {
   "cell_type": "markdown",
   "metadata": {},
   "source": [
    "I will now plot these training and validation losses and accuracies against the number of epochs to see how well our MLP model is learning for 40 epochs and a learning rate of 0.01:"
   ]
  },
  {
   "cell_type": "code",
   "execution_count": 701,
   "metadata": {},
   "outputs": [
    {
     "data": {
      "image/png": "[encoded data removed]",
      "text/plain": [
       "<Figure size 864x360 with 2 Axes>"
      ]
     },
     "metadata": {
      "needs_background": "light"
     },
     "output_type": "display_data"
    }
   ],
   "source": [
    "# Plot the learning curves\n",
    "fig = plt.figure(figsize=(12, 5))\n",
    "\n",
    "# Plot loss vs epoch\n",
    "fig.add_subplot(121)\n",
    "# Plot losses of training and validation sets\n",
    "plt.plot(train_losses1, label = 'Train');\n",
    "plt.plot(val_losses1, label = 'Validation');\n",
    "plt.xlabel('The number of epochs');\n",
    "plt.ylabel('The losses');\n",
    "plt.title('Plot of losses against epochs');\n",
    "plt.legend()\n",
    "\n",
    "\n",
    "# Plot accuracy vs epoch\n",
    "fig.add_subplot(122)\n",
    "plt.plot(train_accuracies1, label = 'Train');\n",
    "plt.plot(val_accuracies1, label = 'Validation');\n",
    "plt.xlabel('The number of epochs');\n",
    "plt.ylabel('The accuracies');\n",
    "plt.title('Plot of accuracies against epochs');\n",
    "plt.legend()\n",
    "\n",
    "plt.show()"
   ]
  },
  {
   "cell_type": "markdown",
   "metadata": {},
   "source": [
    "I will start with the losses, from the plot above on the left it is clear to see that the training loss starts off rapidly decreasing but does not look to be converging and seems to be tending towards a linear function while the validation loss starts off decreasing quite quickly but seems to be converging, it seems as though if we were to run this for more epochs the training and validation losses would continue to diverge. The training loss is at 1.2 after 40 epochs but as stated before does not seem to be converging at all and the validation loss is converging to 1.4. Now for the accuracies, from the plot above on the right it is clear to see that the training accuracy starts off rapidly increasing but again does not seem to be converging and seems to be tending again to a linear function while the validation accuracy starts off increasing fairly quickly but seems to be converging or maybe a maximum. The training accuracy is at 60% after 40 epochs but as stated before does not seem to be converging at all and the validation accuracy is converging to 50%. Here we have overfitting because the MLP network performs worse on the validation dataset compared to the training dataset and so the MLP network is not generalisable and prone to high variation for a new dataset."
   ]
  },
  {
   "cell_type": "markdown",
   "metadata": {},
   "source": [
    "### Part 1.1.2"
   ]
  },
  {
   "cell_type": "markdown",
   "metadata": {},
   "source": [
    "I will now implement my 'MLP_SGD()' function with the epochs set to 40 again, but this time with the learning rate set to 0.0001 and see how a lower learning rate impacts the values I obtain for the losses and accuracies for both the training and validation datasets."
   ]
  },
  {
   "cell_type": "code",
   "execution_count": 702,
   "metadata": {},
   "outputs": [
    {
     "name": "stdout",
     "output_type": "stream",
     "text": [
      "Epoch: 1\n",
      "Training loss after this epoch 2.3275697189785327\n",
      "Training accuracy after this epoch 0.11043669871794871\n",
      "Validation loss after this epoch 2.2944069367729147\n",
      "Validation accuracy after this epoch 0.12810496794871795\n",
      "Epoch: 2\n",
      "Training loss after this epoch 2.280950881872569\n",
      "Training accuracy after this epoch 0.14419070512820512\n",
      "Validation loss after this epoch 2.267327244960877\n",
      "Validation accuracy after this epoch 0.16917067307692307\n",
      "Epoch: 3\n",
      "Training loss after this epoch 2.255840174425377\n",
      "Training accuracy after this epoch 0.1756209935897436\n",
      "Validation loss after this epoch 2.24402820421246\n",
      "Validation accuracy after this epoch 0.20072115384615385\n",
      "Epoch: 4\n",
      "Training loss after this epoch 2.233067981781217\n",
      "Training accuracy after this epoch 0.20028044871794873\n",
      "Validation loss after this epoch 2.2223084999133356\n",
      "Validation accuracy after this epoch 0.22205528846153846\n",
      "Epoch: 5\n",
      "Training loss after this epoch 2.2116763517783995\n",
      "Training accuracy after this epoch 0.2206330128205128\n",
      "Validation loss after this epoch 2.201702069790499\n",
      "Validation accuracy after this epoch 0.2375801282051282\n",
      "Epoch: 6\n",
      "Training loss after this epoch 2.1913195279999114\n",
      "Training accuracy after this epoch 0.23535657051282052\n",
      "Validation loss after this epoch 2.181973928828715\n",
      "Validation accuracy after this epoch 0.25\n",
      "Epoch: 7\n",
      "Training loss after this epoch 2.1718264458715795\n",
      "Training accuracy after this epoch 0.2467548076923077\n",
      "Validation loss after this epoch 2.1630226113815745\n",
      "Validation accuracy after this epoch 0.25931490384615385\n",
      "Epoch: 8\n",
      "Training loss after this epoch 2.153135688425953\n",
      "Training accuracy after this epoch 0.2571514423076923\n",
      "Validation loss after this epoch 2.1448311734499788\n",
      "Validation accuracy after this epoch 0.2704326923076923\n",
      "Epoch: 9\n",
      "Training loss after this epoch 2.1352513545160408\n",
      "Training accuracy after this epoch 0.2643028846153846\n",
      "Validation loss after this epoch 2.127428635292515\n",
      "Validation accuracy after this epoch 0.27944711538461536\n",
      "Epoch: 10\n",
      "Training loss after this epoch 2.118208279655213\n",
      "Training accuracy after this epoch 0.27103365384615385\n",
      "Validation loss after this epoch 2.110860096938998\n",
      "Validation accuracy after this epoch 0.2837540064102564\n",
      "Epoch: 11\n",
      "Training loss after this epoch 2.1020463231138926\n",
      "Training accuracy after this epoch 0.2762019230769231\n",
      "Validation loss after this epoch 2.095165894708918\n",
      "Validation accuracy after this epoch 0.2876602564102564\n",
      "Epoch: 12\n",
      "Training loss after this epoch 2.0867938773662265\n",
      "Training accuracy after this epoch 0.280488782051282\n",
      "Validation loss after this epoch 2.080369570584091\n",
      "Validation accuracy after this epoch 0.2909655448717949\n",
      "Epoch: 13\n",
      "Training loss after this epoch 2.0724597435197354\n",
      "Training accuracy after this epoch 0.2849158653846154\n",
      "Validation loss after this epoch 2.066473278803319\n",
      "Validation accuracy after this epoch 0.29447115384615385\n",
      "Epoch: 14\n",
      "Training loss after this epoch 2.059031499006008\n",
      "Training accuracy after this epoch 0.28818108974358975\n",
      "Validation loss after this epoch 2.0534585029181533\n",
      "Validation accuracy after this epoch 0.29927884615384615\n",
      "Epoch: 15\n",
      "Training loss after this epoch 2.046478065762257\n",
      "Training accuracy after this epoch 0.2914863782051282\n",
      "Validation loss after this epoch 2.041289855642557\n",
      "Validation accuracy after this epoch 0.3027844551282051\n",
      "Epoch: 16\n",
      "Training loss after this epoch 2.0347543650675384\n",
      "Training accuracy after this epoch 0.29521233974358974\n",
      "Validation loss after this epoch 2.02992010310771\n",
      "Validation accuracy after this epoch 0.3043870192307692\n",
      "Epoch: 17\n",
      "Training loss after this epoch 2.023806458277779\n",
      "Training accuracy after this epoch 0.29897836538461536\n",
      "Validation loss after this epoch 2.0192951230591016\n",
      "Validation accuracy after this epoch 0.3055889423076923\n",
      "Epoch: 18\n",
      "Training loss after this epoch 2.013576170493706\n",
      "Training accuracy after this epoch 0.30252403846153847\n",
      "Validation loss after this epoch 2.009358071528239\n",
      "Validation accuracy after this epoch 0.30879407051282054\n",
      "Epoch: 19\n",
      "Training loss after this epoch 2.0040047184534795\n",
      "Training accuracy after this epoch 0.3047676282051282\n",
      "Validation loss after this epoch 2.00005248315268\n",
      "Validation accuracy after this epoch 0.3098958333333333\n",
      "Epoch: 20\n",
      "Training loss after this epoch 1.9950352419574973\n",
      "Training accuracy after this epoch 0.3072315705128205\n",
      "Validation loss after this epoch 1.9913243274289816\n",
      "Validation accuracy after this epoch 0.312099358974359\n",
      "Epoch: 21\n",
      "Training loss after this epoch 1.9866143601757402\n",
      "Training accuracy after this epoch 0.31001602564102565\n",
      "Validation loss after this epoch 1.9831231977093409\n",
      "Validation accuracy after this epoch 0.31490384615384615\n",
      "Epoch: 22\n",
      "Training loss after this epoch 1.9786929689129602\n",
      "Training accuracy after this epoch 0.31239983974358976\n",
      "Validation loss after this epoch 1.9754028587226173\n",
      "Validation accuracy after this epoch 0.3173076923076923\n",
      "Epoch: 23\n",
      "Training loss after this epoch 1.971226505458314\n",
      "Training accuracy after this epoch 0.3150240384615385\n",
      "Validation loss after this epoch 1.968121364059474\n",
      "Validation accuracy after this epoch 0.31881009615384615\n",
      "Epoch: 24\n",
      "Training loss after this epoch 1.9641748743064729\n",
      "Training accuracy after this epoch 0.31688701923076923\n",
      "Validation loss after this epoch 1.961240912261995\n",
      "Validation accuracy after this epoch 0.3216145833333333\n",
      "Epoch: 25\n",
      "Training loss after this epoch 1.957502178975059\n",
      "Training accuracy after this epoch 0.31877003205128207\n",
      "Validation loss after this epoch 1.9547275619318167\n",
      "Validation accuracy after this epoch 0.32361778846153844\n",
      "Epoch: 26\n",
      "Training loss after this epoch 1.9511763592540496\n",
      "Training accuracy after this epoch 0.3203125\n",
      "Validation loss after this epoch 1.9485508846019997\n",
      "Validation accuracy after this epoch 0.32532051282051283\n",
      "Epoch: 27\n",
      "Training loss after this epoch 1.9451687967060276\n",
      "Training accuracy after this epoch 0.3221554487179487\n",
      "Validation loss after this epoch 1.9426836030296368\n",
      "Validation accuracy after this epoch 0.3269230769230769\n",
      "Epoch: 28\n",
      "Training loss after this epoch 1.9394539252609222\n",
      "Training accuracy after this epoch 0.324599358974359\n",
      "Validation loss after this epoch 1.937101241566589\n",
      "Validation accuracy after this epoch 0.32802483974358976\n",
      "Epoch: 29\n",
      "Training loss after this epoch 1.9340088666490163\n",
      "Training accuracy after this epoch 0.3261418269230769\n",
      "Validation loss after this epoch 1.9317818020678903\n",
      "Validation accuracy after this epoch 0.33032852564102566\n",
      "Epoch: 30\n",
      "Training loss after this epoch 1.9288130997820805\n",
      "Training accuracy after this epoch 0.32754407051282053\n",
      "Validation loss after this epoch 1.926705470943649\n",
      "Validation accuracy after this epoch 0.33153044871794873\n",
      "Epoch: 31\n",
      "Training loss after this epoch 1.923848166888953\n",
      "Training accuracy after this epoch 0.3296073717948718\n",
      "Validation loss after this epoch 1.9218543585032917\n",
      "Validation accuracy after this epoch 0.33313301282051283\n",
      "Epoch: 32\n",
      "Training loss after this epoch 1.919097415671872\n",
      "Training accuracy after this epoch 0.33106971153846154\n",
      "Validation loss after this epoch 1.917212269350989\n",
      "Validation accuracy after this epoch 0.3346354166666667\n",
      "Epoch: 33\n",
      "Training loss after this epoch 1.9145457749245496\n",
      "Training accuracy after this epoch 0.332411858974359\n",
      "Validation loss after this epoch 1.9127645014280723\n",
      "Validation accuracy after this epoch 0.335536858974359\n",
      "Epoch: 34\n",
      "Training loss after this epoch 1.9101795602663025\n",
      "Training accuracy after this epoch 0.33431490384615387\n",
      "Validation loss after this epoch 1.9084976708480734\n",
      "Validation accuracy after this epoch 0.33743990384615385\n",
      "Epoch: 35\n",
      "Training loss after this epoch 1.905986306465425\n",
      "Training accuracy after this epoch 0.33565705128205126\n",
      "Validation loss after this epoch 1.9043995596182084\n",
      "Validation accuracy after this epoch 0.3388421474358974\n",
      "Epoch: 36\n",
      "Training loss after this epoch 1.9019546229724518\n",
      "Training accuracy after this epoch 0.3372195512820513\n",
      "Validation loss after this epoch 1.9004589834950754\n",
      "Validation accuracy after this epoch 0.3411458333333333\n",
      "Epoch: 37\n",
      "Training loss after this epoch 1.8980740695856435\n",
      "Training accuracy after this epoch 0.3387019230769231\n",
      "Validation loss after this epoch 1.896665677465627\n",
      "Validation accuracy after this epoch 0.3424479166666667\n",
      "Epoch: 38\n",
      "Training loss after this epoch 1.894335049522065\n",
      "Training accuracy after this epoch 0.3397636217948718\n",
      "Validation loss after this epoch 1.8930101966101018\n",
      "Validation accuracy after this epoch 0.34375\n",
      "Epoch: 39\n",
      "Training loss after this epoch 1.8907287175104004\n",
      "Training accuracy after this epoch 0.3410456730769231\n",
      "Validation loss after this epoch 1.8894838303570014\n",
      "Validation accuracy after this epoch 0.34555288461538464\n",
      "Epoch: 40\n",
      "Training loss after this epoch 1.8872469008293224\n",
      "Training accuracy after this epoch 0.3421073717948718\n",
      "Validation loss after this epoch 1.8860785283669936\n",
      "Validation accuracy after this epoch 0.34585336538461536\n"
     ]
    }
   ],
   "source": [
    "train_losses2, train_accuracies2, val_losses2, val_accuracies2 = MLP_SGD(40, 0.0001)"
   ]
  },
  {
   "cell_type": "markdown",
   "metadata": {},
   "source": [
    "I will now plot these training and validation losses and accuracies against the number of epochs to see how well our MLP model is learning for 40 epochs and a lower learning rate of 0.0001:"
   ]
  },
  {
   "cell_type": "code",
   "execution_count": 703,
   "metadata": {},
   "outputs": [
    {
     "data": {
      "image/png": "[encoded data removed]",
      "text/plain": [
       "<Figure size 864x360 with 2 Axes>"
      ]
     },
     "metadata": {
      "needs_background": "light"
     },
     "output_type": "display_data"
    }
   ],
   "source": [
    "# Plot the learning curves\n",
    "fig = plt.figure(figsize=(12, 5))\n",
    "\n",
    "# Plot loss vs epoch\n",
    "fig.add_subplot(121)\n",
    "# Plot losses of training and validation sets\n",
    "plt.plot(train_losses2, label = 'Train');\n",
    "plt.plot(val_losses2, label = 'Validation');\n",
    "plt.xlabel('The number of epochs');\n",
    "plt.ylabel('The losses');\n",
    "plt.title('Plot of losses against epochs');\n",
    "plt.legend()\n",
    "\n",
    "\n",
    "# Plot accuracy vs epoch\n",
    "fig.add_subplot(122)\n",
    "plt.plot(train_accuracies2, label = 'Train');\n",
    "plt.plot(val_accuracies2, label = 'Validation');\n",
    "plt.xlabel('The number of epochs');\n",
    "plt.ylabel('The accuracies');\n",
    "plt.title('Plot of accuracies against epochs');\n",
    "plt.legend()\n",
    "\n",
    "plt.show()"
   ]
  },
  {
   "cell_type": "markdown",
   "metadata": {},
   "source": [
    "I will start with the losses, from the plot above on the left it is clear to see that the training loss and validation loss behave very similarly, they both start off decreasing but do seem to be slowly converging. The training and validation loss are starting to converge and seem as though they will go down to the range (1.8, 1.85). Now for the accuracies, from the plot above on the right it is clear to see that the training accuracy and validation accuracy also behave very similarly, they both start off increasing but do seem to be converging. The training and validation accuracy are starting to converge to 35%. Here we have do not have overfitting because the MLP network performs almost the same on the training and validation datasets, so the MLP network is generalisable and not prone to high variation for a new dataset, however the accuracies are quite low so the MLP network does not perform too well. The difference now is that we have convergence and no overfitting, but the performance of the MLP network has significantly suffered."
   ]
  },
  {
   "cell_type": "markdown",
   "metadata": {},
   "source": [
    "I will now implement my 'MLP_SGD()' function with the epochs set to 40 again, but this time with the learning rate set to 0.1 and see how a higher learning rate impacts the values I obtain for the losses and accuracies for both the training and validation datasets."
   ]
  },
  {
   "cell_type": "code",
   "execution_count": 704,
   "metadata": {},
   "outputs": [
    {
     "name": "stdout",
     "output_type": "stream",
     "text": [
      "Epoch: 1\n",
      "Training loss after this epoch 2.304457525935077\n",
      "Training accuracy after this epoch 0.246474358974359\n",
      "Validation loss after this epoch 1.9677319449563566\n",
      "Validation accuracy after this epoch 0.2995793269230769\n",
      "Epoch: 2\n",
      "Training loss after this epoch 1.804627305920211\n",
      "Training accuracy after this epoch 0.35098157051282053\n",
      "Validation loss after this epoch 1.8919152366002459\n",
      "Validation accuracy after this epoch 0.3378405448717949\n",
      "Epoch: 3\n",
      "Training loss after this epoch 1.7080969641446335\n",
      "Training accuracy after this epoch 0.3879607371794872\n",
      "Validation loss after this epoch 1.9198194794163879\n",
      "Validation accuracy after this epoch 0.3379407051282051\n",
      "Epoch: 4\n",
      "Training loss after this epoch 1.6427701245902573\n",
      "Training accuracy after this epoch 0.4109775641025641\n",
      "Validation loss after this epoch 1.876054843131783\n",
      "Validation accuracy after this epoch 0.35236378205128205\n",
      "Epoch: 5\n",
      "Training loss after this epoch 1.5884107747972056\n",
      "Training accuracy after this epoch 0.4319110576923077\n",
      "Validation loss after this epoch 1.673444367990258\n",
      "Validation accuracy after this epoch 0.4065504807692308\n",
      "Epoch: 6\n",
      "Training loss after this epoch 1.5415072476168619\n",
      "Training accuracy after this epoch 0.44795673076923076\n",
      "Validation loss after this epoch 1.6584048820156363\n",
      "Validation accuracy after this epoch 0.41486378205128205\n",
      "Epoch: 7\n",
      "Training loss after this epoch 1.500848454448756\n",
      "Training accuracy after this epoch 0.4616786858974359\n",
      "Validation loss after this epoch 1.5995249824823516\n",
      "Validation accuracy after this epoch 0.4299879807692308\n",
      "Epoch: 8\n",
      "Training loss after this epoch 1.463088161132859\n",
      "Training accuracy after this epoch 0.4774238782051282\n",
      "Validation loss after this epoch 1.6223430157185892\n",
      "Validation accuracy after this epoch 0.4245793269230769\n",
      "Epoch: 9\n",
      "Training loss after this epoch 1.4280074005409682\n",
      "Training accuracy after this epoch 0.4895633012820513\n",
      "Validation loss after this epoch 1.6139853147923167\n",
      "Validation accuracy after this epoch 0.43028846153846156\n",
      "Epoch: 10\n",
      "Training loss after this epoch 1.3939478452047738\n",
      "Training accuracy after this epoch 0.5038060897435898\n",
      "Validation loss after this epoch 1.6243044275026235\n",
      "Validation accuracy after this epoch 0.42858573717948717\n",
      "Epoch: 11\n",
      "Training loss after this epoch 1.3641011085108339\n",
      "Training accuracy after this epoch 0.5134815705128205\n",
      "Validation loss after this epoch 1.5876811763421834\n",
      "Validation accuracy after this epoch 0.4342948717948718\n",
      "Epoch: 12\n",
      "Training loss after this epoch 1.335676759540715\n",
      "Training accuracy after this epoch 0.5240985576923077\n",
      "Validation loss after this epoch 1.5930088858920435\n",
      "Validation accuracy after this epoch 0.44220753205128205\n",
      "Epoch: 13\n",
      "Training loss after this epoch 1.3029926849912217\n",
      "Training accuracy after this epoch 0.5362780448717949\n",
      "Validation loss after this epoch 1.5905289585340618\n",
      "Validation accuracy after this epoch 0.44591346153846156\n",
      "Epoch: 14\n",
      "Training loss after this epoch 1.2701890912821725\n",
      "Training accuracy after this epoch 0.547636217948718\n",
      "Validation loss after this epoch 1.599310769964133\n",
      "Validation accuracy after this epoch 0.44861778846153844\n",
      "Epoch: 15\n",
      "Training loss after this epoch 1.244480118590746\n",
      "Training accuracy after this epoch 0.5569711538461538\n",
      "Validation loss after this epoch 1.5819954599496724\n",
      "Validation accuracy after this epoch 0.45372596153846156\n",
      "Epoch: 16\n",
      "Training loss after this epoch 1.220729242528705\n",
      "Training accuracy after this epoch 0.5656850961538461\n",
      "Validation loss after this epoch 1.585200696355936\n",
      "Validation accuracy after this epoch 0.4580328525641026\n",
      "Epoch: 17\n",
      "Training loss after this epoch 1.1875866395328516\n",
      "Training accuracy after this epoch 0.5763621794871795\n",
      "Validation loss after this epoch 1.549050807736039\n",
      "Validation accuracy after this epoch 0.46464342948717946\n",
      "Epoch: 18\n",
      "Training loss after this epoch 1.159456616979713\n",
      "Training accuracy after this epoch 0.5877804487179488\n",
      "Validation loss after this epoch 1.5517174259541595\n",
      "Validation accuracy after this epoch 0.47115384615384615\n",
      "Epoch: 19\n",
      "Training loss after this epoch 1.132294508347813\n",
      "Training accuracy after this epoch 0.5962740384615385\n",
      "Validation loss after this epoch 1.6378768393100411\n",
      "Validation accuracy after this epoch 0.452724358974359\n",
      "Epoch: 20\n",
      "Training loss after this epoch 1.0955036278202661\n",
      "Training accuracy after this epoch 0.610957532051282\n",
      "Validation loss after this epoch 1.5803798798664543\n",
      "Validation accuracy after this epoch 0.47315705128205127\n",
      "Epoch: 21\n",
      "Training loss after this epoch 1.0663450754791195\n",
      "Training accuracy after this epoch 0.6224759615384615\n",
      "Validation loss after this epoch 1.5394395858875716\n",
      "Validation accuracy after this epoch 0.4834735576923077\n",
      "Epoch: 22\n",
      "Training loss after this epoch 1.0412041899661486\n",
      "Training accuracy after this epoch 0.6290665064102564\n",
      "Validation loss after this epoch 1.5885580135774835\n",
      "Validation accuracy after this epoch 0.4738581730769231\n",
      "Epoch: 23\n",
      "Training loss after this epoch 1.0138835858215638\n",
      "Training accuracy after this epoch 0.6405248397435898\n",
      "Validation loss after this epoch 1.525229378936498\n",
      "Validation accuracy after this epoch 0.4909855769230769\n",
      "Epoch: 24\n",
      "Training loss after this epoch 0.9771542071103515\n",
      "Training accuracy after this epoch 0.6527043269230769\n",
      "Validation loss after this epoch 1.5595595355056708\n",
      "Validation accuracy after this epoch 0.49268830128205127\n",
      "Epoch: 25\n",
      "Training loss after this epoch 0.9462110634544292\n",
      "Training accuracy after this epoch 0.6657251602564103\n",
      "Validation loss after this epoch 1.6457024313431579\n",
      "Validation accuracy after this epoch 0.47415865384615385\n",
      "Epoch: 26\n",
      "Training loss after this epoch 0.9086185708038915\n",
      "Training accuracy after this epoch 0.6779046474358974\n",
      "Validation loss after this epoch 1.7726838984781448\n",
      "Validation accuracy after this epoch 0.465244391025641\n",
      "Epoch: 27\n",
      "Training loss after this epoch 0.880581329574521\n",
      "Training accuracy after this epoch 0.6907251602564103\n",
      "Validation loss after this epoch 1.8183636365613138\n",
      "Validation accuracy after this epoch 0.4560296474358974\n",
      "Epoch: 28\n",
      "Training loss after this epoch 0.8572477515436724\n",
      "Training accuracy after this epoch 0.697255608974359\n",
      "Validation loss after this epoch 1.698778831048186\n",
      "Validation accuracy after this epoch 0.476161858974359\n",
      "Epoch: 29\n",
      "Training loss after this epoch 0.8013008219644246\n",
      "Training accuracy after this epoch 0.7178886217948718\n",
      "Validation loss after this epoch 1.7149291477646333\n",
      "Validation accuracy after this epoch 0.48046875\n",
      "Epoch: 30\n",
      "Training loss after this epoch 0.7773570960988406\n",
      "Training accuracy after this epoch 0.7267427884615385\n",
      "Validation loss after this epoch 1.786814516492722\n",
      "Validation accuracy after this epoch 0.4768629807692308\n",
      "Epoch: 31\n",
      "Training loss after this epoch 0.7582386194102584\n",
      "Training accuracy after this epoch 0.7344751602564102\n",
      "Validation loss after this epoch 1.74347607551145\n",
      "Validation accuracy after this epoch 0.4840745192307692\n",
      "Epoch: 32\n",
      "Training loss after this epoch 0.7078836845646065\n",
      "Training accuracy after this epoch 0.7514022435897436\n",
      "Validation loss after this epoch 1.8555926861450036\n",
      "Validation accuracy after this epoch 0.4719551282051282\n",
      "Epoch: 33\n",
      "Training loss after this epoch 0.6798209393892334\n",
      "Training accuracy after this epoch 0.7603165064102564\n",
      "Validation loss after this epoch 1.816814014799857\n",
      "Validation accuracy after this epoch 0.48647836538461536\n",
      "Epoch: 34\n",
      "Training loss after this epoch 0.6472546815463704\n",
      "Training accuracy after this epoch 0.7737179487179487\n",
      "Validation loss after this epoch 1.9661800182425753\n",
      "Validation accuracy after this epoch 0.46764823717948717\n",
      "Epoch: 35\n",
      "Training loss after this epoch 0.6065054438996933\n",
      "Training accuracy after this epoch 0.7892427884615385\n",
      "Validation loss after this epoch 1.946506370345677\n",
      "Validation accuracy after this epoch 0.4740584935897436\n",
      "Epoch: 36\n",
      "Training loss after this epoch 0.5743033504947053\n",
      "Training accuracy after this epoch 0.8026442307692307\n",
      "Validation loss after this epoch 2.02751579951886\n",
      "Validation accuracy after this epoch 0.4696514423076923\n",
      "Epoch: 37\n",
      "Training loss after this epoch 0.5490018296196736\n",
      "Training accuracy after this epoch 0.809375\n",
      "Validation loss after this epoch 2.0974338617695176\n",
      "Validation accuracy after this epoch 0.4641426282051282\n",
      "Epoch: 38\n",
      "Training loss after this epoch 0.5137411777005767\n",
      "Training accuracy after this epoch 0.822636217948718\n",
      "Validation loss after this epoch 2.120103754249885\n",
      "Validation accuracy after this epoch 0.4712540064102564\n",
      "Epoch: 39\n",
      "Training loss after this epoch 0.46953962532698046\n",
      "Training accuracy after this epoch 0.8384014423076923\n",
      "Validation loss after this epoch 2.3230687368301495\n",
      "Validation accuracy after this epoch 0.44901842948717946\n",
      "Epoch: 40\n",
      "Training loss after this epoch 0.4713934186728163\n",
      "Training accuracy after this epoch 0.8359775641025641\n",
      "Validation loss after this epoch 2.2655376117108657\n",
      "Validation accuracy after this epoch 0.47435897435897434\n"
     ]
    }
   ],
   "source": [
    "train_losses3, train_accuracies3, val_losses3, val_accuracies3 = MLP_SGD(40, 0.1)"
   ]
  },
  {
   "cell_type": "markdown",
   "metadata": {},
   "source": [
    "I will now plot these training and validation losses and accuracies against the number of epochs to see how well our MLP model is learning for 40 epochs and a higher learning rate of 0.1"
   ]
  },
  {
   "cell_type": "code",
   "execution_count": 705,
   "metadata": {},
   "outputs": [
    {
     "data": {
      "image/png": "[encoded data removed]",
      "text/plain": [
       "<Figure size 864x360 with 2 Axes>"
      ]
     },
     "metadata": {
      "needs_background": "light"
     },
     "output_type": "display_data"
    }
   ],
   "source": [
    "# Plot the learning curves\n",
    "fig = plt.figure(figsize=(12, 5))\n",
    "\n",
    "# Plot loss vs epoch\n",
    "fig.add_subplot(121)\n",
    "# Plot losses of training and validation sets\n",
    "plt.plot(train_losses3, label = 'Train');\n",
    "plt.plot(val_losses3, label = 'Validation');\n",
    "plt.xlabel('The number of epochs');\n",
    "plt.ylabel('The losses');\n",
    "plt.title('Plot of losses against epochs');\n",
    "plt.legend()\n",
    "\n",
    "\n",
    "# Plot accuracy vs epoch\n",
    "fig.add_subplot(122)\n",
    "plt.plot(train_accuracies3, label = 'Train');\n",
    "plt.plot(val_accuracies3, label = 'Validation');\n",
    "plt.xlabel('The number of epochs');\n",
    "plt.ylabel('The accuracies');\n",
    "plt.title('Plot of accuracies against epochs');\n",
    "plt.legend()\n",
    "\n",
    "plt.show()"
   ]
  },
  {
   "cell_type": "markdown",
   "metadata": {},
   "source": [
    "I will start with the losses, from the plot above on the left it is clear to see that the training loss starts off rapidly decreasing but does not look to be converging and seems to be tending towards a linear function again while the validation loss starts off decreasing slowly but then starts to increase again and massively diverge from the training losses. The training loss is at 0.5 after 40 epochs but as stated before does not seem to be converging at all and the validation loss is at 2.5 after 40 epochs but is quickly increasing. Now for the accuracies, from the plot above on the right it is clear to see that the training accuracy starts off rapidly increasing but again does not seem to be converging and seems to be tending again to a linear function while the validation accuracy starts off increasing slowly but seems to be converging or maybe at maximum and will decrease after more epochs. The training accuracy is at 85% after 40 epochs but as stated before does not seem to be converging at all and the validation accuracy is converging to 45%.  Here we have massive overfitting because the MLP network performs much worse on the validation dataset compared to the training dataset and so the MLP network is not generalisable and prone to high variation for a new dataset. The difference now is that we have even less convergence and even more overfitting, but the performance of the MLP network on the training dataset has significantly improved while the performance of the MLP network on the validation dataset has significantly suffered."
   ]
  },
  {
   "cell_type": "markdown",
   "metadata": {},
   "source": [
    "### Part 1.1.3"
   ]
  },
  {
   "cell_type": "markdown",
   "metadata": {},
   "source": [
    "I will now implement my 'MLP_SGD()' function with the epochs set to 80 this time, i.e. double what it was before and I will set the learning rate back down to 0.01 and see how an increase in the number of epochs impacts the values I obtain for the losses and accuracies for both the training and validation datasets."
   ]
  },
  {
   "cell_type": "code",
   "execution_count": 706,
   "metadata": {},
   "outputs": [
    {
     "name": "stdout",
     "output_type": "stream",
     "text": [
      "Epoch: 1\n",
      "Training loss after this epoch 1.9476539001050885\n",
      "Training accuracy after this epoch 0.30528846153846156\n",
      "Validation loss after this epoch 1.8473547555917698\n",
      "Validation accuracy after this epoch 0.3333333333333333\n",
      "Epoch: 2\n",
      "Training loss after this epoch 1.7889062545361338\n",
      "Training accuracy after this epoch 0.3680288461538462\n",
      "Validation loss after this epoch 1.799652091438956\n",
      "Validation accuracy after this epoch 0.3501602564102564\n",
      "Epoch: 3\n",
      "Training loss after this epoch 1.7347050896443263\n",
      "Training accuracy after this epoch 0.3881209935897436\n",
      "Validation loss after this epoch 1.7683968351558486\n",
      "Validation accuracy after this epoch 0.3618790064102564\n",
      "Epoch: 4\n",
      "Training loss after this epoch 1.692270957821313\n",
      "Training accuracy after this epoch 0.4032051282051282\n",
      "Validation loss after this epoch 1.7288731737811462\n",
      "Validation accuracy after this epoch 0.37580128205128205\n",
      "Epoch: 5\n",
      "Training loss after this epoch 1.6554675510385837\n",
      "Training accuracy after this epoch 0.4155849358974359\n",
      "Validation loss after this epoch 1.6937987491803397\n",
      "Validation accuracy after this epoch 0.3881209935897436\n",
      "Epoch: 6\n",
      "Training loss after this epoch 1.62387800541968\n",
      "Training accuracy after this epoch 0.42574118589743587\n",
      "Validation loss after this epoch 1.664742700255793\n",
      "Validation accuracy after this epoch 0.40084134615384615\n",
      "Epoch: 7\n",
      "Training loss after this epoch 1.596744658870862\n",
      "Training accuracy after this epoch 0.4349759615384615\n",
      "Validation loss after this epoch 1.6402017349553393\n",
      "Validation accuracy after this epoch 0.41065705128205127\n",
      "Epoch: 8\n",
      "Training loss after this epoch 1.5729895878534375\n",
      "Training accuracy after this epoch 0.44334935897435895\n",
      "Validation loss after this epoch 1.6189532768502752\n",
      "Validation accuracy after this epoch 0.41736778846153844\n",
      "Epoch: 9\n",
      "Training loss after this epoch 1.5517015527323932\n",
      "Training accuracy after this epoch 0.4506209935897436\n",
      "Validation loss after this epoch 1.6002345373230076\n",
      "Validation accuracy after this epoch 0.42267628205128205\n",
      "Epoch: 10\n",
      "Training loss after this epoch 1.5322169659356866\n",
      "Training accuracy after this epoch 0.45655048076923077\n",
      "Validation loss after this epoch 1.5834719962112251\n",
      "Validation accuracy after this epoch 0.4296875\n",
      "Epoch: 11\n",
      "Training loss after this epoch 1.5140660042609688\n",
      "Training accuracy after this epoch 0.46256009615384613\n",
      "Validation loss after this epoch 1.5681951298479662\n",
      "Validation accuracy after this epoch 0.43379407051282054\n",
      "Epoch: 12\n",
      "Training loss after this epoch 1.4969156858936843\n",
      "Training accuracy after this epoch 0.46848958333333335\n",
      "Validation loss after this epoch 1.5540192522973149\n",
      "Validation accuracy after this epoch 0.44140625\n",
      "Epoch: 13\n",
      "Training loss after this epoch 1.4805284075598761\n",
      "Training accuracy after this epoch 0.4747195512820513\n",
      "Validation loss after this epoch 1.5406579315367703\n",
      "Validation accuracy after this epoch 0.4462139423076923\n",
      "Epoch: 14\n",
      "Training loss after this epoch 1.4647360515392496\n",
      "Training accuracy after this epoch 0.480088141025641\n",
      "Validation loss after this epoch 1.5279335085356653\n",
      "Validation accuracy after this epoch 0.4506209935897436\n",
      "Epoch: 15\n",
      "Training loss after this epoch 1.449423326263668\n",
      "Training accuracy after this epoch 0.48555689102564104\n",
      "Validation loss after this epoch 1.515767320018975\n",
      "Validation accuracy after this epoch 0.4545272435897436\n",
      "Epoch: 16\n",
      "Training loss after this epoch 1.4345149183363743\n",
      "Training accuracy after this epoch 0.49052483974358974\n",
      "Validation loss after this epoch 1.5041521596917256\n",
      "Validation accuracy after this epoch 0.4599358974358974\n",
      "Epoch: 17\n",
      "Training loss after this epoch 1.4199655591810363\n",
      "Training accuracy after this epoch 0.4961738782051282\n",
      "Validation loss after this epoch 1.4931197882818166\n",
      "Validation accuracy after this epoch 0.46374198717948717\n",
      "Epoch: 18\n",
      "Training loss after this epoch 1.4057533130018829\n",
      "Training accuracy after this epoch 0.5014423076923077\n",
      "Validation loss after this epoch 1.4827149714428625\n",
      "Validation accuracy after this epoch 0.4660456730769231\n",
      "Epoch: 19\n",
      "Training loss after this epoch 1.3918746348730857\n",
      "Training accuracy after this epoch 0.5061698717948718\n",
      "Validation loss after this epoch 1.472977850381654\n",
      "Validation accuracy after this epoch 0.46985176282051283\n",
      "Epoch: 20\n",
      "Training loss after this epoch 1.3783387260127593\n",
      "Training accuracy after this epoch 0.5110376602564103\n",
      "Validation loss after this epoch 1.4639321838640074\n",
      "Validation accuracy after this epoch 0.47345753205128205\n",
      "Epoch: 21\n",
      "Training loss after this epoch 1.3651597794955932\n",
      "Training accuracy after this epoch 0.5152043269230769\n",
      "Validation loss after this epoch 1.4555797271119384\n",
      "Validation accuracy after this epoch 0.4762620192307692\n",
      "Epoch: 22\n",
      "Training loss after this epoch 1.3523479255852298\n",
      "Training accuracy after this epoch 0.5198517628205128\n",
      "Validation loss after this epoch 1.4479005182464508\n",
      "Validation accuracy after this epoch 0.4768629807692308\n",
      "Epoch: 23\n",
      "Training loss after this epoch 1.3399018739517052\n",
      "Training accuracy after this epoch 0.5243189102564103\n",
      "Validation loss after this epoch 1.4408572493528002\n",
      "Validation accuracy after this epoch 0.47936698717948717\n",
      "Epoch: 24\n",
      "Training loss after this epoch 1.3278064955775213\n",
      "Training accuracy after this epoch 0.5285857371794872\n",
      "Validation loss after this epoch 1.4344021188225036\n",
      "Validation accuracy after this epoch 0.48127003205128205\n",
      "Epoch: 25\n",
      "Training loss after this epoch 1.3160357491067916\n",
      "Training accuracy after this epoch 0.5321113782051282\n",
      "Validation loss after this epoch 1.4284841711915715\n",
      "Validation accuracy after this epoch 0.48387419871794873\n",
      "Epoch: 26\n",
      "Training loss after this epoch 1.3045581697561228\n",
      "Training accuracy after this epoch 0.5372195512820512\n",
      "Validation loss after this epoch 1.423055095809006\n",
      "Validation accuracy after this epoch 0.4857772435897436\n",
      "Epoch: 27\n",
      "Training loss after this epoch 1.293341684309172\n",
      "Training accuracy after this epoch 0.5415064102564102\n",
      "Validation loss after this epoch 1.4180725752935848\n",
      "Validation accuracy after this epoch 0.4875801282051282\n",
      "Epoch: 28\n",
      "Training loss after this epoch 1.2823563008761336\n",
      "Training accuracy after this epoch 0.5465745192307693\n",
      "Validation loss after this epoch 1.413501401165419\n",
      "Validation accuracy after this epoch 0.49068509615384615\n",
      "Epoch: 29\n",
      "Training loss after this epoch 1.2715749600802988\n",
      "Training accuracy after this epoch 0.5496794871794872\n",
      "Validation loss after this epoch 1.409313015213348\n",
      "Validation accuracy after this epoch 0.4934895833333333\n",
      "Epoch: 30\n",
      "Training loss after this epoch 1.2609734279189488\n",
      "Training accuracy after this epoch 0.5533253205128205\n",
      "Validation loss after this epoch 1.405484224465295\n",
      "Validation accuracy after this epoch 0.49589342948717946\n",
      "Epoch: 31\n",
      "Training loss after this epoch 1.2505299106197365\n",
      "Training accuracy after this epoch 0.5568910256410257\n",
      "Validation loss after this epoch 1.4019957843737971\n",
      "Validation accuracy after this epoch 0.4976963141025641\n",
      "Epoch: 32\n",
      "Training loss after this epoch 1.2402247003265654\n",
      "Training accuracy after this epoch 0.5603766025641026\n",
      "Validation loss after this epoch 1.3988312835514485\n",
      "Validation accuracy after this epoch 0.49919871794871795\n",
      "Epoch: 33\n",
      "Training loss after this epoch 1.2300399139050566\n",
      "Training accuracy after this epoch 0.5639022435897436\n",
      "Validation loss after this epoch 1.3959764406150685\n",
      "Validation accuracy after this epoch 0.5003004807692307\n",
      "Epoch: 34\n",
      "Training loss after this epoch 1.219959295399115\n",
      "Training accuracy after this epoch 0.5677884615384615\n",
      "Validation loss after this epoch 1.3934187387649943\n",
      "Validation accuracy after this epoch 0.5010016025641025\n",
      "Epoch: 35\n",
      "Training loss after this epoch 1.209968049502711\n",
      "Training accuracy after this epoch 0.5713741987179487\n",
      "Validation loss after this epoch 1.3911472868187176\n",
      "Validation accuracy after this epoch 0.5009014423076923\n",
      "Epoch: 36\n",
      "Training loss after this epoch 1.2000526940763012\n",
      "Training accuracy after this epoch 0.5757612179487179\n",
      "Validation loss after this epoch 1.3891528184158488\n",
      "Validation accuracy after this epoch 0.5027043269230769\n",
      "Epoch: 37\n",
      "Training loss after this epoch 1.1902009330822296\n",
      "Training accuracy after this epoch 0.579266826923077\n",
      "Validation loss after this epoch 1.3874277654022273\n",
      "Validation accuracy after this epoch 0.5027043269230769\n",
      "Epoch: 38\n",
      "Training loss after this epoch 1.1804015533487069\n",
      "Training accuracy after this epoch 0.5817307692307693\n",
      "Validation loss after this epoch 1.3859663555053645\n",
      "Validation accuracy after this epoch 0.5033052884615384\n",
      "Epoch: 39\n",
      "Training loss after this epoch 1.1706443451246642\n",
      "Training accuracy after this epoch 0.5857171474358974\n",
      "Validation loss after this epoch 1.3847646952822061\n",
      "Validation accuracy after this epoch 0.5046073717948718\n",
      "Epoch: 40\n",
      "Training loss after this epoch 1.160920042432899\n",
      "Training accuracy after this epoch 0.5893028846153846\n",
      "Validation loss after this epoch 1.3838208119331714\n",
      "Validation accuracy after this epoch 0.5060096153846154\n",
      "Epoch: 41\n",
      "Training loss after this epoch 1.1512202766094022\n",
      "Training accuracy after this epoch 0.5932491987179487\n",
      "Validation loss after this epoch 1.383134640473489\n",
      "Validation accuracy after this epoch 0.5053084935897436\n",
      "Epoch: 42\n",
      "Training loss after this epoch 1.1415375350707473\n",
      "Training accuracy after this epoch 0.596474358974359\n",
      "Validation loss after this epoch 1.3827079517105354\n",
      "Validation accuracy after this epoch 0.5057091346153846\n",
      "Epoch: 43\n",
      "Training loss after this epoch 1.1318651166696578\n",
      "Training accuracy after this epoch 0.6001802884615385\n",
      "Validation loss after this epoch 1.3825442193861937\n",
      "Validation accuracy after this epoch 0.5062099358974359\n",
      "Epoch: 44\n",
      "Training loss after this epoch 1.1221970745493242\n",
      "Training accuracy after this epoch 0.6038461538461538\n",
      "Validation loss after this epoch 1.3826484241132526\n",
      "Validation accuracy after this epoch 0.5069110576923077\n",
      "Epoch: 45\n",
      "Training loss after this epoch 1.112528137404028\n",
      "Training accuracy after this epoch 0.6069711538461539\n",
      "Validation loss after this epoch 1.383026792867113\n",
      "Validation accuracy after this epoch 0.5073116987179487\n",
      "Epoch: 46\n",
      "Training loss after this epoch 1.1028536017226473\n",
      "Training accuracy after this epoch 0.610176282051282\n",
      "Validation loss after this epoch 1.3836864799183977\n",
      "Validation accuracy after this epoch 0.5071113782051282\n",
      "Epoch: 47\n",
      "Training loss after this epoch 1.093169192695507\n",
      "Training accuracy after this epoch 0.6137419871794871\n",
      "Validation loss after this epoch 1.3846352068161663\n",
      "Validation accuracy after this epoch 0.5081129807692307\n",
      "Epoch: 48\n",
      "Training loss after this epoch 1.0834709003098313\n",
      "Training accuracy after this epoch 0.6177083333333333\n",
      "Validation loss after this epoch 1.3858808888693173\n",
      "Validation accuracy after this epoch 0.5090144230769231\n",
      "Epoch: 49\n",
      "Training loss after this epoch 1.0737548065067046\n",
      "Training accuracy after this epoch 0.6213541666666667\n",
      "Validation loss after this epoch 1.3874312773336859\n",
      "Validation accuracy after this epoch 0.5091145833333334\n",
      "Epoch: 50\n",
      "Training loss after this epoch 1.064016923434948\n",
      "Training accuracy after this epoch 0.6248998397435898\n",
      "Validation loss after this epoch 1.3892936392275341\n",
      "Validation accuracy after this epoch 0.5094150641025641\n",
      "Epoch: 51\n",
      "Training loss after this epoch 1.0542530586824024\n",
      "Training accuracy after this epoch 0.6290064102564102\n",
      "Validation loss after this epoch 1.3914744840617999\n",
      "Validation accuracy after this epoch 0.5102163461538461\n",
      "Epoch: 52\n",
      "Training loss after this epoch 1.0444587142614608\n",
      "Training accuracy after this epoch 0.6325721153846153\n",
      "Validation loss after this epoch 1.3939793333556\n",
      "Validation accuracy after this epoch 0.5105168269230769\n",
      "Epoch: 53\n",
      "Training loss after this epoch 1.0346290191697876\n",
      "Training accuracy after this epoch 0.635957532051282\n",
      "Validation loss after this epoch 1.39681251876813\n",
      "Validation accuracy after this epoch 0.5107171474358975\n",
      "Epoch: 54\n",
      "Training loss after this epoch 1.024758694104755\n",
      "Training accuracy after this epoch 0.639823717948718\n",
      "Validation loss after this epoch 1.3999769928451276\n",
      "Validation accuracy after this epoch 0.5111177884615384\n",
      "Epoch: 55\n",
      "Training loss after this epoch 1.0148420484537466\n",
      "Training accuracy after this epoch 0.6433092948717949\n",
      "Validation loss after this epoch 1.4034741468808534\n",
      "Validation accuracy after this epoch 0.5106169871794872\n",
      "Epoch: 56\n",
      "Training loss after this epoch 1.0048730095123866\n",
      "Training accuracy after this epoch 0.6471754807692308\n",
      "Validation loss after this epoch 1.4073036521341267\n",
      "Validation accuracy after this epoch 0.5106169871794872\n",
      "Epoch: 57\n",
      "Training loss after this epoch 0.9948451821668561\n",
      "Training accuracy after this epoch 0.6509214743589744\n",
      "Validation loss after this epoch 1.411463364450613\n",
      "Validation accuracy after this epoch 0.5105168269230769\n",
      "Epoch: 58\n",
      "Training loss after this epoch 0.9847519391584995\n",
      "Training accuracy after this epoch 0.6545873397435897\n",
      "Validation loss after this epoch 1.4159493436921782\n",
      "Validation accuracy after this epoch 0.5115184294871795\n",
      "Epoch: 59\n",
      "Training loss after this epoch 0.9745865534764404\n",
      "Training accuracy after this epoch 0.6583733974358974\n",
      "Validation loss after this epoch 1.4207560257364609\n",
      "Validation accuracy after this epoch 0.5111177884615384\n",
      "Epoch: 60\n",
      "Training loss after this epoch 0.9643424109363374\n",
      "Training accuracy after this epoch 0.6622195512820512\n",
      "Validation loss after this epoch 1.4258765450172202\n",
      "Validation accuracy after this epoch 0.5107171474358975\n",
      "Epoch: 61\n",
      "Training loss after this epoch 0.9540133943358694\n",
      "Training accuracy after this epoch 0.6662259615384616\n",
      "Validation loss after this epoch 1.4313031603866833\n",
      "Validation accuracy after this epoch 0.5095152243589743\n",
      "Epoch: 62\n",
      "Training loss after this epoch 0.9435946416078126\n",
      "Training accuracy after this epoch 0.6701722756410257\n",
      "Validation loss after this epoch 1.4370277452756754\n",
      "Validation accuracy after this epoch 0.5096153846153846\n",
      "Epoch: 63\n",
      "Training loss after this epoch 0.9330841166402578\n",
      "Training accuracy after this epoch 0.6740184294871795\n",
      "Validation loss after this epoch 1.4430424901832644\n",
      "Validation accuracy after this epoch 0.5089142628205128\n",
      "Epoch: 64\n",
      "Training loss after this epoch 0.9224859061856012\n",
      "Training accuracy after this epoch 0.6783253205128205\n",
      "Validation loss after this epoch 1.449341538482718\n",
      "Validation accuracy after this epoch 0.5078125\n",
      "Epoch: 65\n",
      "Training loss after this epoch 0.9118167109000104\n",
      "Training accuracy after this epoch 0.6825721153846154\n",
      "Validation loss after this epoch 1.45592536770931\n",
      "Validation accuracy after this epoch 0.507011217948718\n",
      "Epoch: 66\n",
      "Training loss after this epoch 0.901114585406277\n",
      "Training accuracy after this epoch 0.6865184294871794\n",
      "Validation loss after this epoch 1.4628103257856382\n",
      "Validation accuracy after this epoch 0.507011217948718\n",
      "Epoch: 67\n",
      "Training loss after this epoch 0.8904339208282895\n",
      "Training accuracy after this epoch 0.691025641025641\n",
      "Validation loss after this epoch 1.4700331831784257\n",
      "Validation accuracy after this epoch 0.5054086538461539\n",
      "Epoch: 68\n",
      "Training loss after this epoch 0.8798048045404686\n",
      "Training accuracy after this epoch 0.6950320512820513\n",
      "Validation loss after this epoch 1.4775590279041613\n",
      "Validation accuracy after this epoch 0.5051081730769231\n",
      "Epoch: 69\n",
      "Training loss after this epoch 0.86915128184615\n",
      "Training accuracy after this epoch 0.6988181089743589\n",
      "Validation loss after this epoch 1.4850038772751002\n",
      "Validation accuracy after this epoch 0.5058092948717948\n",
      "Epoch: 70\n",
      "Training loss after this epoch 0.8582913027883056\n",
      "Training accuracy after this epoch 0.7024038461538461\n",
      "Validation loss after this epoch 1.4922263613654703\n",
      "Validation accuracy after this epoch 0.5062099358974359\n",
      "Epoch: 71\n",
      "Training loss after this epoch 0.8473188763626917\n",
      "Training accuracy after this epoch 0.7065104166666667\n",
      "Validation loss after this epoch 1.4998697454265306\n",
      "Validation accuracy after this epoch 0.5066105769230769\n",
      "Epoch: 72\n",
      "Training loss after this epoch 0.8366860512732293\n",
      "Training accuracy after this epoch 0.7102564102564103\n",
      "Validation loss after this epoch 1.5104131949780784\n",
      "Validation accuracy after this epoch 0.5064102564102564\n",
      "Epoch: 73\n",
      "Training loss after this epoch 0.8311284641239275\n",
      "Training accuracy after this epoch 0.7127804487179488\n",
      "Validation loss after this epoch 1.5058852765631248\n",
      "Validation accuracy after this epoch 0.5099158653846154\n",
      "Epoch: 74\n",
      "Training loss after this epoch 0.822719586145958\n",
      "Training accuracy after this epoch 0.7158253205128206\n",
      "Validation loss after this epoch 1.5088928027213828\n",
      "Validation accuracy after this epoch 0.5110176282051282\n",
      "Epoch: 75\n",
      "Training loss after this epoch 0.8058554197100177\n",
      "Training accuracy after this epoch 0.72265625\n",
      "Validation loss after this epoch 1.51449953643167\n",
      "Validation accuracy after this epoch 0.5132211538461539\n",
      "Epoch: 76\n",
      "Training loss after this epoch 0.7940993516643949\n",
      "Training accuracy after this epoch 0.7282451923076924\n",
      "Validation loss after this epoch 1.5230153658025574\n",
      "Validation accuracy after this epoch 0.5142227564102564\n",
      "Epoch: 77\n",
      "Training loss after this epoch 0.7825049584237379\n",
      "Training accuracy after this epoch 0.7323116987179488\n",
      "Validation loss after this epoch 1.5329100136373082\n",
      "Validation accuracy after this epoch 0.5127203525641025\n",
      "Epoch: 78\n",
      "Training loss after this epoch 0.7754154405245286\n",
      "Training accuracy after this epoch 0.7338141025641025\n",
      "Validation loss after this epoch 1.5477441576561914\n",
      "Validation accuracy after this epoch 0.5114182692307693\n",
      "Epoch: 79\n",
      "Training loss after this epoch 0.76690300289652\n",
      "Training accuracy after this epoch 0.7391025641025641\n",
      "Validation loss after this epoch 1.5462662259136724\n",
      "Validation accuracy after this epoch 0.5136217948717948\n",
      "Epoch: 80\n",
      "Training loss after this epoch 0.7496918895012455\n",
      "Training accuracy after this epoch 0.7443709935897436\n",
      "Validation loss after this epoch 1.5665650618228235\n",
      "Validation accuracy after this epoch 0.5118189102564102\n"
     ]
    }
   ],
   "source": [
    "train_losses4, train_accuracies4, val_losses4, val_accuracies4 = MLP_SGD(80, 0.01)"
   ]
  },
  {
   "cell_type": "markdown",
   "metadata": {},
   "source": [
    "I will now plot these training and validation losses and accuracies against the number of epochs to see how well our MLP model is learning for 80 epochs and a learning rate of 0.01"
   ]
  },
  {
   "cell_type": "code",
   "execution_count": 708,
   "metadata": {},
   "outputs": [
    {
     "data": {
      "image/png": "[encoded data removed]",
      "text/plain": [
       "<Figure size 864x360 with 2 Axes>"
      ]
     },
     "metadata": {
      "needs_background": "light"
     },
     "output_type": "display_data"
    }
   ],
   "source": [
    "# Plot the learning curves\n",
    "fig = plt.figure(figsize=(12, 5))\n",
    "\n",
    "# Plot loss vs epoch\n",
    "fig.add_subplot(121)\n",
    "# Plot losses of training and validation sets\n",
    "plt.plot(train_losses4, label = 'Train');\n",
    "plt.plot(val_losses4, label = 'Validation');\n",
    "plt.xlabel('The number of epochs');\n",
    "plt.ylabel('The losses');\n",
    "plt.title('Plot of losses against epochs');\n",
    "plt.legend()\n",
    "\n",
    "\n",
    "# Plot accuracy vs epoch\n",
    "fig.add_subplot(122)\n",
    "plt.plot(train_accuracies4, label = 'Train');\n",
    "plt.plot(val_accuracies4, label = 'Validation');\n",
    "plt.xlabel('The number of epochs');\n",
    "plt.ylabel('The accuracies');\n",
    "plt.title('Plot of accuracies against epochs');\n",
    "plt.legend()\n",
    "\n",
    "plt.show()"
   ]
  },
  {
   "cell_type": "markdown",
   "metadata": {},
   "source": [
    "This case is very similar to the one with 40 epochs and a learning rate of 0.1. I will start with the losses, from the plot above on the left it is clear to see that the training loss starts off rapidly decreasing but does not look to be converging and seems to be tending towards a linear function again while the validation loss starts off decreasing fairly quickly but then starts to increase again and again massively diverge from the training losses. The training loss is at 0.75 after 80 epochs but as stated before does not seem to be converging at all and the validation loss is at 1.5 after 80 epochs but is quickly increasing. Now for the accuracies, from the plot above on the right it is clear to see that the training accuracy starts off rapidly increasing but again does not seem to be converging and seems to be tending again to a linear function while the validation accuracy starts off increasing slowly but seems to be converging. The training accuracy is at 75% after 80 epochs but as stated before does not seem to be converging at all and the validation accuracy is converging to 50%.  Here we have massive overfitting because the MLP network performs much worse on the validation dataset compared to the training dataset and so the MLP network is not generalisable and prone to high variation for a new dataset. The difference now between this and 1.1.1, is that 1.1.3 is similar to the case is very similar to the one with 40 epochs and a learning rate of 0.1, is that we have even less convergence and even more overfitting, but the performance of the MLP network on the training dataset has significantly improved while the performance of the MLP network on the validation dataset has significantly suffered. To compare to 1.1.2, we see that this is like a balance between the two, as the case with 40 epochs and learning rate 0.0001 almost completely gets rid of overfitting but has very poor accuracies, while the case with 40 epochs and learning rate 0.1 has a lot of overfitting but very good accuracies, in comparison to 1.1.3, the case with 80 epochs and learning rate 0.01 which has an overfitting and accuracy between the two models just describe, so this seems to opt for balance rather than pure high accuracy or overfitting reduction."
   ]
  },
  {
   "cell_type": "markdown",
   "metadata": {},
   "source": [
    "## 1.2 Convolutional Neural Network (CNN)\n",
    "\n",
    "CNNs are similar to MLPs, however they are regularized versions that used convolutional layers, we know that MLPs are 'fully-connected' networks which means that each neuron in one layer is connected to all neurons in the next layer. The 'fully-connected' nature of the MLP networks means this network is very prone to overfitting data, as seen in the section above.\n",
    "These convolutional layers take advantage of the patterns in data and assemble patterns of increasing complexity using smaller and simpler patterns given by the filters. This makes CNNs very good at recognizing patterns in data and the pooling layers allow them to operate on raw images, meaning that the dataset does not need any preprocessing. CNNs have three main types of layers, which are:\n",
    "\n",
    "* Convolutional layer (Conv2D) - use patterns in the data to assemble patterns of increasing complexity\n",
    "* Pooling layer (MaxPool2D) -  conducts dimensionality reduction which reduces the number of parameters\n",
    "* Fully-connected layer (Dense) - performs classification based on the features extracted through the previous layers\n",
    "\n",
    "### Part 1.2.1\n",
    "\n",
    "I will build the CNN model in TensorFlow to train on the images dataset. The architecture of the network we will use for this task is as follows:\n",
    "\n",
    "* One Conv2D layer with 32 features maps of size 3x3, followed by two Conv2D layers with 64 features maps of size 3x3, all with $ReLU$ activation function\n",
    "* A MaxPool2D between each Conv2D layer\n",
    "* A Flatten layer to ensure we have the right input size for our next layer\n",
    "* Two Dense layers, one which is just a fully-connected hidden layer with 64 neurons and $ReLU$ activation function and the other is the output layer with 10 neurons and $softmax$ activation function.\n",
    "where the $ReLU$ activation function is just the 'rectified linear unit' activation function which has the following formula:\n",
    "$$\n",
    "ReLU(x) = max(0, x)\n",
    "$$\n",
    "As I am using TensorFlow to create this CNN, I do not need to define any functions as they are all already inbuilt into TensorFlow so I can go straight into creating a CNN that has the architecture as described above, which I do with the following code:"
   ]
  },
  {
   "cell_type": "code",
   "execution_count": 213,
   "metadata": {},
   "outputs": [],
   "source": [
    "# Import the relevant TensorFlow modules and layers\n",
    "from tensorflow.keras import Sequential\n",
    "from tensorflow.keras.layers import Conv2D, MaxPool2D, Dense, Flatten\n",
    "\n",
    "# Define model as specified above\n",
    "model_CNN = Sequential([\n",
    "    Conv2D(32, (3, 3), activation='relu', input_shape=(32, 32, 3)),\n",
    "    MaxPool2D((2, 2)),\n",
    "    Conv2D(64, (3, 3) , activation='relu'),\n",
    "    MaxPool2D((2, 2)),\n",
    "    Conv2D(64, (3, 3) , activation='relu'),\n",
    "    Flatten(),\n",
    "    Dense(64, activation='relu'),\n",
    "    Dense(10, activation='softmax')\n",
    "])"
   ]
  },
  {
   "cell_type": "markdown",
   "metadata": {},
   "source": [
    "TensorFlow enables me to obtain a summary of my CNN model so that I can see if the model I created fits the desired architecture, it also shows me the number of parameters and the output shape of each layer, so that I can better understand my defined network"
   ]
  },
  {
   "cell_type": "code",
   "execution_count": 707,
   "metadata": {},
   "outputs": [
    {
     "name": "stdout",
     "output_type": "stream",
     "text": [
      "Model: \"sequential_6\"\n",
      "_________________________________________________________________\n",
      "Layer (type)                 Output Shape              Param #   \n",
      "=================================================================\n",
      "conv2d_18 (Conv2D)           (None, 30, 30, 32)        896       \n",
      "_________________________________________________________________\n",
      "max_pooling2d_12 (MaxPooling (None, 15, 15, 32)        0         \n",
      "_________________________________________________________________\n",
      "conv2d_19 (Conv2D)           (None, 13, 13, 64)        18496     \n",
      "_________________________________________________________________\n",
      "max_pooling2d_13 (MaxPooling (None, 6, 6, 64)          0         \n",
      "_________________________________________________________________\n",
      "conv2d_20 (Conv2D)           (None, 4, 4, 64)          36928     \n",
      "_________________________________________________________________\n",
      "flatten_6 (Flatten)          (None, 1024)              0         \n",
      "_________________________________________________________________\n",
      "dense_12 (Dense)             (None, 64)                65600     \n",
      "_________________________________________________________________\n",
      "dense_13 (Dense)             (None, 10)                650       \n",
      "=================================================================\n",
      "Total params: 122,570\n",
      "Trainable params: 122,570\n",
      "Non-trainable params: 0\n",
      "_________________________________________________________________\n"
     ]
    }
   ],
   "source": [
    "# Print the model summary\n",
    "\n",
    "model_CNN_2.summary()"
   ]
  },
  {
   "cell_type": "markdown",
   "metadata": {},
   "source": [
    "For this CNN, the required optimisation method is SGD (the same as explained in the MLP section) with a learning rate of 0.1 and the loss function is cross-entropy (again, the same as explained in the MLP section), so I will implement this into my CNN model now:"
   ]
  },
  {
   "cell_type": "code",
   "execution_count": 216,
   "metadata": {},
   "outputs": [],
   "source": [
    "sgd = tf.keras.optimizers.SGD(learning_rate=0.1)\n",
    "\n",
    "model_CNN.compile(loss='categorical_crossentropy', optimizer=sgd, metrics=['accuracy'])"
   ]
  },
  {
   "cell_type": "markdown",
   "metadata": {},
   "source": [
    "Finally, I have defined my model to fit the required architecture along with SGD optimisation and cross-entropy loss, so now I will use TensorFlow to run it"
   ]
  },
  {
   "cell_type": "code",
   "execution_count": 217,
   "metadata": {
    "scrolled": false
   },
   "outputs": [
    {
     "name": "stdout",
     "output_type": "stream",
     "text": [
      "Epoch 1/40\n",
      "391/391 [==============================] - 86s 221ms/step - loss: 2.0807 - accuracy: 0.2423 - val_loss: 1.8701 - val_accuracy: 0.3282\n",
      "Epoch 2/40\n",
      "391/391 [==============================] - 81s 208ms/step - loss: 1.6342 - accuracy: 0.4114 - val_loss: 1.6074 - val_accuracy: 0.4351\n",
      "Epoch 3/40\n",
      "391/391 [==============================] - 82s 211ms/step - loss: 1.4102 - accuracy: 0.4988 - val_loss: 1.2909 - val_accuracy: 0.5337\n",
      "Epoch 4/40\n",
      "391/391 [==============================] - 75s 192ms/step - loss: 1.2665 - accuracy: 0.5523 - val_loss: 1.3423 - val_accuracy: 0.5113\n",
      "Epoch 5/40\n",
      "391/391 [==============================] - 74s 190ms/step - loss: 1.1576 - accuracy: 0.5909 - val_loss: 1.2051 - val_accuracy: 0.5749\n",
      "Epoch 6/40\n",
      "391/391 [==============================] - 77s 196ms/step - loss: 1.0716 - accuracy: 0.6228 - val_loss: 1.0614 - val_accuracy: 0.6230\n",
      "Epoch 7/40\n",
      "391/391 [==============================] - 77s 196ms/step - loss: 0.9993 - accuracy: 0.6494 - val_loss: 1.2588 - val_accuracy: 0.5689\n",
      "Epoch 8/40\n",
      "391/391 [==============================] - 75s 191ms/step - loss: 0.9374 - accuracy: 0.6718 - val_loss: 0.9922 - val_accuracy: 0.6563\n",
      "Epoch 9/40\n",
      "391/391 [==============================] - 74s 190ms/step - loss: 0.8790 - accuracy: 0.6926 - val_loss: 0.9703 - val_accuracy: 0.6705\n",
      "Epoch 10/40\n",
      "391/391 [==============================] - 74s 190ms/step - loss: 0.8282 - accuracy: 0.7084 - val_loss: 1.0642 - val_accuracy: 0.6366\n",
      "Epoch 11/40\n",
      "391/391 [==============================] - 74s 190ms/step - loss: 0.7867 - accuracy: 0.7256 - val_loss: 1.0018 - val_accuracy: 0.6641\n",
      "Epoch 12/40\n",
      "391/391 [==============================] - 83s 213ms/step - loss: 0.7376 - accuracy: 0.7419 - val_loss: 0.9821 - val_accuracy: 0.6742\n",
      "Epoch 13/40\n",
      "391/391 [==============================] - 85s 218ms/step - loss: 0.7012 - accuracy: 0.7557 - val_loss: 0.9595 - val_accuracy: 0.6787\n",
      "Epoch 14/40\n",
      "391/391 [==============================] - 97s 249ms/step - loss: 0.6533 - accuracy: 0.7705 - val_loss: 1.0223 - val_accuracy: 0.6628\n",
      "Epoch 15/40\n",
      "391/391 [==============================] - 83s 212ms/step - loss: 0.6211 - accuracy: 0.7814 - val_loss: 0.9804 - val_accuracy: 0.6796\n",
      "Epoch 16/40\n",
      "391/391 [==============================] - 92s 236ms/step - loss: 0.5837 - accuracy: 0.7946 - val_loss: 1.0634 - val_accuracy: 0.6651\n",
      "Epoch 17/40\n",
      "391/391 [==============================] - 72s 185ms/step - loss: 0.5457 - accuracy: 0.8090 - val_loss: 1.0487 - val_accuracy: 0.6795\n",
      "Epoch 18/40\n",
      "391/391 [==============================] - 70s 179ms/step - loss: 0.5201 - accuracy: 0.8170 - val_loss: 1.0818 - val_accuracy: 0.6653\n",
      "Epoch 19/40\n",
      "391/391 [==============================] - 71s 181ms/step - loss: 0.4858 - accuracy: 0.8277 - val_loss: 1.1014 - val_accuracy: 0.6680\n",
      "Epoch 20/40\n",
      "391/391 [==============================] - 64s 165ms/step - loss: 0.4535 - accuracy: 0.8387 - val_loss: 1.2993 - val_accuracy: 0.6436\n",
      "Epoch 21/40\n",
      "391/391 [==============================] - 77s 198ms/step - loss: 0.4240 - accuracy: 0.8499 - val_loss: 1.1878 - val_accuracy: 0.6704\n",
      "Epoch 22/40\n",
      "391/391 [==============================] - 102s 260ms/step - loss: 0.3972 - accuracy: 0.8597 - val_loss: 1.1974 - val_accuracy: 0.6727\n",
      "Epoch 23/40\n",
      "391/391 [==============================] - 99s 253ms/step - loss: 0.3630 - accuracy: 0.8706 - val_loss: 1.2308 - val_accuracy: 0.6713\n",
      "Epoch 24/40\n",
      "391/391 [==============================] - 86s 220ms/step - loss: 0.3501 - accuracy: 0.8776 - val_loss: 1.3490 - val_accuracy: 0.6531\n",
      "Epoch 25/40\n",
      "391/391 [==============================] - 83s 212ms/step - loss: 0.3222 - accuracy: 0.8842 - val_loss: 1.3911 - val_accuracy: 0.6486\n",
      "Epoch 26/40\n",
      "391/391 [==============================] - 80s 206ms/step - loss: 0.2972 - accuracy: 0.8948 - val_loss: 1.4872 - val_accuracy: 0.6514\n",
      "Epoch 27/40\n",
      "391/391 [==============================] - 88s 226ms/step - loss: 0.2832 - accuracy: 0.9013 - val_loss: 1.5274 - val_accuracy: 0.6462\n",
      "Epoch 28/40\n",
      "391/391 [==============================] - 106s 271ms/step - loss: 0.2657 - accuracy: 0.9063 - val_loss: 1.4863 - val_accuracy: 0.6611\n",
      "Epoch 29/40\n",
      "391/391 [==============================] - 90s 230ms/step - loss: 0.2488 - accuracy: 0.9120 - val_loss: 1.6970 - val_accuracy: 0.6624\n",
      "Epoch 30/40\n",
      "391/391 [==============================] - 91s 233ms/step - loss: 0.2220 - accuracy: 0.9208 - val_loss: 1.7962 - val_accuracy: 0.6369\n",
      "Epoch 31/40\n",
      "391/391 [==============================] - 113s 290ms/step - loss: 0.2329 - accuracy: 0.9192 - val_loss: 1.8115 - val_accuracy: 0.6479\n",
      "Epoch 32/40\n",
      "391/391 [==============================] - 102s 260ms/step - loss: 0.1955 - accuracy: 0.9313 - val_loss: 1.8514 - val_accuracy: 0.6570\n",
      "Epoch 33/40\n",
      "391/391 [==============================] - 87s 222ms/step - loss: 0.1846 - accuracy: 0.9367 - val_loss: 1.9496 - val_accuracy: 0.6470\n",
      "Epoch 34/40\n",
      "391/391 [==============================] - 80s 206ms/step - loss: 0.1910 - accuracy: 0.9333 - val_loss: 1.9731 - val_accuracy: 0.6503\n",
      "Epoch 35/40\n",
      "391/391 [==============================] - 80s 204ms/step - loss: 0.1983 - accuracy: 0.9326 - val_loss: 1.8106 - val_accuracy: 0.6557\n",
      "Epoch 36/40\n",
      "391/391 [==============================] - 80s 205ms/step - loss: 0.1552 - accuracy: 0.9465 - val_loss: 2.0656 - val_accuracy: 0.6543\n",
      "Epoch 37/40\n",
      "391/391 [==============================] - 85s 217ms/step - loss: 0.1810 - accuracy: 0.9358 - val_loss: 2.0521 - val_accuracy: 0.6496\n",
      "Epoch 38/40\n",
      "391/391 [==============================] - 72s 185ms/step - loss: 0.1557 - accuracy: 0.9462 - val_loss: 2.1221 - val_accuracy: 0.6552\n",
      "Epoch 39/40\n",
      "391/391 [==============================] - 97s 248ms/step - loss: 0.1224 - accuracy: 0.9568 - val_loss: 2.2701 - val_accuracy: 0.6542\n",
      "Epoch 40/40\n",
      "391/391 [==============================] - 95s 242ms/step - loss: 0.1424 - accuracy: 0.9548 - val_loss: 2.0409 - val_accuracy: 0.6494\n"
     ]
    }
   ],
   "source": [
    "history = model_CNN.fit(train_data, epochs=40, verbose=1, validation_data=val_data)"
   ]
  },
  {
   "cell_type": "markdown",
   "metadata": {},
   "source": [
    "I will now plot these training and validation losses and accuracies against the number of epochs to see how well our MLP model is learning for 40 epochs and a learning rate of 0.01:"
   ]
  },
  {
   "cell_type": "code",
   "execution_count": 218,
   "metadata": {
    "scrolled": true
   },
   "outputs": [
    {
     "data": {
      "image/png": "[encoded data removed]",
      "text/plain": [
       "<Figure size 864x360 with 2 Axes>"
      ]
     },
     "metadata": {
      "needs_background": "light"
     },
     "output_type": "display_data"
    }
   ],
   "source": [
    "# Plot the learning curves\n",
    "\n",
    "fig = plt.figure(figsize=(12, 5))\n",
    "\n",
    "fig.add_subplot(121)\n",
    "plt.plot(history.history['loss'], label='Train')\n",
    "plt.plot(history.history['val_loss'], label='Validation')\n",
    "plt.xlabel(\"Epoch\")\n",
    "plt.ylabel(\"Cross entropy loss\")\n",
    "plt.title(\"Loss vs epoch\")\n",
    "plt.legend()\n",
    "\n",
    "fig.add_subplot(122)\n",
    "plt.plot(history.history['accuracy'], label='Train')\n",
    "plt.plot(history.history['val_accuracy'], label='Validation')\n",
    "plt.xlabel(\"Epoch\")\n",
    "plt.ylabel(\"Categorical accuracy\")\n",
    "plt.title(\"Accuracy vs epoch\")\n",
    "plt.legend()\n",
    "\n",
    "plt.show()"
   ]
  },
  {
   "cell_type": "markdown",
   "metadata": {},
   "source": [
    "I will start with the losses, from the plot above on the left it is clear to see that the training loss starts off rapidly decreasing but seems to start converging and the validation loss also starts off rapidly decreasing but then starts to increase again and massively diverge from the training losses. The training loss is converging to 0.14 while the validation loss is at 2.2 after 40 epochs but is steadily increasing. Now for the accuracies, from the plot above on the right it is clear to see that the training accuracy starts off rapidly increasing and again seems to start converging, similarly the validation accuracy starts off rapidly increasing and seem to converge. The training accuracy is converging to 95% while the validation accuracy is converging to 65%.  Here we have massive overfitting because the MLP network performs much worse on the validation dataset compared to the training dataset and so the MLP network is not generalisable and prone to high variation for a new dataset. The difference now is that we have even less convergence and even more overfitting, but the performance of the MLP network on the training dataset has significantly improved while the performance of the MLP network on the validation dataset has significantly suffered. However, we do see that the training and validation losses are much lower for CNN compared to MLP while the training and validation accuracies are much higher for CNN compared to MLP, which shows that it is the better suited neural network for this classification task."
   ]
  },
  {
   "cell_type": "markdown",
   "metadata": {},
   "source": [
    "### Part 1.2.2"
   ]
  },
  {
   "cell_type": "markdown",
   "metadata": {},
   "source": [
    "I will now run the same CNN model as above, but this time just incorporate an L2 regularisation with a coefficient of 5e-3 in all of my convolutional layers. L2 regularisation ensures that our parameters stay sufficiently small to avoid overfitting, it does this by scaling down the parameters whenever they get too large. This is done in TensorFlow by simply defining L2 regularisation to be the kernel_regularizer (which is default set to None):"
   ]
  },
  {
   "cell_type": "code",
   "execution_count": 219,
   "metadata": {},
   "outputs": [],
   "source": [
    "from tensorflow.keras import Sequential, regularizers\n",
    "from tensorflow.keras.layers import Conv2D, MaxPool2D, Dense, Flatten\n",
    "\n",
    "l2_coeff = 5e-3\n",
    "\n",
    "model_CNN_2 = Sequential([\n",
    "    Conv2D(32, (3, 3), kernel_regularizer=regularizers.l2(l2_coeff), activation='relu', input_shape=(32, 32, 3)),\n",
    "    MaxPool2D((2, 2)),\n",
    "    Conv2D(64, (3, 3) , kernel_regularizer=regularizers.l2(l2_coeff), activation='relu'),\n",
    "    MaxPool2D((2, 2)),\n",
    "    Conv2D(64, (3, 3) , kernel_regularizer=regularizers.l2(l2_coeff), activation='relu'),\n",
    "    Flatten(),\n",
    "    Dense(64, activation='relu'),\n",
    "    Dense(10, activation='softmax')\n",
    "])"
   ]
  },
  {
   "cell_type": "markdown",
   "metadata": {},
   "source": [
    "TensorFlow enables me to obtain a summary of my CNN model so that I can see if the model I created fits the desired architecture, it also shows me the number of parameters and the output shape of each layer, so that I can better understand my defined network"
   ]
  },
  {
   "cell_type": "code",
   "execution_count": 220,
   "metadata": {},
   "outputs": [
    {
     "name": "stdout",
     "output_type": "stream",
     "text": [
      "Model: \"sequential_6\"\n",
      "_________________________________________________________________\n",
      "Layer (type)                 Output Shape              Param #   \n",
      "=================================================================\n",
      "conv2d_18 (Conv2D)           (None, 30, 30, 32)        896       \n",
      "_________________________________________________________________\n",
      "max_pooling2d_12 (MaxPooling (None, 15, 15, 32)        0         \n",
      "_________________________________________________________________\n",
      "conv2d_19 (Conv2D)           (None, 13, 13, 64)        18496     \n",
      "_________________________________________________________________\n",
      "max_pooling2d_13 (MaxPooling (None, 6, 6, 64)          0         \n",
      "_________________________________________________________________\n",
      "conv2d_20 (Conv2D)           (None, 4, 4, 64)          36928     \n",
      "_________________________________________________________________\n",
      "flatten_6 (Flatten)          (None, 1024)              0         \n",
      "_________________________________________________________________\n",
      "dense_12 (Dense)             (None, 64)                65600     \n",
      "_________________________________________________________________\n",
      "dense_13 (Dense)             (None, 10)                650       \n",
      "=================================================================\n",
      "Total params: 122,570\n",
      "Trainable params: 122,570\n",
      "Non-trainable params: 0\n",
      "_________________________________________________________________\n"
     ]
    }
   ],
   "source": [
    "# Print the model summary\n",
    "\n",
    "model_CNN_2.summary()"
   ]
  },
  {
   "cell_type": "markdown",
   "metadata": {},
   "source": [
    "For this CNN, the required optimisation method is SGD (the same as explained in the MLP section) with a learning rate of 0.1 and the loss function is cross-entropy (again, the same as explained in the MLP section), so I will implement this into my CNN model now:"
   ]
  },
  {
   "cell_type": "code",
   "execution_count": 221,
   "metadata": {},
   "outputs": [],
   "source": [
    "sgd = tf.keras.optimizers.SGD(learning_rate=0.1)\n",
    "\n",
    "model_CNN_2.compile(loss='categorical_crossentropy', optimizer=sgd, metrics=['accuracy'])"
   ]
  },
  {
   "cell_type": "markdown",
   "metadata": {},
   "source": [
    "Finally, I have defined my model to fit the required architecture along with SGD optimisation and cross-entropy loss, so now I will use TensorFlow to run it"
   ]
  },
  {
   "cell_type": "code",
   "execution_count": 222,
   "metadata": {
    "scrolled": false
   },
   "outputs": [
    {
     "name": "stdout",
     "output_type": "stream",
     "text": [
      "Epoch 1/40\n",
      "391/391 [==============================] - 79s 202ms/step - loss: 2.4907 - accuracy: 0.2402 - val_loss: 2.1624 - val_accuracy: 0.3358\n",
      "Epoch 2/40\n",
      "391/391 [==============================] - 84s 214ms/step - loss: 1.9846 - accuracy: 0.3830 - val_loss: 2.0706 - val_accuracy: 0.3473\n",
      "Epoch 3/40\n",
      "391/391 [==============================] - 64s 164ms/step - loss: 1.7418 - accuracy: 0.4469 - val_loss: 1.6312 - val_accuracy: 0.4808\n",
      "Epoch 4/40\n",
      "391/391 [==============================] - 75s 191ms/step - loss: 1.6177 - accuracy: 0.4844 - val_loss: 1.5549 - val_accuracy: 0.5051\n",
      "Epoch 5/40\n",
      "391/391 [==============================] - 65s 166ms/step - loss: 1.5309 - accuracy: 0.5179 - val_loss: 1.5561 - val_accuracy: 0.5053\n",
      "Epoch 6/40\n",
      "391/391 [==============================] - 84s 215ms/step - loss: 1.4703 - accuracy: 0.5479 - val_loss: 1.4510 - val_accuracy: 0.5487\n",
      "Epoch 7/40\n",
      "391/391 [==============================] - 80s 204ms/step - loss: 1.4363 - accuracy: 0.5615 - val_loss: 1.6714 - val_accuracy: 0.4710\n",
      "Epoch 8/40\n",
      "391/391 [==============================] - 76s 196ms/step - loss: 1.4089 - accuracy: 0.5752 - val_loss: 1.4210 - val_accuracy: 0.5676\n",
      "Epoch 9/40\n",
      "391/391 [==============================] - 88s 225ms/step - loss: 1.3796 - accuracy: 0.5877 - val_loss: 1.4851 - val_accuracy: 0.5581\n",
      "Epoch 10/40\n",
      "391/391 [==============================] - 81s 206ms/step - loss: 1.3388 - accuracy: 0.6061 - val_loss: 1.4531 - val_accuracy: 0.5628\n",
      "Epoch 11/40\n",
      "391/391 [==============================] - 83s 212ms/step - loss: 1.3280 - accuracy: 0.6117 - val_loss: 1.3056 - val_accuracy: 0.6203\n",
      "Epoch 12/40\n",
      "391/391 [==============================] - 75s 193ms/step - loss: 1.3038 - accuracy: 0.6242 - val_loss: 1.2897 - val_accuracy: 0.6290\n",
      "Epoch 13/40\n",
      "391/391 [==============================] - 79s 203ms/step - loss: 1.2804 - accuracy: 0.6340 - val_loss: 1.3621 - val_accuracy: 0.6033\n",
      "Epoch 14/40\n",
      "391/391 [==============================] - 81s 208ms/step - loss: 1.2671 - accuracy: 0.6404 - val_loss: 1.2895 - val_accuracy: 0.6261\n",
      "Epoch 15/40\n",
      "391/391 [==============================] - 88s 225ms/step - loss: 1.2744 - accuracy: 0.6417 - val_loss: 1.2973 - val_accuracy: 0.6274\n",
      "Epoch 16/40\n",
      "391/391 [==============================] - 83s 211ms/step - loss: 1.2386 - accuracy: 0.6539 - val_loss: 1.3742 - val_accuracy: 0.6038\n",
      "Epoch 17/40\n",
      "391/391 [==============================] - 80s 203ms/step - loss: 1.2274 - accuracy: 0.6609 - val_loss: 1.2990 - val_accuracy: 0.6338\n",
      "Epoch 18/40\n",
      "391/391 [==============================] - 78s 200ms/step - loss: 1.2311 - accuracy: 0.6612 - val_loss: 1.3053 - val_accuracy: 0.6345\n",
      "Epoch 19/40\n",
      "391/391 [==============================] - 86s 220ms/step - loss: 1.2152 - accuracy: 0.6656 - val_loss: 1.3564 - val_accuracy: 0.6190\n",
      "Epoch 20/40\n",
      "391/391 [==============================] - 87s 223ms/step - loss: 1.2042 - accuracy: 0.6702 - val_loss: 1.2615 - val_accuracy: 0.6514\n",
      "Epoch 21/40\n",
      "391/391 [==============================] - 80s 204ms/step - loss: 1.2061 - accuracy: 0.6717 - val_loss: 1.2261 - val_accuracy: 0.6671\n",
      "Epoch 22/40\n",
      "391/391 [==============================] - 63s 162ms/step - loss: 1.1782 - accuracy: 0.6823 - val_loss: 1.2390 - val_accuracy: 0.6627\n",
      "Epoch 23/40\n",
      "391/391 [==============================] - 62s 159ms/step - loss: 1.1869 - accuracy: 0.6809 - val_loss: 1.2264 - val_accuracy: 0.6660\n",
      "Epoch 24/40\n",
      "391/391 [==============================] - 64s 164ms/step - loss: 1.1687 - accuracy: 0.6875 - val_loss: 1.2695 - val_accuracy: 0.6545\n",
      "Epoch 25/40\n",
      "391/391 [==============================] - 63s 162ms/step - loss: 1.1512 - accuracy: 0.6944 - val_loss: 1.3162 - val_accuracy: 0.6422\n",
      "Epoch 26/40\n",
      "391/391 [==============================] - 62s 159ms/step - loss: 1.1663 - accuracy: 0.6895 - val_loss: 1.3039 - val_accuracy: 0.6509\n",
      "Epoch 27/40\n",
      "391/391 [==============================] - 63s 162ms/step - loss: 1.1501 - accuracy: 0.6941 - val_loss: 1.2913 - val_accuracy: 0.6560\n",
      "Epoch 28/40\n",
      "391/391 [==============================] - 64s 163ms/step - loss: 1.1543 - accuracy: 0.6967 - val_loss: 1.5062 - val_accuracy: 0.5925\n",
      "Epoch 29/40\n",
      "391/391 [==============================] - 63s 160ms/step - loss: 1.1467 - accuracy: 0.6992 - val_loss: 1.5073 - val_accuracy: 0.5841\n",
      "Epoch 30/40\n",
      "391/391 [==============================] - 62s 159ms/step - loss: 1.1271 - accuracy: 0.7056 - val_loss: 1.4283 - val_accuracy: 0.6058\n",
      "Epoch 31/40\n",
      "391/391 [==============================] - 63s 161ms/step - loss: 1.1327 - accuracy: 0.7039 - val_loss: 1.4713 - val_accuracy: 0.6011\n",
      "Epoch 32/40\n",
      "391/391 [==============================] - 63s 160ms/step - loss: 1.1318 - accuracy: 0.7067 - val_loss: 1.5364 - val_accuracy: 0.5663\n",
      "Epoch 33/40\n",
      "391/391 [==============================] - 65s 167ms/step - loss: 1.1149 - accuracy: 0.7113 - val_loss: 1.2362 - val_accuracy: 0.6701\n",
      "Epoch 34/40\n",
      "391/391 [==============================] - 62s 158ms/step - loss: 1.1330 - accuracy: 0.7072 - val_loss: 1.2250 - val_accuracy: 0.6744\n",
      "Epoch 35/40\n",
      "391/391 [==============================] - 62s 158ms/step - loss: 1.1147 - accuracy: 0.7140 - val_loss: 1.2514 - val_accuracy: 0.6663\n",
      "Epoch 36/40\n",
      "391/391 [==============================] - 62s 159ms/step - loss: 1.0974 - accuracy: 0.7210 - val_loss: 1.3234 - val_accuracy: 0.6477\n",
      "Epoch 37/40\n",
      "391/391 [==============================] - 62s 159ms/step - loss: 1.2295 - accuracy: 0.6837 - val_loss: 1.3706 - val_accuracy: 0.6424\n",
      "Epoch 38/40\n",
      "391/391 [==============================] - 61s 157ms/step - loss: 1.1500 - accuracy: 0.7055 - val_loss: 1.3687 - val_accuracy: 0.6354\n",
      "Epoch 39/40\n",
      "391/391 [==============================] - 61s 157ms/step - loss: 1.1190 - accuracy: 0.7130 - val_loss: 1.2437 - val_accuracy: 0.6787\n",
      "Epoch 40/40\n",
      "391/391 [==============================] - 62s 158ms/step - loss: 1.0941 - accuracy: 0.7200 - val_loss: 1.3252 - val_accuracy: 0.6520\n"
     ]
    }
   ],
   "source": [
    "history_2 = model_CNN_2.fit(train_data, epochs=40, verbose=1, validation_data=val_data)"
   ]
  },
  {
   "cell_type": "markdown",
   "metadata": {},
   "source": [
    "I will now plot these training and validation losses and accuracies against the number of epochs to see how well our MLP model is learning for 40 epochs and a learning rate of 0.01, but with an L2 regularisation with a coefficient of 5e-3:"
   ]
  },
  {
   "cell_type": "code",
   "execution_count": 227,
   "metadata": {},
   "outputs": [
    {
     "data": {
      "image/png": "[encoded data removed]",
      "text/plain": [
       "<Figure size 864x360 with 2 Axes>"
      ]
     },
     "metadata": {
      "needs_background": "light"
     },
     "output_type": "display_data"
    }
   ],
   "source": [
    "# Plot the learning curves\n",
    "\n",
    "fig = plt.figure(figsize=(12, 5))\n",
    "\n",
    "fig.add_subplot(121)\n",
    "plt.plot(history_2.history['loss'], label='Train')\n",
    "plt.plot(history_2.history['val_loss'], label='Validation')\n",
    "plt.xlabel(\"Epoch\")\n",
    "plt.ylabel(\"Cross entropy loss\")\n",
    "plt.title(\"Loss vs epoch\")\n",
    "plt.legend()\n",
    "\n",
    "fig.add_subplot(122)\n",
    "plt.plot(history_2.history['accuracy'], label='Train')\n",
    "plt.plot(history_2.history['val_accuracy'], label='Validation')\n",
    "plt.xlabel(\"Epoch\")\n",
    "plt.ylabel(\"Categorical accuracy\")\n",
    "plt.title(\"Accuracy vs epoch\")\n",
    "plt.legend()\n",
    "\n",
    "plt.show()"
   ]
  },
  {
   "cell_type": "markdown",
   "metadata": {},
   "source": [
    "I will start with the losses, from the plot above on the left it is clear to see that the training and validation losses behave similarly although the validation loss is slightly higher. They both starts off rapidly decreasing and start to converge. The training loss is converging to 1.1 while the validation loss is converging to 1.3. Now for the accuracies, again the training and validation accuracies behave similarly although the training accuracy is slightly higher. They both starts off rapidly increasing and start to converge. The training accuracy is converging to 72% while the validation loss is converging to 65%.\n",
    "We see that the L2 regularisation must have worked as it made the parameters small enough to greatly lessen the overfitting, so the CNN is more generalisable and not prone to high variation for a new dataset, as seen because the performs fairly similar on the training and validation datasets. This large reduction in overfitting did however make our accuracies suffer, as they are now lower but not to the point where we would say that the CNN has not performed well. The L2 regularisation seems to create a balance between little overfitting and decent accuracy values."
   ]
  },
  {
   "cell_type": "markdown",
   "metadata": {},
   "source": [
    "### Part 1.2.3"
   ]
  },
  {
   "cell_type": "markdown",
   "metadata": {},
   "source": [
    "I will now run the same CNN model as above, but this time just incorporate an L1 regularisation with a coefficient of 5e-3 in all of my convolutional layers. Similar to L2 regularisation, L1 regularisation ensures that our parameters stay sufficiently small to avoid overfitting, but it is stronger than L2 regularisation because when L1 regularisation is scaling down the parameters, it pushes them closer to zero. This is done in TensorFlow by simply defining L2 regularisation to be the kernel_regularizer (which is default set to None):"
   ]
  },
  {
   "cell_type": "code",
   "execution_count": 489,
   "metadata": {},
   "outputs": [],
   "source": [
    "from tensorflow.keras import Sequential, regularizers\n",
    "from tensorflow.keras.layers import Conv2D, MaxPool2D, Dense, Flatten\n",
    "\n",
    "l1_coeff = 5e-3\n",
    "\n",
    "model_CNN_3 = Sequential([\n",
    "    Conv2D(32, (3, 3), kernel_regularizer=regularizers.l1(l1_coeff), activation='relu', input_shape=(32, 32, 3)),\n",
    "    MaxPool2D((2, 2)),\n",
    "    Conv2D(64, (3, 3) , kernel_regularizer=regularizers.l1(l1_coeff), activation='relu'),\n",
    "    MaxPool2D((2, 2)),\n",
    "    Conv2D(64, (3, 3) , kernel_regularizer=regularizers.l1(l1_coeff), activation='relu'),\n",
    "    Flatten(),\n",
    "    Dense(64, activation='relu'),\n",
    "    Dense(10, activation='softmax')\n",
    "])"
   ]
  },
  {
   "cell_type": "markdown",
   "metadata": {},
   "source": [
    "TensorFlow enables me to obtain a summary of my CNN model so that I can see if the model I created fits the desired architecture, it also shows me the number of parameters and the output shape of each layer, so that I can better understand my defined network"
   ]
  },
  {
   "cell_type": "code",
   "execution_count": 490,
   "metadata": {},
   "outputs": [
    {
     "name": "stdout",
     "output_type": "stream",
     "text": [
      "Model: \"sequential_15\"\n",
      "_________________________________________________________________\n",
      "Layer (type)                 Output Shape              Param #   \n",
      "=================================================================\n",
      "conv2d_45 (Conv2D)           (None, 30, 30, 32)        896       \n",
      "_________________________________________________________________\n",
      "max_pooling2d_30 (MaxPooling (None, 15, 15, 32)        0         \n",
      "_________________________________________________________________\n",
      "conv2d_46 (Conv2D)           (None, 13, 13, 64)        18496     \n",
      "_________________________________________________________________\n",
      "max_pooling2d_31 (MaxPooling (None, 6, 6, 64)          0         \n",
      "_________________________________________________________________\n",
      "conv2d_47 (Conv2D)           (None, 4, 4, 64)          36928     \n",
      "_________________________________________________________________\n",
      "flatten_15 (Flatten)         (None, 1024)              0         \n",
      "_________________________________________________________________\n",
      "dense_30 (Dense)             (None, 64)                65600     \n",
      "_________________________________________________________________\n",
      "dense_31 (Dense)             (None, 10)                650       \n",
      "=================================================================\n",
      "Total params: 122,570\n",
      "Trainable params: 122,570\n",
      "Non-trainable params: 0\n",
      "_________________________________________________________________\n"
     ]
    }
   ],
   "source": [
    "# Print the model summary\n",
    "\n",
    "model_CNN_3.summary()"
   ]
  },
  {
   "cell_type": "markdown",
   "metadata": {},
   "source": [
    "For this CNN, the required optimisation method is SGD (the same as explained in the MLP section) with a learning rate of 0.1 and the loss function is cross-entropy (again, the same as explained in the MLP section), so I will implement this into my CNN model now:"
   ]
  },
  {
   "cell_type": "code",
   "execution_count": 491,
   "metadata": {},
   "outputs": [],
   "source": [
    "sgd = tf.keras.optimizers.SGD(learning_rate=0.1)\n",
    "\n",
    "model_CNN_3.compile(loss='categorical_crossentropy', optimizer=sgd, metrics=['accuracy'])"
   ]
  },
  {
   "cell_type": "markdown",
   "metadata": {},
   "source": [
    "Finally, I have defined my model to fit the required architecture along with SGD optimisation and cross-entropy loss, so now I will use TensorFlow to run it"
   ]
  },
  {
   "cell_type": "code",
   "execution_count": 492,
   "metadata": {},
   "outputs": [
    {
     "name": "stdout",
     "output_type": "stream",
     "text": [
      "Epoch 1/40\n",
      "391/391 [==============================] - 82s 210ms/step - loss: 3.7526 - accuracy: 0.1834 - val_loss: 2.1700 - val_accuracy: 0.2514\n",
      "Epoch 2/40\n",
      "391/391 [==============================] - 81s 206ms/step - loss: 2.1709 - accuracy: 0.2514 - val_loss: 2.0916 - val_accuracy: 0.2917\n",
      "Epoch 3/40\n",
      "391/391 [==============================] - 82s 210ms/step - loss: 2.1136 - accuracy: 0.2767 - val_loss: 2.0534 - val_accuracy: 0.3040\n",
      "Epoch 4/40\n",
      "391/391 [==============================] - 72s 184ms/step - loss: 2.0811 - accuracy: 0.2891 - val_loss: 2.0247 - val_accuracy: 0.3112\n",
      "Epoch 5/40\n",
      "391/391 [==============================] - 71s 183ms/step - loss: 2.0519 - accuracy: 0.3050 - val_loss: 1.9948 - val_accuracy: 0.3184\n",
      "Epoch 6/40\n",
      "391/391 [==============================] - 72s 183ms/step - loss: 2.0290 - accuracy: 0.3158 - val_loss: 1.9946 - val_accuracy: 0.3272\n",
      "Epoch 7/40\n",
      "391/391 [==============================] - 74s 189ms/step - loss: 2.0125 - accuracy: 0.3230 - val_loss: 1.9881 - val_accuracy: 0.3317\n",
      "Epoch 8/40\n",
      "391/391 [==============================] - 73s 187ms/step - loss: 2.0012 - accuracy: 0.3313 - val_loss: 2.0850 - val_accuracy: 0.3087\n",
      "Epoch 9/40\n",
      "391/391 [==============================] - 84s 216ms/step - loss: 1.9854 - accuracy: 0.3366 - val_loss: 2.0046 - val_accuracy: 0.3312\n",
      "Epoch 10/40\n",
      "391/391 [==============================] - 82s 210ms/step - loss: 1.9735 - accuracy: 0.3426 - val_loss: 1.9855 - val_accuracy: 0.3524\n",
      "Epoch 11/40\n",
      "391/391 [==============================] - 85s 218ms/step - loss: 1.9714 - accuracy: 0.3433 - val_loss: 1.9253 - val_accuracy: 0.3563\n",
      "Epoch 12/40\n",
      "391/391 [==============================] - 84s 214ms/step - loss: 1.9602 - accuracy: 0.3491 - val_loss: 1.9085 - val_accuracy: 0.3666\n",
      "Epoch 13/40\n",
      "391/391 [==============================] - 85s 216ms/step - loss: 1.9533 - accuracy: 0.3519 - val_loss: 1.9281 - val_accuracy: 0.3632\n",
      "Epoch 14/40\n",
      "391/391 [==============================] - 82s 210ms/step - loss: 1.9431 - accuracy: 0.3561 - val_loss: 2.0110 - val_accuracy: 0.3333\n",
      "Epoch 15/40\n",
      "391/391 [==============================] - 74s 189ms/step - loss: 1.9371 - accuracy: 0.3579 - val_loss: 1.9219 - val_accuracy: 0.3574\n",
      "Epoch 16/40\n",
      "391/391 [==============================] - 74s 190ms/step - loss: 1.9362 - accuracy: 0.3586 - val_loss: 1.9185 - val_accuracy: 0.3642\n",
      "Epoch 17/40\n",
      "391/391 [==============================] - 72s 185ms/step - loss: 1.9287 - accuracy: 0.3599 - val_loss: 1.9172 - val_accuracy: 0.3675\n",
      "Epoch 18/40\n",
      "391/391 [==============================] - 77s 198ms/step - loss: 1.9204 - accuracy: 0.3641 - val_loss: 1.9267 - val_accuracy: 0.3563\n",
      "Epoch 19/40\n",
      "391/391 [==============================] - 84s 215ms/step - loss: 1.9198 - accuracy: 0.3632 - val_loss: 1.8844 - val_accuracy: 0.3784\n",
      "Epoch 20/40\n",
      "391/391 [==============================] - 85s 217ms/step - loss: 1.9116 - accuracy: 0.3674 - val_loss: 1.9320 - val_accuracy: 0.3569\n",
      "Epoch 21/40\n",
      "391/391 [==============================] - 84s 214ms/step - loss: 1.9112 - accuracy: 0.3685 - val_loss: 1.9087 - val_accuracy: 0.3786\n",
      "Epoch 22/40\n",
      "391/391 [==============================] - 85s 217ms/step - loss: 1.9045 - accuracy: 0.3703 - val_loss: 1.8778 - val_accuracy: 0.3877\n",
      "Epoch 23/40\n",
      "391/391 [==============================] - 72s 184ms/step - loss: 1.9017 - accuracy: 0.3713 - val_loss: 1.9085 - val_accuracy: 0.3695\n",
      "Epoch 24/40\n",
      "391/391 [==============================] - 74s 190ms/step - loss: 1.8960 - accuracy: 0.3759 - val_loss: 1.9514 - val_accuracy: 0.3674\n",
      "Epoch 25/40\n",
      "391/391 [==============================] - 71s 182ms/step - loss: 1.8916 - accuracy: 0.3767 - val_loss: 1.8957 - val_accuracy: 0.3670\n",
      "Epoch 26/40\n",
      "391/391 [==============================] - 72s 183ms/step - loss: 1.8863 - accuracy: 0.3771 - val_loss: 1.8600 - val_accuracy: 0.3860\n",
      "Epoch 27/40\n",
      "391/391 [==============================] - 82s 211ms/step - loss: 1.8905 - accuracy: 0.3787 - val_loss: 1.9789 - val_accuracy: 0.3648\n",
      "Epoch 28/40\n",
      "391/391 [==============================] - 82s 211ms/step - loss: 1.8879 - accuracy: 0.3805 - val_loss: 2.0189 - val_accuracy: 0.3169\n",
      "Epoch 29/40\n",
      "391/391 [==============================] - 85s 218ms/step - loss: 1.8823 - accuracy: 0.3814 - val_loss: 1.8636 - val_accuracy: 0.3868\n",
      "Epoch 30/40\n",
      "391/391 [==============================] - 84s 214ms/step - loss: 1.8815 - accuracy: 0.3808 - val_loss: 1.8882 - val_accuracy: 0.3775\n",
      "Epoch 31/40\n",
      "391/391 [==============================] - 83s 211ms/step - loss: 1.8787 - accuracy: 0.3799 - val_loss: 1.8788 - val_accuracy: 0.3804\n",
      "Epoch 32/40\n",
      "391/391 [==============================] - 72s 183ms/step - loss: 1.8753 - accuracy: 0.3821 - val_loss: 1.8836 - val_accuracy: 0.3794\n",
      "Epoch 33/40\n",
      "391/391 [==============================] - 71s 183ms/step - loss: 1.8718 - accuracy: 0.3854 - val_loss: 2.0527 - val_accuracy: 0.3133\n",
      "Epoch 34/40\n",
      "391/391 [==============================] - 73s 186ms/step - loss: 1.8719 - accuracy: 0.3835 - val_loss: 1.8737 - val_accuracy: 0.3857\n",
      "Epoch 35/40\n",
      "391/391 [==============================] - 76s 195ms/step - loss: 1.8746 - accuracy: 0.3818 - val_loss: 1.8548 - val_accuracy: 0.3946\n",
      "Epoch 36/40\n",
      "391/391 [==============================] - 73s 187ms/step - loss: 1.8701 - accuracy: 0.3859 - val_loss: 1.9450 - val_accuracy: 0.3698\n",
      "Epoch 37/40\n",
      "391/391 [==============================] - 71s 182ms/step - loss: 1.8674 - accuracy: 0.3835 - val_loss: 1.8613 - val_accuracy: 0.3831\n",
      "Epoch 38/40\n",
      "391/391 [==============================] - 72s 184ms/step - loss: 1.8656 - accuracy: 0.3855 - val_loss: 1.8862 - val_accuracy: 0.3803\n",
      "Epoch 39/40\n",
      "391/391 [==============================] - 72s 183ms/step - loss: 1.8630 - accuracy: 0.3875 - val_loss: 1.9720 - val_accuracy: 0.3432\n",
      "Epoch 40/40\n",
      "391/391 [==============================] - 83s 212ms/step - loss: 1.8637 - accuracy: 0.3874 - val_loss: 1.8580 - val_accuracy: 0.3903\n"
     ]
    }
   ],
   "source": [
    "history_3 = model_CNN_3.fit(train_data, epochs=40, verbose=1, validation_data=val_data)"
   ]
  },
  {
   "cell_type": "markdown",
   "metadata": {},
   "source": [
    "I will now plot these training and validation losses and accuracies against the number of epochs to see how well our MLP model is learning for 40 epochs and a learning rate of 0.01, but with an L1 regularisation with a coefficient of 5e-3:"
   ]
  },
  {
   "cell_type": "code",
   "execution_count": 493,
   "metadata": {},
   "outputs": [
    {
     "data": {
      "image/png": "[encoded data removed]",
      "text/plain": [
       "<Figure size 864x360 with 2 Axes>"
      ]
     },
     "metadata": {
      "needs_background": "light"
     },
     "output_type": "display_data"
    }
   ],
   "source": [
    "# Plot the learning curves\n",
    "\n",
    "fig = plt.figure(figsize=(12, 5))\n",
    "\n",
    "fig.add_subplot(121)\n",
    "plt.plot(history_3.history['loss'], label='Train')\n",
    "plt.plot(history_3.history['val_loss'], label='Validation')\n",
    "plt.xlabel(\"Epoch\")\n",
    "plt.ylabel(\"Cross entropy loss\")\n",
    "plt.title(\"Loss vs epoch\")\n",
    "plt.legend()\n",
    "\n",
    "fig.add_subplot(122)\n",
    "plt.plot(history_3.history['accuracy'], label='Train')\n",
    "plt.plot(history_3.history['val_accuracy'], label='Validation')\n",
    "plt.xlabel(\"Epoch\")\n",
    "plt.ylabel(\"Categorical accuracy\")\n",
    "plt.title(\"Accuracy vs epoch\")\n",
    "plt.legend()\n",
    "\n",
    "plt.show()"
   ]
  },
  {
   "cell_type": "markdown",
   "metadata": {},
   "source": [
    "I will start with the losses, from the plot above on the left it is clear to see that the training and validation losses behave similarly although the validation loss fluctuates as L1 regularisation is stronger than L2 regularisation and pushes the parameters close to zero each time, causes larger losses as shown by the spikes. Both the training and validation losses start off rapidly decreasing and both very quickly start to converge to 1.85. Now for the accuracies, again the training and validation accuracies behave similarly although the large spikes in the validation accuracies are due to the aggressive rescaling of L1 regularisation, causing the large inaccuracies. Both the training and validation inaccuracies start off rapidly rapidly increasing and both very quickly start to converge to 39%. We see that the L1 regularisation must have worked as it made the parameters small enough to completely eradicate the overfitting, so the CNN is fully generalisable and not prone to variation for a new dataset, as seen because the performs the same on the training and validation datasets. However, since L1 regularisation almost pushes the parameters to zero, it is better than L2 regularisation at reducing overfitting but comes at the huge cost of very low accuracies. Unlike the L2 regularisation, L1 regularisation is not balanced and is much more focused on reducing overfitting in turn sacrificing the accuracy values, so L2 regularisation seems superior to L1 regularisation in general but it depends on what is desired. "
   ]
  },
  {
   "cell_type": "markdown",
   "metadata": {},
   "source": [
    "I will now run the same CNN model as above, but this time just incorporate a Dropout, with a rate of 0.5 and no regularisation method. Similar to kernal regularisation methods, Dropout keeps the parameters small by dropping out some outputs between the dense layers and then rescaling the parameters to ensure they are kept small. This is done in TensorFlow by simply adding Dropout(0.5) between my Dense layers:"
   ]
  },
  {
   "cell_type": "code",
   "execution_count": 238,
   "metadata": {},
   "outputs": [],
   "source": [
    "from tensorflow.keras import Sequential, regularizers\n",
    "from tensorflow.keras.layers import Conv2D, MaxPool2D, Dense, Flatten, Dropout\n",
    "\n",
    "model_CNN_4 = Sequential([\n",
    "    Conv2D(32, (3, 3), activation='relu', input_shape=(32, 32, 3)),\n",
    "    MaxPool2D((2, 2)),\n",
    "    Conv2D(64, (3, 3) , activation='relu'),\n",
    "    MaxPool2D((2, 2)),\n",
    "    Conv2D(64, (3, 3) , activation='relu'),\n",
    "    Flatten(),\n",
    "    Dense(64, activation='relu'),\n",
    "    Dropout(0.5),\n",
    "    Dense(10, activation='softmax')\n",
    "])"
   ]
  },
  {
   "cell_type": "markdown",
   "metadata": {},
   "source": [
    "TensorFlow enables me to obtain a summary of my CNN model so that I can see if the model I created fits the desired architecture, it also shows me the number of parameters and the output shape of each layer, so that I can better understand my defined network"
   ]
  },
  {
   "cell_type": "code",
   "execution_count": 239,
   "metadata": {},
   "outputs": [
    {
     "name": "stdout",
     "output_type": "stream",
     "text": [
      "Model: \"sequential_9\"\n",
      "_________________________________________________________________\n",
      "Layer (type)                 Output Shape              Param #   \n",
      "=================================================================\n",
      "conv2d_27 (Conv2D)           (None, 30, 30, 32)        896       \n",
      "_________________________________________________________________\n",
      "max_pooling2d_18 (MaxPooling (None, 15, 15, 32)        0         \n",
      "_________________________________________________________________\n",
      "conv2d_28 (Conv2D)           (None, 13, 13, 64)        18496     \n",
      "_________________________________________________________________\n",
      "max_pooling2d_19 (MaxPooling (None, 6, 6, 64)          0         \n",
      "_________________________________________________________________\n",
      "conv2d_29 (Conv2D)           (None, 4, 4, 64)          36928     \n",
      "_________________________________________________________________\n",
      "flatten_9 (Flatten)          (None, 1024)              0         \n",
      "_________________________________________________________________\n",
      "dense_18 (Dense)             (None, 64)                65600     \n",
      "_________________________________________________________________\n",
      "dropout (Dropout)            (None, 64)                0         \n",
      "_________________________________________________________________\n",
      "dense_19 (Dense)             (None, 10)                650       \n",
      "=================================================================\n",
      "Total params: 122,570\n",
      "Trainable params: 122,570\n",
      "Non-trainable params: 0\n",
      "_________________________________________________________________\n"
     ]
    }
   ],
   "source": [
    "# Print the model summary\n",
    "\n",
    "model_CNN_4.summary()"
   ]
  },
  {
   "cell_type": "markdown",
   "metadata": {},
   "source": [
    "For this CNN, the required optimisation method is SGD (the same as explained in the MLP section) with a learning rate of 0.1 and the loss function is cross-entropy (again, the same as explained in the MLP section), so I will implement this into my CNN model now:"
   ]
  },
  {
   "cell_type": "code",
   "execution_count": 240,
   "metadata": {},
   "outputs": [],
   "source": [
    "sgd = tf.keras.optimizers.SGD(learning_rate=0.1)\n",
    "\n",
    "model_CNN_4.compile(loss='categorical_crossentropy', optimizer=sgd, metrics=['accuracy'])"
   ]
  },
  {
   "cell_type": "markdown",
   "metadata": {},
   "source": [
    "Finally, I have defined my model to fit the required architecture along with SGD optimisation and cross-entropy loss, so now I will use TensorFlow to run it"
   ]
  },
  {
   "cell_type": "code",
   "execution_count": 241,
   "metadata": {
    "scrolled": true
   },
   "outputs": [
    {
     "name": "stdout",
     "output_type": "stream",
     "text": [
      "Epoch 1/40\n",
      "391/391 [==============================] - 65s 167ms/step - loss: 2.1254 - accuracy: 0.2172 - val_loss: 1.9333 - val_accuracy: 0.2967\n",
      "Epoch 2/40\n",
      "391/391 [==============================] - 64s 165ms/step - loss: 1.7715 - accuracy: 0.3589 - val_loss: 1.6187 - val_accuracy: 0.4037\n",
      "Epoch 3/40\n",
      "391/391 [==============================] - 65s 165ms/step - loss: 1.5828 - accuracy: 0.4314 - val_loss: 1.4374 - val_accuracy: 0.4847\n",
      "Epoch 4/40\n",
      "391/391 [==============================] - 65s 167ms/step - loss: 1.4653 - accuracy: 0.4771 - val_loss: 1.3234 - val_accuracy: 0.5226\n",
      "Epoch 5/40\n",
      "391/391 [==============================] - 64s 164ms/step - loss: 1.3697 - accuracy: 0.5153 - val_loss: 1.2393 - val_accuracy: 0.5576\n",
      "Epoch 6/40\n",
      "391/391 [==============================] - 66s 169ms/step - loss: 1.2932 - accuracy: 0.5414 - val_loss: 1.1944 - val_accuracy: 0.5802\n",
      "Epoch 7/40\n",
      "391/391 [==============================] - 65s 165ms/step - loss: 1.2280 - accuracy: 0.5668 - val_loss: 1.1545 - val_accuracy: 0.5862\n",
      "Epoch 8/40\n",
      "391/391 [==============================] - 65s 166ms/step - loss: 1.1761 - accuracy: 0.5877 - val_loss: 1.0750 - val_accuracy: 0.6178\n",
      "Epoch 9/40\n",
      "391/391 [==============================] - 64s 163ms/step - loss: 1.1309 - accuracy: 0.6058 - val_loss: 1.1000 - val_accuracy: 0.6073\n",
      "Epoch 10/40\n",
      "391/391 [==============================] - 65s 167ms/step - loss: 1.0812 - accuracy: 0.6214 - val_loss: 0.9881 - val_accuracy: 0.6545\n",
      "Epoch 11/40\n",
      "391/391 [==============================] - 62s 158ms/step - loss: 1.0429 - accuracy: 0.6351 - val_loss: 1.0572 - val_accuracy: 0.6216\n",
      "Epoch 12/40\n",
      "391/391 [==============================] - 66s 169ms/step - loss: 1.0086 - accuracy: 0.6490 - val_loss: 0.9833 - val_accuracy: 0.6561\n",
      "Epoch 13/40\n",
      "391/391 [==============================] - 78s 200ms/step - loss: 0.9774 - accuracy: 0.6611 - val_loss: 0.9873 - val_accuracy: 0.6554\n",
      "Epoch 14/40\n",
      "391/391 [==============================] - 67s 171ms/step - loss: 0.9464 - accuracy: 0.6723 - val_loss: 0.9661 - val_accuracy: 0.6595\n",
      "Epoch 15/40\n",
      "391/391 [==============================] - 65s 167ms/step - loss: 0.9184 - accuracy: 0.6792 - val_loss: 0.9259 - val_accuracy: 0.6770\n",
      "Epoch 16/40\n",
      "391/391 [==============================] - 65s 165ms/step - loss: 0.8893 - accuracy: 0.6908 - val_loss: 0.9176 - val_accuracy: 0.6916:\n",
      "Epoch 17/40\n",
      "391/391 [==============================] - 65s 165ms/step - loss: 0.8650 - accuracy: 0.6971 - val_loss: 0.9830 - val_accuracy: 0.6688\n",
      "Epoch 18/40\n",
      "391/391 [==============================] - 64s 163ms/step - loss: 0.8397 - accuracy: 0.7086 - val_loss: 0.9154 - val_accuracy: 0.6834\n",
      "Epoch 19/40\n",
      "391/391 [==============================] - 64s 164ms/step - loss: 0.8214 - accuracy: 0.7127 - val_loss: 0.9064 - val_accuracy: 0.6877\n",
      "Epoch 20/40\n",
      "391/391 [==============================] - 63s 161ms/step - loss: 0.8001 - accuracy: 0.7182 - val_loss: 0.9379 - val_accuracy: 0.6873\n",
      "Epoch 21/40\n",
      "391/391 [==============================] - 63s 161ms/step - loss: 0.7819 - accuracy: 0.7247 - val_loss: 0.8905 - val_accuracy: 0.6981\n",
      "Epoch 22/40\n",
      "391/391 [==============================] - 63s 162ms/step - loss: 0.7602 - accuracy: 0.7306 - val_loss: 0.8710 - val_accuracy: 0.7021\n",
      "Epoch 23/40\n",
      "391/391 [==============================] - 75s 191ms/step - loss: 0.7413 - accuracy: 0.7407 - val_loss: 0.9015 - val_accuracy: 0.6992\n",
      "Epoch 24/40\n",
      "391/391 [==============================] - 65s 167ms/step - loss: 0.7177 - accuracy: 0.7465 - val_loss: 0.8884 - val_accuracy: 0.7075\n",
      "Epoch 25/40\n",
      "391/391 [==============================] - 65s 165ms/step - loss: 0.7059 - accuracy: 0.7476 - val_loss: 0.8886 - val_accuracy: 0.7074\n",
      "Epoch 26/40\n",
      "391/391 [==============================] - 63s 162ms/step - loss: 0.6886 - accuracy: 0.7565 - val_loss: 0.9701 - val_accuracy: 0.6775\n",
      "Epoch 27/40\n",
      "391/391 [==============================] - 65s 167ms/step - loss: 0.6721 - accuracy: 0.7633 - val_loss: 0.8969 - val_accuracy: 0.7047\n",
      "Epoch 28/40\n",
      "391/391 [==============================] - 65s 166ms/step - loss: 0.6529 - accuracy: 0.7653 - val_loss: 0.9009 - val_accuracy: 0.7102\n",
      "Epoch 29/40\n",
      "391/391 [==============================] - 65s 167ms/step - loss: 0.6423 - accuracy: 0.7712 - val_loss: 0.8847 - val_accuracy: 0.7102\n",
      "Epoch 30/40\n",
      "391/391 [==============================] - 72s 184ms/step - loss: 0.6387 - accuracy: 0.7727 - val_loss: 0.8965 - val_accuracy: 0.7128\n",
      "Epoch 31/40\n",
      "391/391 [==============================] - 74s 189ms/step - loss: 0.6180 - accuracy: 0.7773 - val_loss: 0.9927 - val_accuracy: 0.6911\n",
      "Epoch 32/40\n",
      "391/391 [==============================] - 77s 197ms/step - loss: 0.6102 - accuracy: 0.7822 - val_loss: 0.9732 - val_accuracy: 0.6954\n",
      "Epoch 33/40\n",
      "391/391 [==============================] - 84s 214ms/step - loss: 0.5939 - accuracy: 0.7867 - val_loss: 0.9422 - val_accuracy: 0.7032\n",
      "Epoch 34/40\n",
      "391/391 [==============================] - 75s 192ms/step - loss: 0.5862 - accuracy: 0.7912 - val_loss: 0.9696 - val_accuracy: 0.7039\n",
      "Epoch 35/40\n",
      "391/391 [==============================] - 89s 228ms/step - loss: 0.5669 - accuracy: 0.7945 - val_loss: 0.9536 - val_accuracy: 0.7059\n",
      "Epoch 36/40\n",
      "391/391 [==============================] - 77s 197ms/step - loss: 0.5555 - accuracy: 0.7979 - val_loss: 0.9535 - val_accuracy: 0.7110\n",
      "Epoch 37/40\n",
      "391/391 [==============================] - 86s 220ms/step - loss: 0.5527 - accuracy: 0.8008 - val_loss: 0.9593 - val_accuracy: 0.7138\n",
      "Epoch 38/40\n",
      "391/391 [==============================] - 77s 197ms/step - loss: 0.5366 - accuracy: 0.8040 - val_loss: 0.9545 - val_accuracy: 0.7195\n",
      "Epoch 39/40\n",
      "391/391 [==============================] - 74s 190ms/step - loss: 0.5278 - accuracy: 0.8071 - val_loss: 1.0293 - val_accuracy: 0.7075\n",
      "Epoch 40/40\n",
      "391/391 [==============================] - 71s 181ms/step - loss: 0.5247 - accuracy: 0.8074 - val_loss: 0.9970 - val_accuracy: 0.7146\n"
     ]
    }
   ],
   "source": [
    "history_4 = model_CNN_4.fit(train_data, epochs=40, verbose=1, validation_data=val_data)"
   ]
  },
  {
   "cell_type": "markdown",
   "metadata": {},
   "source": [
    "I will now plot these training and validation losses and accuracies against the number of epochs to see how well our MLP model is learning for 40 epochs and a learning rate of 0.01, but with a dropout rate of 0.5 and no regularisation method:"
   ]
  },
  {
   "cell_type": "code",
   "execution_count": 242,
   "metadata": {},
   "outputs": [
    {
     "data": {
      "image/png": "[encoded data removed]",
      "text/plain": [
       "<Figure size 864x360 with 2 Axes>"
      ]
     },
     "metadata": {
      "needs_background": "light"
     },
     "output_type": "display_data"
    }
   ],
   "source": [
    "# Plot the learning curves\n",
    "\n",
    "fig = plt.figure(figsize=(12, 5))\n",
    "\n",
    "fig.add_subplot(121)\n",
    "plt.plot(history_4.history['loss'], label='Train')\n",
    "plt.plot(history_4.history['val_loss'], label='Validation')\n",
    "plt.xlabel(\"Epoch\")\n",
    "plt.ylabel(\"Cross entropy loss\")\n",
    "plt.title(\"Loss vs epoch\")\n",
    "plt.legend()\n",
    "\n",
    "fig.add_subplot(122)\n",
    "plt.plot(history_4.history['accuracy'], label='Train')\n",
    "plt.plot(history_4.history['val_accuracy'], label='Validation')\n",
    "plt.xlabel(\"Epoch\")\n",
    "plt.ylabel(\"Categorical accuracy\")\n",
    "plt.title(\"Accuracy vs epoch\")\n",
    "plt.legend()\n",
    "\n",
    "plt.show()"
   ]
  },
  {
   "cell_type": "markdown",
   "metadata": {},
   "source": [
    "I will start with the losses, from the plot above on the left it is clear to see that the training loss starts off rapidly decreasing and seems to slowly start to converge while the validation loss also starts off decreasing very quickly but also seems to converge quickly. The training loss is converging to 0.5 and the validation loss is converging to 1. Now for the accuracies, from the plot above on the right it is clear to see that the training accuracy starts off rapidly increasing and seems to slowly start to converge while the validation accuracy also starts off increasing very quickly and but also seems to converge quickly. The training accuracy is converging to 80% and the validation accuracy is converging to 71%. Here we have overfitting because the CNN network performs worse on the validation dataset compared to the training dataset and so the MLP network is not generalisable and prone to high variation for a new dataset. We see that Dropout must have worked as it made the parameters small enough to lessen the overfitting, so the CNN is now more generalisable and not prone to very high variation for a new dataset but there is still some overfitting, as seen because the performs slightly better on the training dataset than the validation dataset. However, with Dropout we have much better accuracy values, but there is still an element of overfitting here, so we observe that Dropout is not as good as L2 regularisation at reducing the amount of overfitting but as a result of this, Droput is able to maintain better accuracy values, although not by much, so L2 regularisation seems superior to Dropout in general but it depends on what is desired. "
   ]
  },
  {
   "cell_type": "markdown",
   "metadata": {},
   "source": [
    "### Part 1.2.4"
   ]
  },
  {
   "cell_type": "markdown",
   "metadata": {},
   "source": [
    "In regards to computational time, the CNN with Dropout ran quite a lot slower than the MLP network in 1.1.1, this is because the CNN having ~122,000 trainable parameters compared to the ~1,800,000 for the MLP network, CNN has roughly a lot more computations to run and as a result, it takes significantly longer to run. The computation for my 1.1.1 MLP network was roughly ~15 minutes in total, compared to about ~45 minutes for the CNN with Droput with both running over 40 epochs, this is ~3x longer and is all down to how many more computations CNN has to run despite having ~15x less trainable parameters. In terms of overfitting, the 1.1.1 MLP network and CNN perform fairly similarly, both run better on the training datasets, obtaining higher accuracies and lower losses compared to the validation dataset, however the difference in performance between these two datasets is not major, so the overfitting problem is not huge. The main difference comes in the performance, the accuracies for CNN are significantly higher than the 1.1.1 MLP network and the losses for CNN are significantly lower than the 1.1.1 MLP network so we see that CNN sacrifices computational time for performance, as CNN takes ~3x longer but performs far better than the 1.1.1 MLP network on both the training and validation datasets, so the superior network depends on which is more valued, computational time or accuracy, of these I'd choose accuracy and say CNN performs better and warrants the longer computational time."
   ]
  },
  {
   "cell_type": "markdown",
   "metadata": {},
   "source": [
    "# Task 2: Unsupervised Learning\n",
    "\n",
    "In unsupervised learning, a model is provided with an unlabeled dataset and it must learn patterns/groupings within this dataset. The model is not told what it must learn, so it is just left to draw conclusions from the unlabeled data, with minimal human supervision. \n",
    "\n",
    "I will be working with the Zachary's karate club dataset, which will provide us with:\n",
    "* Feature matrix F - 34x100 matrix characterising the personalities of the individuals in the karate club\n",
    "* Adjacency matrix A - 34x34 matrix containing the information about the friendships between the individuals"
   ]
  },
  {
   "cell_type": "markdown",
   "metadata": {},
   "source": [
    "In order to be able to use this data, I need to preprocess it before I can input it into the unsupervised learning algorithms that I will use in this section. The preprocessing steps are as follow:\n",
    "\n",
    "1. Subtract the mean $\\mu$ from each data point\n",
    "2. Scale each data point by $\\frac{1}{\\sigma}$ where $\\sigma$ is the stardard deviation\n",
    "\n",
    "These preprocessing steps ensure that the data will have the mean as 0 and the variance as 1. These preprocessing\n",
    "steps are also known as [Data Normalization or Feature Scaling] - see references at the bottom."
   ]
  },
  {
   "cell_type": "markdown",
   "metadata": {},
   "source": [
    "I will now use csv.reader to import the feature matrix F from a microsoft excel spreadsheet, and just quickly check that I have imported the correct dataset."
   ]
  },
  {
   "cell_type": "code",
   "execution_count": 19,
   "metadata": {},
   "outputs": [
    {
     "name": "stdout",
     "output_type": "stream",
     "text": [
      "(34, 100)\n",
      "[[ 0.14864008 -0.18710981 -0.10939524 ...  0.02139415 -0.0219182\n",
      "   0.09143373]\n",
      " [ 0.20700055 -0.01897949 -0.09448294 ... -0.03428907 -0.14576454\n",
      "  -0.02500351]\n",
      " [ 0.09396198 -0.26245123 -0.03301012 ... -0.08545066 -0.02417422\n",
      "   0.16861194]\n",
      " ...\n",
      " [ 0.07163295  0.02107777 -0.0286725  ...  0.07991265 -0.13502657\n",
      "  -0.03348165]\n",
      " [ 0.16400485 -0.13058038 -0.13862133 ...  0.00711885  0.09925542\n",
      "   0.15335855]\n",
      " [-0.00401106 -0.10642391 -0.10301867 ...  0.049763   -0.14943294\n",
      "   0.01960115]]\n"
     ]
    }
   ],
   "source": [
    "# Import our feature matrix F from excel\n",
    "import csv\n",
    "\n",
    "feature_matrix = csv.reader(open(\"feature_matrix_karate_club1.csv\", \"r\"), delimiter=\",\")\n",
    "feature_matrix = list(feature_matrix)\n",
    "F = np.array(feature_matrix).astype(\"float\")\n",
    "print(F.shape)\n",
    "print(F)"
   ]
  },
  {
   "cell_type": "markdown",
   "metadata": {},
   "source": [
    "I will now define a function that will preprocess my data in the way described above:"
   ]
  },
  {
   "cell_type": "code",
   "execution_count": 20,
   "metadata": {},
   "outputs": [],
   "source": [
    "# Define a function to allow us to preprocess data\n",
    "def normalize(X):\n",
    "    mu = np.mean(X, axis=0)\n",
    "    std = np.std(X, axis=0)\n",
    "    std_filled = std.copy()\n",
    "    std_filled[std==0] = 1.\n",
    "    Xbar = ((X-mu)/std_filled)\n",
    "    return Xbar"
   ]
  },
  {
   "cell_type": "markdown",
   "metadata": {},
   "source": [
    "I will now preprocess the feature matrix F so it is ready for use:"
   ]
  },
  {
   "cell_type": "code",
   "execution_count": 21,
   "metadata": {},
   "outputs": [],
   "source": [
    "F = normalize(F)"
   ]
  },
  {
   "cell_type": "markdown",
   "metadata": {},
   "source": [
    "## 2.1 Clustering of the Feature Matrix (CFM)\n",
    "\n",
    "Clustering is a data mining technique in the unlabeled data is grouped into clusters based on their similarities. In clustering algorithms, a raw, unlabeled dataset is processed into groups called clusters, where the data points in each clusters will share some similarity in structure/pattern."
   ]
  },
  {
   "cell_type": "markdown",
   "metadata": {},
   "source": [
    "### Part 2.1.1"
   ]
  },
  {
   "cell_type": "markdown",
   "metadata": {},
   "source": [
    "I will use k-means clustering to cluster the feature matrix F, which is a type of exclusive/hard clustering. This type of clustering means that each data point can exist only in one cluster.  K-means clustering works by assigning data points into K clusters, based on each data point's distance from each clusters’s centroid, i.e. the data points closest to a given centroid will be clustered under the same category, and there will be K clusters in total. The nature of this method means that for larger values of K, we will get smaller, tighter groupings whereas a smaller K value will have larger, more spread groupings.\n",
    "I will now implement the following k-means clustering algorithm which is described in the lecture notes under the \"k-means algorithm for clustering\" heading:"
   ]
  },
  {
   "cell_type": "code",
   "execution_count": 133,
   "metadata": {},
   "outputs": [],
   "source": [
    "def k_means_clustering(k):\n",
    "    \n",
    "    # Calculate the shape of the feature matrix\n",
    "    samples, features = F.shape\n",
    "    # Define a number of maximum iterations that we cannot excede to make sure our algorithm always terminates at some point\n",
    "    max_iterations = 15\n",
    "    # Preallocate our new labels \n",
    "    new_labels = np.zeros(len(F))\n",
    "    n_k = np.zeros(k)\n",
    "    # Set the number of random initialisations, here I will choose 100 as required\n",
    "    rand_initialisations = 100\n",
    "    # Preallocate where we will store the within-cluster distances \n",
    "    Big_WCD = np.zeros(rand_initialisations)\n",
    "    \n",
    "    for i in range(rand_initialisations):\n",
    "        #\n",
    "        np.random.seed(4*i)\n",
    "        #Assign a l\n",
    "        labels = np.random.randint(low = 0, high = k, size = samples)\n",
    "        # We want to ensure every label is used at least once\n",
    "        ensure_once = np.random.choice(samples, k, replace = False)\n",
    "        for j in range(k):\n",
    "            # Avoid empty clusters\n",
    "            labels[ensure_once[j]] = j\n",
    "        F_labels = np.append(F, labels.reshape(-1, 1), axis = 1)\n",
    "        \n",
    "        # Computing the centroids of each of the k clusters\n",
    "        centroids = np.zeros((k, features))\n",
    "        for l in range(k):\n",
    "            centroids[l] = np.mean([x for x in F_labels if x[-1] == l], axis = 0)[0:features]\n",
    "        \n",
    "        for m in range(max_iterations):\n",
    "            # Find the distance between the data points and the centroids\n",
    "            dist = np.array([np.linalg.norm(F -cent, axis = 1) for cent in centroids])\n",
    "            new_labels = np.argmin(dist, axis = 0)\n",
    "            \n",
    "            if (labels == new_labels).all():\n",
    "                labels = new_labels\n",
    "                # Calculate the within-cluster distance\n",
    "                WC_dist = np.sum(np.ndarray.min(np.square(dist), axis = 0))\n",
    "                # Store these within distance values\n",
    "                Big_WCD[i] = WC_dist\n",
    "                break\n",
    "            else:\n",
    "                labels = new_labels\n",
    "                for n in range(k):\n",
    "                    # Update centroids by taking the mean over the associated data points\n",
    "                    if (labels == n).any():\n",
    "                        centroids[n] = np.mean(F[labels == n], axis = 0)\n",
    "    \n",
    "    return Big_WCD, labels"
   ]
  },
  {
   "cell_type": "markdown",
   "metadata": {},
   "source": [
    "I will test my k-means clustering function for k = 4, and we see that we obtain 100 within-cluster distances so I am happy with how it is working and I will proceed. The 'labels' output of my k-means clustering function will be used later in another section."
   ]
  },
  {
   "cell_type": "code",
   "execution_count": 46,
   "metadata": {},
   "outputs": [
    {
     "name": "stdout",
     "output_type": "stream",
     "text": [
      "(100,)\n",
      "[1636.18690652 1661.22343145 2069.8893885  1654.52342197 2193.10355897\n",
      " 1636.18690652 1702.2991389  1670.42597083 1662.36986248 1702.2991389\n",
      " 1654.52342197 1661.22343145 1641.8048244  1818.7435783  1661.22343145\n",
      " 1836.54206308 2238.89692826 1654.52342197 1648.0550109  1816.85985413\n",
      " 1718.00740344 2001.68219187 1619.08647998 1636.18690652 1827.6402051\n",
      " 1695.47368669 1785.87421446 1951.49036113 1676.91526937 1844.04385588\n",
      " 1852.02571594 1708.12863851 1792.78719211 1702.2991389  1619.08647998\n",
      " 1963.78174205 1712.09867135 1711.92699309 1835.30492974 1635.57359455\n",
      " 1670.42597083 1670.42597083 1855.66167215 1636.18690652 1778.54562081\n",
      " 1654.52342197 1654.52342197 1636.18690652 1636.18690652 1636.18690652\n",
      " 2157.86316934 1808.87581868 1802.10497384 2021.23725679 1636.18690652\n",
      " 1623.51449603 1661.22343145 1654.52342197 1842.92893325 1789.29007034\n",
      " 1641.8048244  1815.5197968  1797.28349174 1691.63862259 1623.51449603\n",
      " 1654.52342197 1635.57359455 1635.57359455 1826.70448551 1834.10302307\n",
      " 1789.5729098  1654.52342197 1654.52342197 1623.51449603 1636.18690652\n",
      " 1641.8048244  1830.30201434 1986.92749728 2004.96046637 1619.08647998\n",
      " 1802.7789561  1702.2991389  1670.42597083 1712.09867135 1633.65921864\n",
      " 1670.42597083 1844.96230547 1635.57359455 1636.18690652 1635.57359455\n",
      " 1837.86522939 1654.52342197 1961.75336916 1654.52342197 1619.08647998\n",
      " 1822.38788327 1989.81493331 1854.94070123 1662.36986248 1913.86834526]\n"
     ]
    }
   ],
   "source": [
    "print(k_means_clustering(4)[0].shape)\n",
    "print(k_means_clustering(4)[0])"
   ]
  },
  {
   "cell_type": "markdown",
   "metadata": {},
   "source": [
    "I will now quickly define a function that uses my k-means clustering function and just outputs the mean of all the 100 within-cluster distances so that I am able to plot the average within-cluster distance against the value of k later on"
   ]
  },
  {
   "cell_type": "code",
   "execution_count": 24,
   "metadata": {},
   "outputs": [],
   "source": [
    "# Create a k_means_clustering function that only outputs the mean of all the 100 within-cluster distances\n",
    "\n",
    "def KMC_getW(k):\n",
    "    \n",
    "    # Take the Big_WCD output from the k_means_clustering function\n",
    "    Big_WCD = k_means_clustering(k)[0]\n",
    "    # Calculate the mean within-cluster distance\n",
    "    WC_dist_mean = np.mean(Big_WCD)\n",
    "    return WC_dist_mean\n",
    "\n",
    "# Vectorize the KMC_getW function to allow us to input vectors into the function so we obtain points to plot\n",
    "KMC_getW_vec = np.vectorize(KMC_getW, cache = True)"
   ]
  },
  {
   "cell_type": "markdown",
   "metadata": {},
   "source": [
    "I will test for this 'KMC_getW()' function for k = 4, and we see that we obtain the mean of the 100 within-cluster distances obtained from my k-means clustering function"
   ]
  },
  {
   "cell_type": "code",
   "execution_count": 25,
   "metadata": {},
   "outputs": [
    {
     "data": {
      "text/plain": [
       "1748.4967931013878"
      ]
     },
     "execution_count": 25,
     "metadata": {},
     "output_type": "execute_result"
    }
   ],
   "source": [
    "KMC_getW(4)"
   ]
  },
  {
   "cell_type": "markdown",
   "metadata": {},
   "source": [
    "Now I am able to use this function to plot the value of k against the mean within-cluster distance for the values of k between 2 and 10 as required:"
   ]
  },
  {
   "cell_type": "code",
   "execution_count": 50,
   "metadata": {},
   "outputs": [
    {
     "data": {
      "image/png": "[encoded data removed]",
      "text/plain": [
       "<Figure size 432x288 with 1 Axes>"
      ]
     },
     "metadata": {
      "needs_background": "light"
     },
     "output_type": "display_data"
    }
   ],
   "source": [
    "# Create the k values between 2 and 10 to plot \n",
    "k_values = np.arange(2, 11)\n",
    "W_values = KMC_getW_vec(k_values);\n",
    "plt.plot(k_values, W_values, '-o');\n",
    "plt.xlabel('The number of clusters: k');\n",
    "plt.ylabel('The mean within-cluster distance');\n",
    "plt.title('Plot of k against mean within-cluster distance');"
   ]
  },
  {
   "cell_type": "markdown",
   "metadata": {},
   "source": [
    "From the plot it is clear that our within-cluster distance is getting smaller as k (the number of clusters) increases, this was predicted in my introduction of the k-means clustering algorithm, as I said \"the nature of this method means that for larger values of k, we will get smaller, tighter groupings\" which can be directly interpreted as 'for higher k, our within-cluster distance will be smaller'. From the plot, I will argue that 'k = 4' is the optimal clustering according to the mean within-cluster distances for this dataset by 'The Elbow Method' [Elbow method (clustering)] - see references at the bottom. This method states that the point of the kink, i.e. where the decrease in the within-cluster distance decreases or where the gradient flattens is the optimal clustering as beyond this point, the decrease in the within-cluster distance per increment of k is not as high as before the kink. Clearly at 'k = 34' we will have a within-cluster distance of zero but this clustering is not useful as it means we have not grouped any of the data points, hence the optimal clustering is taken to be at the kink/elbow, which for me is at k = 4."
   ]
  },
  {
   "cell_type": "markdown",
   "metadata": {},
   "source": [
    "### Part 2.1.2"
   ]
  },
  {
   "cell_type": "markdown",
   "metadata": {},
   "source": [
    "I will now define the Calinski-Harabasz (CH) score, which I will use instead of within-cluster distances to determine the value of k which gives the optimal clustering. I researched the CH score and will use the formula/definition that I found on [Calinski-Harabasz Index – Cluster Validity indices] - see references at the bottom, which is as follows:\n",
    "$$\n",
    "CH_{k} = \\frac{\\sum_{i=1}^{k} n_{i}||c_{i} - c||^{2}}{\\sum_{i=1}^{k}\\sum_{j=1}^{n_{k}} ||x_{j} - c_{i}||^{2}} \\frac{N - k}{k - 1} \n",
    "$$\n",
    "$$\n",
    "$$\n",
    "where $\\sum_{i=1}^{k} n_{i}||c_{i} - c||^{2}$ is the between-cluster distance, which I will denote as $B_{k}$, $\\sum_{i=1}^{k}\\sum_{j=1}^{n_{k}} ||d_{j} - c_{i}||^{2}$ is the within-cluster distance, which I will denote as $W_{k}$, k is the number of clusters, N is the total number of samples, c is the global centroid, $x_{j}$ are the data points, $n_{k}$ is the number of data points in the $k^{th}$ cluster and $c_{k}$ is the centroid of the $k^{th}$ cluster.\n",
    "$$\n",
    "$$\n",
    "Using this, I can simply present the CH score as the following formula:\n",
    "$$\n",
    "CH_{k} = \\frac{B_{k}}{W_{k}} \\frac{N - k}{k - 1} \n",
    "$$\n",
    "$$\n",
    "$$\n",
    "The CH score is a ratio of $B_{k}$ and $W_{k}$, which are the between-cluster and within-cluster distances respectively. $B_{k}$ measures how far apart the clusters are and $W_{k}$ measurs how dense the clusters are. We can understand from this that a higher CH score represents a more ideal clustering as the clusters are dense and well-spread."
   ]
  },
  {
   "cell_type": "markdown",
   "metadata": {},
   "source": [
    "I will now define a CH score function that implements the formula above and will allow me to obtain the CH scores for different values of k. "
   ]
  },
  {
   "cell_type": "code",
   "execution_count": 51,
   "metadata": {},
   "outputs": [],
   "source": [
    "# The following function implements what was explained above to find the Calinski-Harabasz (CH) score\n",
    "def Cal_Hara(k):\n",
    "    \n",
    "    # Calculate the number of samples in the dataset\n",
    "    samples = F.shape[0]\n",
    "    # Obtain the 100 within-cluster distances from the k-means clustering algorithm\n",
    "    Big_WCD = k_means_clustering(k)[0]\n",
    "    # Calculate the global centroid\n",
    "    global_centroid = np.mean(F, axis = 0)\n",
    "    # Calculate the 100 corresponding between-cluster distances\n",
    "    Bk_sum = np.sum(np.square(F - global_centroid))\n",
    "    Big_BCD = Bk_sum - Big_WCD\n",
    "    # Calculate the CH score\n",
    "    CH_Score = np.divide(Big_BCD, Big_WCD) * ((samples - k) / (k - 1))\n",
    "    return CH_Score, Big_WCD, Big_BCD"
   ]
  },
  {
   "cell_type": "markdown",
   "metadata": {},
   "source": [
    "I will test my CH score function for k = 4, and we see that we obtain 100 CH scores so I am happy with how it is working and I will proceed. The 'Big_WCD' and 'Big_BCD' are stores of the 100 within- and between-cluster distances respectively and will be used later in another section."
   ]
  },
  {
   "cell_type": "code",
   "execution_count": 52,
   "metadata": {},
   "outputs": [
    {
     "name": "stdout",
     "output_type": "stream",
     "text": [
      "(100,)\n",
      "[10.78002205 10.46684351  6.4259985  10.5497242   5.50314387 10.78002205\n",
      "  9.97298784 10.35408967 10.45272882  9.97298784 10.5497242  10.46684351\n",
      " 10.7089171   8.69422408 10.46684351  8.5130527   5.18604969 10.5497242\n",
      " 10.63037931  8.71360629  9.79036873  6.98571339 10.99949596 10.78002205\n",
      "  8.60322393 10.05339291  9.03829493  7.42258157 10.27532376  8.43773937\n",
      "  8.3582764   9.90482405  8.96488337  9.97298784 10.99949596  7.313533\n",
      "  9.85866853  9.86066003  8.52553189 10.7878142  10.35408967 10.35408967\n",
      "  8.32230547 10.78002205  9.11674325 10.5497242  10.5497242  10.78002205\n",
      " 10.78002205 10.78002205  5.75632806  8.79620461  8.86682546  6.82138002\n",
      " 10.78002205 10.94222139 10.46684351 10.5497242   8.44889371  9.00194975\n",
      " 10.7089171   8.72741903  8.91743854 10.09885536 10.94222139 10.5497242\n",
      " 10.7878142  10.7878142   8.61275333  8.53767186  8.99894652 10.5497242\n",
      " 10.5497242  10.94222139 10.78002205 10.7089171   8.57616925  7.11184734\n",
      "  6.95794035 10.99949596  8.85977196  9.97298784 10.35408967  9.85866853\n",
      " 10.81217405 10.35408967  8.42856079 10.7878142  10.78002205 10.7878142\n",
      "  8.49972428 10.5497242   7.33143449 10.5497242  10.99949596  8.65684046\n",
      "  7.0870162   8.32942691 10.45272882  7.76506732]\n"
     ]
    }
   ],
   "source": [
    "print(Cal_Hara(4)[0].shape)\n",
    "print(Cal_Hara(4)[0])"
   ]
  },
  {
   "cell_type": "markdown",
   "metadata": {},
   "source": [
    "I will now quickly define a function that uses my CH score function and just outputs the mean of all the 100 CH scores so that I am able to plot the mean CH score against the value of k later on"
   ]
  },
  {
   "cell_type": "code",
   "execution_count": 53,
   "metadata": {},
   "outputs": [],
   "source": [
    "def CH_getCH(k):\n",
    "    \n",
    "    CH_Score_mean = np.mean(Cal_Hara(k)[0])\n",
    "    return CH_Score_mean\n",
    "\n",
    "# Vectorize the CH_getW function to allow us to input vectors into the function so we obtain points to plot\n",
    "CH_getCH_vec = np.vectorize(CH_getCH, cache = True)"
   ]
  },
  {
   "cell_type": "markdown",
   "metadata": {},
   "source": [
    "I will test for this 'CH_getCH()' function for k = 4, and we see that we obtain the mean of the 100 CH scores obtained from my CH score function"
   ]
  },
  {
   "cell_type": "code",
   "execution_count": 54,
   "metadata": {},
   "outputs": [
    {
     "data": {
      "text/plain": [
       "9.55530715590577"
      ]
     },
     "execution_count": 54,
     "metadata": {},
     "output_type": "execute_result"
    }
   ],
   "source": [
    "CH_getCH(4)"
   ]
  },
  {
   "cell_type": "markdown",
   "metadata": {},
   "source": [
    "Now I am able to use these function to plot the value of k against the mean CH score for the values of k between 2 and 10 as required:"
   ]
  },
  {
   "cell_type": "code",
   "execution_count": 134,
   "metadata": {},
   "outputs": [
    {
     "data": {
      "image/png": "[encoded data removed]",
      "text/plain": [
       "<Figure size 432x288 with 1 Axes>"
      ]
     },
     "metadata": {
      "needs_background": "light"
     },
     "output_type": "display_data"
    }
   ],
   "source": [
    "#Create the k values between 2 and 10 to plot \n",
    "k_values = np.arange(2, 11)\n",
    "CH_values = CH_getCH_vec(k_values)\n",
    "plt.plot(k_values, CH_values, '-o');\n",
    "plt.xlabel('The number of clusters: k');\n",
    "plt.ylabel('The mean CH score');\n",
    "plt.title('Plot of k against mean CH score');"
   ]
  },
  {
   "cell_type": "markdown",
   "metadata": {},
   "source": [
    "From the plot it is clear that our CH scores are falling as k (the number of clusters) increases. From the plot, I will argue that 'k = 2' is the optimal clustering for this dataset according to the CH scores because 'k = 2' gives the highest CH score. I know from my explanation above that the CH score is \"a ratio of $B_{k}$ and $W_{k}$, which are the between-cluster and within-cluster distances respectively. $B_{k}$ measures how far apart the clusters are and $W_{k}$ measurs how dense the clusters are\". Ideally, we want a high value for $B_{k}$ as we want our clusters to be far apart and a low value for $W_{k}$ as we want our clusters to be tightly packed, as a result we want $\\frac{B_{k}}{W_{k}}$ to be as high as possible so as a result, 'k = 2' is the optimal clustering since it gives the highest CH score."
   ]
  },
  {
   "cell_type": "markdown",
   "metadata": {},
   "source": [
    "### Part 2.1.3"
   ]
  },
  {
   "cell_type": "markdown",
   "metadata": {},
   "source": [
    "The robustness is a measure of well-spread and dense the clusters are, so the CH score is a very strong indicator of robustness. So by the CH score, we know that the optimal clusterings is 'k = 2' but from k-means with the 100 random initialisations we have that the optimal clusterings is 'k = 4', which have a fairly low CH score, especially compared to 'k = 2'. So, the CH score shows that the k-means clustering algorithm is not the best at outputing optimal clusterings when looking for robustness, as the clusters are not as well-spread and dense as they could be if we used another algorithm. I will now question the variability of the CH score to see if it has much variance so that I can understand if it really is a good indicator of robustness."
   ]
  },
  {
   "cell_type": "markdown",
   "metadata": {},
   "source": [
    "I will define a function similar to one before but this time I will obtain the variance of the CH scores rather than the means:"
   ]
  },
  {
   "cell_type": "code",
   "execution_count": 124,
   "metadata": {},
   "outputs": [],
   "source": [
    "def CH_getCH_var(k):\n",
    "    \n",
    "    CH_Score_var = np.var(Cal_Hara(k)[0])\n",
    "    return CH_Score_var\n",
    "\n",
    "# Vectorize the CH_getW function to allow us to input vectors into the function so we obtain points to plot\n",
    "CH_getCH_var_vec = np.vectorize(CH_getCH_var, cache = True)"
   ]
  },
  {
   "cell_type": "markdown",
   "metadata": {},
   "source": [
    "Now I am able to use this function to plot the value of k against the variance of the CH score for the values of k between 2 and 10 for which I want to check the variability of the CH score to understand how it performs as a measure of robustness:"
   ]
  },
  {
   "cell_type": "code",
   "execution_count": 127,
   "metadata": {},
   "outputs": [
    {
     "data": {
      "image/png": "[encoded data removed]",
      "text/plain": [
       "<Figure size 432x288 with 1 Axes>"
      ]
     },
     "metadata": {
      "needs_background": "light"
     },
     "output_type": "display_data"
    }
   ],
   "source": [
    "#Create the k values between 1 and 10 to plot \n",
    "k_values = np.arange(2, 11)\n",
    "CH_values = CH_getCH_var_vec(k_values)\n",
    "plt.plot(k_values, CH_values, '-o');\n",
    "plt.xlabel('The number of clusters: k');\n",
    "plt.ylabel('The variance of the CH score');\n",
    "plt.title('Plot of k against variance of the CH score');"
   ]
  },
  {
   "cell_type": "markdown",
   "metadata": {},
   "source": [
    "From the plot above, I see that the variance falls as k increases which is expected, but I would say that in the range that we are looking at which is: k = 2, 3, 4 the variance is quite low for the CH score and so this leads me to believe that the performance of the CH score is not dependant on the initialisations and so it is a good measure of robustness. As a result, I believe that the CH score is a strong measure of robustness and that if we want to find optimal clusterings that allow for good robustness of the clusterings, we should follow the optimal k given by the CH score rather than the k-means algorithm."
   ]
  },
  {
   "cell_type": "markdown",
   "metadata": {},
   "source": [
    "## 2.2 Dimensionality Reduction of the Feature Matrix (DRFM)\n",
    "\n",
    "Dimensionality reduction is the transformation of data from a high-dimensional space into a lower-dimensional space so that the low-dimensional representation retains meaningful information of the original data. This allows us to retain a significant proportion of information while compressing the data. The main benefits of this include:\n",
    "* The storage space required for the data is significantly reduced by eliminating redundant features, reducing computation time\n",
    "* The noise in the data is reduced and the model’s accuracy and performance is improved."
   ]
  },
  {
   "cell_type": "markdown",
   "metadata": {},
   "source": [
    "I will carry out dimensionality reduction using principle component analysis (PCA). From the lectures notes, I know that to perform PCA on some dataset $\\boldsymbol X$, I need to follow these steps: \n",
    "\n",
    "1. Compute the covariance matrix:    $\\mathbf C = \\frac{1}{(n - 1)}\\mathbf X^\\top \\mathbf X$\n",
    "1. Find eigenvalues and corresponding eigenvectors for the covariance matrix:   $\\mathbf C = \\mathbf V \\mathbf L \\mathbf V^\\top,$\n",
    "3.  Sort by the largest eigenvalues and the corresponding eigenvectors.\n",
    "4.  Compute the projection onto the space spanned by the top $n$ eigenvectors."
   ]
  },
  {
   "cell_type": "markdown",
   "metadata": {},
   "source": [
    "### Part 2.2.1"
   ]
  },
  {
   "cell_type": "markdown",
   "metadata": {},
   "source": [
    "Firstly, I will implement a PCA function that carries out the steps described above:"
   ]
  },
  {
   "cell_type": "code",
   "execution_count": 55,
   "metadata": {},
   "outputs": [],
   "source": [
    "# Import the required modules\n",
    "from scipy.sparse import linalg\n",
    "\n",
    "# My PCA function takes in the dataset X and k, which defines the k-dimensional space that I will span the samples over\n",
    "def pca_function(X, k):\n",
    "\n",
    "    # Create covariance matrix C\n",
    "    C = 1.0/(len(X)-1) * np.dot(X.T, X)\n",
    "\n",
    "    # Compute eigenvalues and eigenvectors of C using the eigsh scipy function\n",
    "    eigenvalues, eigenvectors = linalg.eigsh(C, k, which=\"LM\", return_eigenvectors=True) \n",
    "\n",
    "    # Sorting the eigenvectors and eigenvalues from largest to smallest eigenvalue\n",
    "    sorted_index = np.argsort(eigenvalues)[::-1]\n",
    "    eigenvalues=eigenvalues[sorted_index]\n",
    "    eigenvectors=eigenvectors[:, sorted_index]\n",
    "\n",
    "    # Transform our data\n",
    "    X_pca = X.dot(eigenvectors)\n",
    "\n",
    "    return X_pca, eigenvectors, eigenvalues"
   ]
  },
  {
   "cell_type": "markdown",
   "metadata": {},
   "source": [
    "I will now use my PCA function to obtain the dataset as points in the d-dimensional PCA space and then use this to create a plot. I will do this for the following dimensions: \n",
    "* d = 1\n",
    "* d = 2\n",
    "* d = 3"
   ]
  },
  {
   "cell_type": "code",
   "execution_count": 63,
   "metadata": {},
   "outputs": [],
   "source": [
    "# Define our dimensions\n",
    "k1 = 1\n",
    "k2 = 2\n",
    "k3 = 3\n",
    "\n",
    "# Compute the projection, the eigenvectors and eigenvalues from our PCA function in each dimension\n",
    "X_pca1, eigenvectors1, eigenvalues1 = pca_function(F, k1) \n",
    "X_pca2, eigenvectors2, eigenvalues2 = pca_function(F, k2) \n",
    "X_pca3, eigenvectors3, eigenvalues3 = pca_function(F, k3) "
   ]
  },
  {
   "cell_type": "markdown",
   "metadata": {},
   "source": [
    "I will firstly plot the samples of the dataset as points in the 1-dimensional PCA space:"
   ]
  },
  {
   "cell_type": "code",
   "execution_count": 64,
   "metadata": {},
   "outputs": [
    {
     "data": {
      "image/png": "[encoded data removed]",
      "text/plain": [
       "<Figure size 432x288 with 1 Axes>"
      ]
     },
     "metadata": {
      "needs_background": "light"
     },
     "output_type": "display_data"
    }
   ],
   "source": [
    "# Plot the 1-dimensional case\n",
    "\n",
    "plt.plot(X_pca1[:,0], np.zeros_like(X_pca1[:,0]), 'x');\n",
    "plt.title('Plot of dataset as points in the 1-dimensional PCA space');"
   ]
  },
  {
   "cell_type": "markdown",
   "metadata": {},
   "source": [
    "From this 1-dimensional PCA space plot, I see that there are 3 or 4 clusters, depending on how dense the clusters are defined to be. If we take it as 4 clusters, this agrees with the optimal cluster 'k = 4' from the k-means clustering algorithm from 2.1 but we can also look at it in the way that if we understand that there are 3 clusters on this plot, then there might be some significance in this because we obtain 'k = 3' which is inbetween the optimal 'k = 2' from the CH score and 'k = 4' from the k-means algorithm, both from 2.1. However, if we define the clusters to be very dense/tight we can have even have up to 5 or 6 clusters, which does not relate to the optimal clusterings from 2.1."
   ]
  },
  {
   "cell_type": "markdown",
   "metadata": {},
   "source": [
    "I will now plot the samples of the dataset as points in the 2-dimensional PCA space:"
   ]
  },
  {
   "cell_type": "code",
   "execution_count": 65,
   "metadata": {},
   "outputs": [
    {
     "data": {
      "image/png": "[encoded data removed]",
      "text/plain": [
       "<Figure size 432x288 with 1 Axes>"
      ]
     },
     "metadata": {
      "needs_background": "light"
     },
     "output_type": "display_data"
    }
   ],
   "source": [
    "# Plot the 2-dimensional case\n",
    "\n",
    "plt.scatter(X_pca2[:, 0], X_pca2[:, 1]);\n",
    "plt.title('Plot of dataset as points in the 2-dimensional PCA space');"
   ]
  },
  {
   "cell_type": "markdown",
   "metadata": {},
   "source": [
    "Similar to the 1-dimensional case, in this 2-dimensional PCA space plot I see that there are 3 or 4 clusters, again depending on how dense the clusters are defined to be. If we take it as 4 clusters, as before this agrees with the optimal cluster 'k = 4' from the k-means clustering algorithm from 2.1 but we can also look at it in the way that if we understand that there are 3 clusters on this plot, then there might be the same significance in this because we obtain 'k = 3' which is inbetween the optimal 'k = 2' from the CH score and 'k = 4' from the k-means algorithm, both from 2.1. Again just like the 1-dimensional case, if we define the clusters to be very dense/tight we can have even have up to 5 or 6 clusters, which does not relate to the optimal clusterings from 2.1."
   ]
  },
  {
   "cell_type": "markdown",
   "metadata": {},
   "source": [
    "Finally, I will firstly plot the samples of the dataset as points in the 3-dimensional PCA space:"
   ]
  },
  {
   "cell_type": "code",
   "execution_count": 66,
   "metadata": {},
   "outputs": [
    {
     "data": {
      "image/png": "[encoded data removed]",
      "text/plain": [
       "<Figure size 432x288 with 1 Axes>"
      ]
     },
     "metadata": {
      "needs_background": "light"
     },
     "output_type": "display_data"
    }
   ],
   "source": [
    "# Plot the 3-dimensional case\n",
    "\n",
    "fig = plt.figure();\n",
    "ax = fig.add_subplot(111, projection='3d');\n",
    "ax.scatter(X_pca3[:, 0], X_pca3[:, 1], X_pca3[:, 2]);\n",
    "plt.title('Plot of dataset as points in the 3-dimensional PCA space');"
   ]
  },
  {
   "cell_type": "markdown",
   "metadata": {},
   "source": [
    "Similar to the 1-dimensional and 2-dimensional cases, in this 3-dimensional PCA space plot I see that there are 3 or 4 clusters, depending on how dense the clusters are defined to be. If we take it as 4 clusters, again this agrees with the optimal cluster 'k = 4' from the k-means clustering algorithm from 2.1 but we can also look at it in the way that if we understand that there are 3 clusters on this plot, again then there might be some significance in this because we obtain 'k = 3' which is inbetween the optimal 'k = 2' from the CH score and 'k = 4' from the k-means algorithm, both from 2.1. Similar to the 1-dimensional and 2-dimensional cases, if we define the clusters to be very dense/tight we can have a lot more clusters, but here it seems justifiable to go even higher, up to even have up to 7, 8 or even 9 clusters, but this again does not relate to the optimal clusterings from 2.1."
   ]
  },
  {
   "cell_type": "markdown",
   "metadata": {},
   "source": [
    "### Part 2.2.2"
   ]
  },
  {
   "cell_type": "markdown",
   "metadata": {},
   "source": [
    "Now I will consider the explained variance of these PCA approximations of reduced dimensionality, where explained variance is simply:\n",
    "$$\n",
    "\\textit{explained variance} = \\frac{\\textit{eigenvalue}}{\\textit{total variance}}\n",
    "$$\n",
    "$$\n",
    "$$\n",
    "where the total variance is the sum of the absolute value of all of the eigenvalues of the covariance matrix:  $\\mathbf C$"
   ]
  },
  {
   "cell_type": "markdown",
   "metadata": {},
   "source": [
    "I will now compute and plot the explained variance of the PCA approximations of reduced dimensionality for values of d in the interval [1, 10]:"
   ]
  },
  {
   "cell_type": "code",
   "execution_count": 69,
   "metadata": {},
   "outputs": [
    {
     "data": {
      "image/png": "[encoded data removed]",
      "text/plain": [
       "<Figure size 432x288 with 1 Axes>"
      ]
     },
     "metadata": {
      "needs_background": "light"
     },
     "output_type": "display_data"
    }
   ],
   "source": [
    "# Create a loop to find the explained variance for d = 1, 2, ..., 10\n",
    "for d in range(1, 11):\n",
    "    \n",
    "    # Use my PCA function to find the projection as well as the eigenvalues and eigenvectors of the feature matrix F\n",
    "    X_pca, eigenvectors, eigenvalues = pca_function(F, d)\n",
    "    # Compute the covariance matrix C\n",
    "    C = 1.0/(len(F)-1) * np.dot(F.T, F)\n",
    "    # Find the eigenvalues of C\n",
    "    all_eigenvalues, _ = np.linalg.eig(C)\n",
    "    # Use these eigenvales to find the total variance\n",
    "    total_variance = abs(all_eigenvalues.sum())\n",
    "    # Find the explained variance of the d-dimensional PCA approximation\n",
    "    explained_variances = eigenvalues /  total_variance\n",
    "    plt.scatter(d, explained_variances[-1], color='b')\n",
    "\n",
    "plt.xlabel('Dimensionality reduction to this dimension');\n",
    "plt.ylabel('Explained variance');\n",
    "plt.title('Explained variance of d-dimensional PCA approximation');\n",
    "plt.show();"
   ]
  },
  {
   "cell_type": "markdown",
   "metadata": {},
   "source": [
    "From the lecture notes, I know that the ideal dimensionality is the one before the large drop off in explained variance, so from the plot it can be argued that the ideal dimension is d = 1 or d = 3. To build on this, I considered the spectral decomposition of $M$ = $F^{T}F$ so I will find the eigenvalues of matrix M using the following code:"
   ]
  },
  {
   "cell_type": "code",
   "execution_count": 72,
   "metadata": {},
   "outputs": [
    {
     "name": "stderr",
     "output_type": "stream",
     "text": [
      "c:\\users\\winuser\\anaconda3\\envs\\tf\\lib\\site-packages\\ipykernel_launcher.py:7: RuntimeWarning: invalid value encountered in log\n",
      "  import sys\n"
     ]
    },
    {
     "data": {
      "image/png": "[encoded data removed]",
      "text/plain": [
       "<Figure size 432x288 with 1 Axes>"
      ]
     },
     "metadata": {
      "needs_background": "light"
     },
     "output_type": "display_data"
    }
   ],
   "source": [
    "# Obtain the eigenvalues and eigenvectors of M using linalg.eig from before\n",
    "eigenvalues, eigenvectors = np.linalg.eig(F.T @ F)\n",
    "# Split the real and imaginary parts of each eigenvalue\n",
    "x = [eig.real for eig in eigenvalues]\n",
    "y = [eig.imag for eig in eigenvalues]\n",
    "# Plot the eigenvalues of an Argand (Re, Im) diagram\n",
    "plt.scatter(np.log(x), y)\n",
    "plt.xlabel('log(Real(eigenvalue))');\n",
    "plt.ylabel('Imaginary(eigenvalue)');\n",
    "plt.title('A plot showing the eigenvalues of F.T @ F');\n",
    "plt.show();"
   ]
  },
  {
   "cell_type": "markdown",
   "metadata": {},
   "source": [
    "From this we can see that there is a huge jump in the eigenvalues for some dimension d, and so the following logarithmic plot will allow me to identify for which value this is:"
   ]
  },
  {
   "cell_type": "code",
   "execution_count": 74,
   "metadata": {},
   "outputs": [
    {
     "data": {
      "image/png": "[encoded data removed]",
      "text/plain": [
       "<Figure size 432x288 with 1 Axes>"
      ]
     },
     "metadata": {
      "needs_background": "light"
     },
     "output_type": "display_data"
    }
   ],
   "source": [
    "# Create a loop over 45 dimensions to see for which eigenvalue there is a huge jump\n",
    "for k in range(1, 45):\n",
    "    # Calculate the explained variance for each dimension as before\n",
    "    X_pca, eigenvectors, eigenvalues = pca_function(F, k)\n",
    "    C = 1.0/(len(F)-1) * np.dot(F.T, F)\n",
    "    all_eigenvalues, _ = np.linalg.eig(C)\n",
    "    total_variance = abs(all_eigenvalues.sum())\n",
    "    explained_variances = eigenvalues /  total_variance\n",
    "    # This time plot on a logarithmic scale since we are deal with a very small scale. Add 1e-16 to avoid an input of \n",
    "    # zero into the log function.\n",
    "    plt.scatter(k, np.log(explained_variances[-1]  + 1e-16), color='b')\n",
    "plt.xlabel('Dimensionality reduction to this dimension')\n",
    "plt.ylabel('log(explained variance)')\n",
    "plt.title('A plot showing the eigenvalues of F.T @ F for d-dimension')\n",
    "plt.show();"
   ]
  },
  {
   "cell_type": "markdown",
   "metadata": {},
   "source": [
    "From this we see that the ideal dimension would be d = 33. So now we have three ideal dimensions 'd = 1', 'd = 3' and 'd = 33' and ultimately the ideal dimension has to be a balance of significant reduction in dimension (to allow for faster and easier computation) while still maintaining a large proportion of the dataset information to ensure that it is still recognisable. The loss in data from the dimension reduction can be calculated by the sum of the explained variance of the discarded eigenvalues, so from this we see that for 'd = 1' we retain 35% of the information and have reduced the dimension of the matrix from 34x100 to 34x1, then for 'd = 3' we retain 60% of the information and have reduced the dimension of the matrix from 34x100 to 34x3 and finally for 'd = 33' we retain ~100% of the information and have reduced the dimension of the matrix from 34x100 to 34x33. I believe that the ideal dimension is 'd = 3' as it provides a balance between a massive reduction in dimension but allows us to retain 60% even after discarding 97 features. This feature matrix is well-described because as shown above I am able reduce dimension (by removing columns) and still able to maintain a large proportion of data information."
   ]
  },
  {
   "cell_type": "markdown",
   "metadata": {},
   "source": [
    "## 2.3 Graph-Based Analysis (GBA)\n",
    "\n",
    "Graph-based analysis (GBA) refers to the process of analyzing data in a graph format using data points as nodes and relationships as edges, this is often used when looking at social networks such as Zachary's karate club. GBA is conducted by implementing theoretical algorithms, often using the NetworkX package as it allows for easy visualisation.\n",
    "\n",
    "### Part 2.3.1"
   ]
  },
  {
   "cell_type": "markdown",
   "metadata": {},
   "source": [
    "I will now consider node centrality, which allows me to identify nodes that are central within our graph, this is done by . There are a range of methods for identifying node centrality, which measure different structural properties of the network and I will consider three main types: \n",
    "* Degree centrality\n",
    "* Eigenvector centrality\n",
    "* PageRank centrality"
   ]
  },
  {
   "cell_type": "markdown",
   "metadata": {},
   "source": [
    "Firstly, I will now use csv.reader to import the adjacency matrix A from a microsoft excel spreadsheet, and just quickly check that I have imported the correct dataset."
   ]
  },
  {
   "cell_type": "code",
   "execution_count": 87,
   "metadata": {},
   "outputs": [
    {
     "name": "stdout",
     "output_type": "stream",
     "text": [
      "(34, 34)\n",
      "[[0. 1. 1. ... 1. 0. 0.]\n",
      " [1. 0. 1. ... 0. 0. 0.]\n",
      " [1. 1. 0. ... 0. 1. 0.]\n",
      " ...\n",
      " [1. 0. 0. ... 0. 1. 1.]\n",
      " [0. 0. 1. ... 1. 0. 1.]\n",
      " [0. 0. 0. ... 1. 1. 0.]]\n"
     ]
    }
   ],
   "source": [
    "# Import our adjacency matrix A from excel\n",
    "import csv\n",
    "\n",
    "adjacency_matrix = csv.reader(open(\"karate_club_graph1.csv\", \"r\"), delimiter=\",\")\n",
    "adjacency_matrix = list(adjacency_matrix)\n",
    "A = np.array(adjacency_matrix).astype(\"float\")\n",
    "print(A.shape)\n",
    "print(A)"
   ]
  },
  {
   "cell_type": "markdown",
   "metadata": {},
   "source": [
    "Firstly, I will start by defining degree centrality as it was defined in the lecture notes:\n",
    "$$\n",
    "\\textit{degree centrality} = \\frac{\\textit{degree}}{N - 1}\n",
    "$$\n",
    "$$\n",
    "$$\n",
    "Now I will calculate and print this for Zachary's karate club graph:"
   ]
  },
  {
   "cell_type": "code",
   "execution_count": 88,
   "metadata": {},
   "outputs": [
    {
     "name": "stdout",
     "output_type": "stream",
     "text": [
      "[0.48484848 0.27272727 0.3030303  0.18181818 0.09090909 0.12121212\n",
      " 0.12121212 0.12121212 0.15151515 0.06060606 0.09090909 0.03030303\n",
      " 0.06060606 0.15151515 0.06060606 0.06060606 0.06060606 0.06060606\n",
      " 0.06060606 0.09090909 0.06060606 0.06060606 0.06060606 0.15151515\n",
      " 0.09090909 0.09090909 0.06060606 0.12121212 0.09090909 0.12121212\n",
      " 0.12121212 0.18181818 0.36363636 0.51515152]\n"
     ]
    },
    {
     "data": {
      "image/png": "[encoded data removed]",
      "text/plain": [
       "<Figure size 432x288 with 1 Axes>"
      ]
     },
     "metadata": {
      "needs_background": "light"
     },
     "output_type": "display_data"
    }
   ],
   "source": [
    "# Compute the degree of the adjacency, which is the size of our NxN matrix A\n",
    "N = 34\n",
    "\n",
    "# Calculate the degree centrality as described above\n",
    "degree = A.sum(axis=1)\n",
    "degree_centrality = degree / (N - 1)\n",
    "\n",
    "print(degree_centrality)\n",
    "plt.plot(degree_centrality);"
   ]
  },
  {
   "cell_type": "markdown",
   "metadata": {},
   "source": [
    "From this plot I can see that for degree centrality the first, second and last nodes are highly central as they have high centrality values compared to the rest of the nodes."
   ]
  },
  {
   "cell_type": "markdown",
   "metadata": {},
   "source": [
    "Next, I will define eigenvector centrality as it was defined in the lecture notes:\n",
    "$$\n",
    "\\textit{eigenvector centrality} = |v_{max}|\n",
    "$$\n",
    "$$\n",
    "$$\n",
    "where $v_{max}$ is the eigenvector corresponding to the largest eigenvalue: $\\lambda_{max}$."
   ]
  },
  {
   "cell_type": "markdown",
   "metadata": {},
   "source": [
    "Now I will calculate and print this for Zachary's karate club graph:"
   ]
  },
  {
   "cell_type": "code",
   "execution_count": 89,
   "metadata": {},
   "outputs": [
    {
     "name": "stdout",
     "output_type": "stream",
     "text": [
      "[[0.35549144]\n",
      " [0.26595992]\n",
      " [0.3171925 ]\n",
      " [0.21117972]\n",
      " [0.07596882]\n",
      " [0.07948305]\n",
      " [0.07948305]\n",
      " [0.17095975]\n",
      " [0.22740391]\n",
      " [0.10267425]\n",
      " [0.07596882]\n",
      " [0.0528557 ]\n",
      " [0.08425463]\n",
      " [0.22647272]\n",
      " [0.10140326]\n",
      " [0.10140326]\n",
      " [0.02363563]\n",
      " [0.09239954]\n",
      " [0.10140326]\n",
      " [0.14791251]\n",
      " [0.10140326]\n",
      " [0.09239954]\n",
      " [0.10140326]\n",
      " [0.15011857]\n",
      " [0.05705244]\n",
      " [0.05920647]\n",
      " [0.07557941]\n",
      " [0.13347715]\n",
      " [0.13107782]\n",
      " [0.13496082]\n",
      " [0.1747583 ]\n",
      " [0.19103384]\n",
      " [0.30864422]\n",
      " [0.37336347]]\n"
     ]
    },
    {
     "data": {
      "image/png": "[encoded data removed]",
      "text/plain": [
       "<Figure size 432x288 with 1 Axes>"
      ]
     },
     "metadata": {
      "needs_background": "light"
     },
     "output_type": "display_data"
    }
   ],
   "source": [
    "from scipy.sparse import linalg\n",
    "\n",
    "# Calculate the eigenvector centrality as described above\n",
    "eigenvalue, eigenvector = linalg.eigsh(A, 1, which=\"LM\", return_eigenvectors=True)\n",
    "eigenvector_centrality = np.abs(eigenvector)\n",
    "print(eigenvector_centrality)\n",
    "plt.plot(eigenvector_centrality);"
   ]
  },
  {
   "cell_type": "markdown",
   "metadata": {},
   "source": [
    "From this plot I can see that for eigenvector centrality the first, second, third, fourth as well as the last, second last and third last nodes are highly central as they have high centrality values compared to the rest of the nodes. This shows that a lot more nodes are highly central for eigenvector centrality compared to degree centrality and pagerank centrality (to follow, as pagerank and degree centrality are very similar)."
   ]
  },
  {
   "cell_type": "markdown",
   "metadata": {},
   "source": [
    "Lastly, I will start by defining degree centrality as it was defined in the lecture notes:\n",
    "$$\n",
    "\\textit{pagerank centrality} = (I - \\alpha(AD^{-1})) c_{PR} = \\frac{1}{N}(\\mathbf 1 - \\mathbf \\alpha)\n",
    "$$\n",
    "where $A$ is the adjacency matrix, $D$ is the main diagonal of the adjacency matrix, $I$ is the identity matrix, $c_{PR}$ is the pagerank centrality and $\\alpha$ is a constant."
   ]
  },
  {
   "cell_type": "markdown",
   "metadata": {},
   "source": [
    "Now I will calculate and print this for Zachary's karate club graph:"
   ]
  },
  {
   "cell_type": "code",
   "execution_count": 90,
   "metadata": {},
   "outputs": [
    {
     "name": "stdout",
     "output_type": "stream",
     "text": [
      "[[0.09699729]\n",
      " [0.05287692]\n",
      " [0.05707851]\n",
      " [0.03585986]\n",
      " [0.02197795]\n",
      " [0.02911115]\n",
      " [0.02911115]\n",
      " [0.0244905 ]\n",
      " [0.02976606]\n",
      " [0.0143094 ]\n",
      " [0.02197795]\n",
      " [0.00956475]\n",
      " [0.01464489]\n",
      " [0.02953646]\n",
      " [0.01453599]\n",
      " [0.01453599]\n",
      " [0.01678401]\n",
      " [0.01455868]\n",
      " [0.01453599]\n",
      " [0.01960464]\n",
      " [0.01453599]\n",
      " [0.01455868]\n",
      " [0.01453599]\n",
      " [0.03152251]\n",
      " [0.02107603]\n",
      " [0.0210062 ]\n",
      " [0.01504404]\n",
      " [0.02563977]\n",
      " [0.01957346]\n",
      " [0.02628854]\n",
      " [0.02459016]\n",
      " [0.03715809]\n",
      " [0.07169323]\n",
      " [0.10091918]]\n"
     ]
    },
    {
     "data": {
      "image/png": "[encoded data removed]",
      "text/plain": [
       "<Figure size 432x288 with 1 Axes>"
      ]
     },
     "metadata": {
      "needs_background": "light"
     },
     "output_type": "display_data"
    }
   ],
   "source": [
    "# Calculate the pagerank centrality as described above\n",
    "diag = np.diag(A.sum(axis=1))\n",
    "alpha = 0.85\n",
    "N = 34\n",
    "A1 = np.eye(N) - ( alpha * (A @ np.linalg.inv(diag)) )\n",
    "b1 = (1 - alpha)/N * np.ones((N, 1))\n",
    "pagerank_centrality = np.linalg.solve(A1, b1)\n",
    "print(pagerank_centrality)\n",
    "plt.plot(pagerank_centrality);"
   ]
  },
  {
   "cell_type": "markdown",
   "metadata": {},
   "source": [
    "From this plot I can see that for pagerank centrality the first, second and last nodes are highly central as they have high centrality values compared to the rest of the nodes, this is almost identical to degree centrality."
   ]
  },
  {
   "cell_type": "markdown",
   "metadata": {},
   "source": [
    "I will use the following seaborn correlation plots and calculate the Spearmans Rank to show how correlated each of the different centrality measures are:"
   ]
  },
  {
   "cell_type": "code",
   "execution_count": 91,
   "metadata": {},
   "outputs": [
    {
     "name": "stdout",
     "output_type": "stream",
     "text": [
      "Spearmans rank coefficient for degree vs eigenvector centrality: 0.7752555221953447\n",
      "Spearmans rank coefficient for degree vs pagerank centrality: 0.9787753706758103\n",
      "Spearmans rank coefficient for eigenvector vs pagerank centrality: 0.6749319199221476\n"
     ]
    },
    {
     "data": {
      "image/png": "[encoded data removed]",
      "text/plain": [
       "<Figure size 540x540 with 9 Axes>"
      ]
     },
     "metadata": {
      "needs_background": "light"
     },
     "output_type": "display_data"
    }
   ],
   "source": [
    "import seaborn as sns\n",
    "from scipy.stats import spearmanr\n",
    "\n",
    "# Concatenate the different centralities to create a set of correlation plots between all three\n",
    "degree_centrality = degree_centrality.reshape((34, 1))\n",
    "rankings = np.concatenate((degree_centrality, eigenvector_centrality, pagerank_centrality), axis = 1)\n",
    "rankings1 = pd.DataFrame(rankings)\n",
    "sns.pairplot(rankings1, corner=True);\n",
    "\n",
    "# Calculate the Spearmans Rank to assign an actual value to the correlation of these different measures \n",
    "deg_ein = spearmanr(rankings1.iloc[:, 0], rankings1.iloc[:, 1])[0]\n",
    "deg_pr = spearmanr(rankings1.iloc[:, 0], rankings1.iloc[:, 2])[0]\n",
    "ein_pr = spearmanr(rankings1.iloc[:, 1], rankings1.iloc[:, 2])[0]\n",
    "\n",
    "print('Spearmans rank coefficient for degree vs eigenvector centrality:', deg_ein)\n",
    "print('Spearmans rank coefficient for degree vs pagerank centrality:', deg_pr)\n",
    "print('Spearmans rank coefficient for eigenvector vs pagerank centrality:', ein_pr)"
   ]
  },
  {
   "cell_type": "markdown",
   "metadata": {},
   "source": [
    "* For degree vs eigenvector centrality, I have a Spearmans Rank coefficient of 0.7752555221953447 which shows that these two centralities are strongly correlated. This is fortified by the top left scatter plot that highlights the correlation between these two measures as there are a fair few shared node centralities\n",
    "* For degree vs pagerank centrality, I have a Spearmans Rank coefficient of 0.9787753706758103 which shows that these two centralities are almost identical as their correlation is almost 1. This is fortified by the middle scatter plot that shows a lot of shared node centralities\n",
    "* For eigenvector vs pagerank centrality, I have a Spearmans Rank coefficient of 0.675084965708978 which shows that these two centralities are correlated but are the weakest of the three, which is further shown by the bottom right scatter plot as there are some shared node centralities"
   ]
  },
  {
   "cell_type": "markdown",
   "metadata": {},
   "source": [
    "### Part 2.3.2"
   ]
  },
  {
   "cell_type": "markdown",
   "metadata": {},
   "source": [
    "I will use the Clauset-Newman-Moore greedy modularity maximization algorithm (which I will refer to as the greedy modularity algorithm - GMA) which begins with each node in its own community and keeps joining the pair of communities that most increase modularity until no such pair exists, so when this algorithm is finished the data points will all be divided exclusively into different clusters, I obtained this definition from [networkx.algorithms.community.modularity_max.greedy] - see references at the bottom. I will implement this GMA using the inbuilt function in NetworkX by running the following code which will partition the dataset into communities."
   ]
  },
  {
   "cell_type": "code",
   "execution_count": 92,
   "metadata": {
    "scrolled": true
   },
   "outputs": [
    {
     "name": "stdout",
     "output_type": "stream",
     "text": [
      "Community 1 is: [8, 14, 15, 18, 20, 22, 23, 24, 25, 26, 27, 28, 29, 30, 31, 32, 33] this has size: 17\n",
      "Community 2 is: [1, 2, 3, 7, 9, 12, 13, 17, 21] this has size: 9\n",
      "Community 3 is: [0, 4, 5, 6, 10, 11, 16, 19] this has size: 8\n"
     ]
    }
   ],
   "source": [
    "# Import required function\n",
    "from networkx.algorithms.community import greedy_modularity_communities\n",
    "\n",
    "# Use the inbuilt greedy modularity function\n",
    "G = nx.karate_club_graph()\n",
    "c = list(greedy_modularity_communities(G))\n",
    "\n",
    "#Print the communities given by this function\n",
    "c0 = sorted(c[0])\n",
    "c1 = sorted(c[1])\n",
    "c2 = sorted(c[2])\n",
    "\n",
    "print('Community 1 is:', c0, 'this has size:' , len(c[0]))\n",
    "print('Community 2 is:', c1, 'this has size:' , len(c[1]))\n",
    "print('Community 3 is:', c2, 'this has size:' , len(c[2]))"
   ]
  },
  {
   "cell_type": "markdown",
   "metadata": {},
   "source": [
    "From this it is clear to see that the optimal number of communities is k* = 3 as the GMA has stopped running and outputted three different communities."
   ]
  },
  {
   "cell_type": "markdown",
   "metadata": {},
   "source": [
    "To be able to visualise this properly, I will plot these obtained clusters on a graph and assign a different colour to each community so we can better understand this clustering.  In order to do this I will now assign labels to the nodes in the following way:\n",
    "* Nodes in community 1 have the label: 'comm1'\n",
    "* Nodes in community 2 have the label: 'comm2'\n",
    "* Nodes in community 3 have the label: 'comm3'"
   ]
  },
  {
   "cell_type": "code",
   "execution_count": 93,
   "metadata": {},
   "outputs": [
    {
     "data": {
      "text/plain": [
       "NodeDataView({0: {'club': 'Mr. Hi', 'label': 'comm3'}, 1: {'club': 'Mr. Hi', 'label': 'comm2'}, 2: {'club': 'Mr. Hi', 'label': 'comm2'}, 3: {'club': 'Mr. Hi', 'label': 'comm2'}, 4: {'club': 'Mr. Hi', 'label': 'comm3'}, 5: {'club': 'Mr. Hi', 'label': 'comm3'}, 6: {'club': 'Mr. Hi', 'label': 'comm3'}, 7: {'club': 'Mr. Hi', 'label': 'comm2'}, 8: {'club': 'Mr. Hi', 'label': 'comm1'}, 9: {'club': 'Officer', 'label': 'comm2'}, 10: {'club': 'Mr. Hi', 'label': 'comm3'}, 11: {'club': 'Mr. Hi', 'label': 'comm3'}, 12: {'club': 'Mr. Hi', 'label': 'comm2'}, 13: {'club': 'Mr. Hi', 'label': 'comm2'}, 14: {'club': 'Officer', 'label': 'comm1'}, 15: {'club': 'Officer', 'label': 'comm1'}, 16: {'club': 'Mr. Hi', 'label': 'comm3'}, 17: {'club': 'Mr. Hi', 'label': 'comm2'}, 18: {'club': 'Officer', 'label': 'comm1'}, 19: {'club': 'Mr. Hi', 'label': 'comm3'}, 20: {'club': 'Officer', 'label': 'comm1'}, 21: {'club': 'Mr. Hi', 'label': 'comm2'}, 22: {'club': 'Officer', 'label': 'comm1'}, 23: {'club': 'Officer', 'label': 'comm1'}, 24: {'club': 'Officer', 'label': 'comm1'}, 25: {'club': 'Officer', 'label': 'comm1'}, 26: {'club': 'Officer', 'label': 'comm1'}, 27: {'club': 'Officer', 'label': 'comm1'}, 28: {'club': 'Officer', 'label': 'comm1'}, 29: {'club': 'Officer', 'label': 'comm1'}, 30: {'club': 'Officer', 'label': 'comm1'}, 31: {'club': 'Officer', 'label': 'comm1'}, 32: {'club': 'Officer', 'label': 'comm1'}, 33: {'club': 'Officer', 'label': 'comm1'}})"
      ]
     },
     "execution_count": 93,
     "metadata": {},
     "output_type": "execute_result"
    }
   ],
   "source": [
    "# Adding a label to certain nodes as explained above\n",
    "for i in c0:\n",
    "    G.nodes[i]['label'] = 'comm1'\n",
    "for i in c1:\n",
    "    G.nodes[i]['label'] = 'comm2'\n",
    "for i in c2:\n",
    "    G.nodes[i]['label'] = 'comm3'\n",
    "G.nodes(data=True)"
   ]
  },
  {
   "cell_type": "markdown",
   "metadata": {},
   "source": [
    "We can clearly see that each node has been assigned a label based on what community the GMA put them in, with this I am now able to use NetworkX to create the desired graph described above:"
   ]
  },
  {
   "cell_type": "code",
   "execution_count": 94,
   "metadata": {},
   "outputs": [
    {
     "name": "stdout",
     "output_type": "stream",
     "text": [
      "['comm3', 'comm2', 'comm2', 'comm2', 'comm3', 'comm3', 'comm3', 'comm2', 'comm1', 'comm2', 'comm3', 'comm3', 'comm2', 'comm2', 'comm1', 'comm1', 'comm3', 'comm2', 'comm1', 'comm3', 'comm1', 'comm2', 'comm1', 'comm1', 'comm1', 'comm1', 'comm1', 'comm1', 'comm1', 'comm1', 'comm1', 'comm1', 'comm1', 'comm1']\n",
      "[2, 1, 1, 1, 2, 2, 2, 1, 0, 1, 2, 2, 1, 1, 0, 0, 2, 1, 0, 2, 0, 1, 0, 0, 0, 0, 0, 0, 0, 0, 0, 0, 0, 0]\n"
     ]
    },
    {
     "data": {
      "image/png": "[encoded data removed]",
      "text/plain": [
       "<Figure size 432x288 with 1 Axes>"
      ]
     },
     "metadata": {},
     "output_type": "display_data"
    }
   ],
   "source": [
    "# Get the community labels for each node\n",
    "node_community = list(nx.get_node_attributes(G, 'label').values())\n",
    "print(node_community)\n",
    "\n",
    "# Using list comprehension to assign community labels\n",
    "node_community_id = [0 if label=='comm1' else 1 if label=='comm2' else 2 for label in node_community]\n",
    "print(node_community_id)\n",
    "\n",
    "# Use networkx to draw a graph (colour map) using these labels and assign a different colour for each community\n",
    "pos = nx.spring_layout(G)\n",
    "nx.draw(G, pos, node_color=node_community_id, with_labels = True, cmap=plt.cm.gist_rainbow)"
   ]
  },
  {
   "cell_type": "markdown",
   "metadata": {},
   "source": [
    "The graph above shows each node and the community they belong to based on what colour they are."
   ]
  },
  {
   "cell_type": "markdown",
   "metadata": {},
   "source": [
    "Now to take this further, I will consider the distribution of the top 8 node centralities and see which communities they are in. I will first start by consider the top 8 node centralities according to degree centrality."
   ]
  },
  {
   "cell_type": "code",
   "execution_count": 106,
   "metadata": {},
   "outputs": [
    {
     "name": "stdout",
     "output_type": "stream",
     "text": [
      "[33  0 32  2  1 31  3 23]\n",
      "Node 0 is in: comm1\n",
      "Node 1 is in: comm3\n",
      "Node 2 is in: comm1\n",
      "Node 3 is in: comm2\n",
      "Node 4 is in: comm2\n",
      "Node 5 is in: comm1\n",
      "Node 6 is in: comm2\n",
      "Node 7 is in: comm1\n"
     ]
    }
   ],
   "source": [
    "# Use argsort to obtain the top 8 values in my degree centrality vector\n",
    "degree_centrality = degree_centrality.reshape((34, ))\n",
    "top8_dc = np.argsort(degree_centrality)[-8:]\n",
    "top8_dc = np.flip(top8_dc)\n",
    "\n",
    "# Use a loop to output these and print what community they are in\n",
    "print(top8_dc)\n",
    "for i in range(8):\n",
    "    print('Node', i, 'is in:', node_community[top8_dc[i]])"
   ]
  },
  {
   "cell_type": "markdown",
   "metadata": {},
   "source": [
    "We see that we have the top 8 nodes according to degree centrality are distributed in the following way:\n",
    "- 4 nodes in community 1\n",
    "- 3 nodes in community 2\n",
    "- 1 node in community 3 "
   ]
  },
  {
   "cell_type": "markdown",
   "metadata": {},
   "source": [
    "This distribution can be very simplify represented by the following bar chart:"
   ]
  },
  {
   "cell_type": "code",
   "execution_count": 336,
   "metadata": {},
   "outputs": [
    {
     "data": {
      "image/png": "[encoded data removed]",
      "text/plain": [
       "<Figure size 432x288 with 1 Axes>"
      ]
     },
     "metadata": {
      "needs_background": "light"
     },
     "output_type": "display_data"
    }
   ],
   "source": [
    "# Define the communities and the frequency according to the distribution above and plot the bar chat\n",
    "communities = ['comm1', 'comm2', 'comm3']\n",
    "frequency = [4, 3, 1]\n",
    "plt.bar(communities, frequency);\n",
    "plt.title('Bar chart showing the distribution of top 8 nodes by degree centrality');\n",
    "plt.xlabel('Node community');\n",
    "plt.ylabel('Frequency');"
   ]
  },
  {
   "cell_type": "markdown",
   "metadata": {},
   "source": [
    " I will do the same thing again but now consider the top 8 node centralities according to pagerank centrality."
   ]
  },
  {
   "cell_type": "code",
   "execution_count": 194,
   "metadata": {},
   "outputs": [
    {
     "name": "stdout",
     "output_type": "stream",
     "text": [
      "[33  0 32  2  1 31  3 23]\n",
      "Node 0 is in: comm1\n",
      "Node 1 is in: comm3\n",
      "Node 2 is in: comm1\n",
      "Node 3 is in: comm2\n",
      "Node 4 is in: comm2\n",
      "Node 5 is in: comm1\n",
      "Node 6 is in: comm2\n",
      "Node 7 is in: comm1\n"
     ]
    }
   ],
   "source": [
    "pagerank_centrality = pagerank_centrality.reshape((34, ))\n",
    "top8_pr = np.argsort(pagerank_centrality)[-8:]\n",
    "top8_pr = np.flip(top8_pr)\n",
    "print(top8_pr)\n",
    "for i in range(8):\n",
    "    print('Node', i, 'is in:', node_community[top8_pr[i]])"
   ]
  },
  {
   "cell_type": "markdown",
   "metadata": {},
   "source": [
    "We see that we have the top 8 nodes according to PageRank centrality are distributed in same way as before, which is as follows:\n",
    "- 4 nodes in community 1\n",
    "- 3 nodes in community 2\n",
    "- 1 node in community 3 \n"
   ]
  },
  {
   "cell_type": "markdown",
   "metadata": {},
   "source": [
    "This distribution can be very simplify represented by the following bar chart:"
   ]
  },
  {
   "cell_type": "code",
   "execution_count": 335,
   "metadata": {},
   "outputs": [
    {
     "data": {
      "image/png": "[encoded data removed]",
      "text/plain": [
       "<Figure size 432x288 with 1 Axes>"
      ]
     },
     "metadata": {
      "needs_background": "light"
     },
     "output_type": "display_data"
    }
   ],
   "source": [
    "# Define the communities and the frequency according to the distribution above and plot the bar chat\n",
    "communities = ['comm1', 'comm2', 'comm3']\n",
    "frequency = [4, 3, 1]\n",
    "plt.bar(communities, frequency);\n",
    "plt.title('Bar chart showing the distribution of top 8 nodes by PageRank centrality');\n",
    "plt.xlabel('Node community');\n",
    "plt.ylabel('Frequency');"
   ]
  },
  {
   "cell_type": "markdown",
   "metadata": {},
   "source": [
    "I can see that the distribution of the top 8 node centralities are the exact same according to the degree and pagerank centrality measures, this is expected because they are almost identical as shown by their Spearmans Rank coefficient of 0.9787753706758103 and so it is natural they distribute the top 8 node centralities in the same way."
   ]
  },
  {
   "cell_type": "markdown",
   "metadata": {},
   "source": [
    "### Part 2.3.3"
   ]
  },
  {
   "cell_type": "markdown",
   "metadata": {},
   "source": [
    "I will now define the Adjusted Rand Index (ARI) score, which I will use to get an idea of the similarity/correlation between two data clusterings, this is the corrected-for-chance version of Rand Index. I researched the ARI to further understand it using [The Adjusted Rand index - Dave Tang's blog] - see references at the bottom, but used the formula/definition from the lecture notes."
   ]
  },
  {
   "cell_type": "markdown",
   "metadata": {},
   "source": [
    "Before I calculate the ARI, I need to define my own n choose 2 function that allows me to apply it to matrices, as the standard inbuilt combinatorics function cannot do this:"
   ]
  },
  {
   "cell_type": "code",
   "execution_count": 112,
   "metadata": {},
   "outputs": [],
   "source": [
    "# We will import the in-built combinatorics function 'comb' from the scipy module for the following two functions\n",
    "from scipy.special import comb\n",
    "\n",
    "# We need to define an n choose 2 function that applies element-wise to matrix entries \n",
    "def nc2_matrix(m1):\n",
    "    # Make a zeros deep copy of A which we contain the entries of A after applying nC2 to each entry\n",
    "    m2 = 0.0 * m1\n",
    "    k_A, k_B = m1.shape\n",
    "    for i in range(k_A):\n",
    "        for j in range(k_B):\n",
    "            m2[i, j] = comb(m1[i, j], 2)\n",
    "    return m2"
   ]
  },
  {
   "cell_type": "markdown",
   "metadata": {},
   "source": [
    "Now using my 'nc2_matrix()' function I will define a function that finds the ARI based on the formula given above:"
   ]
  },
  {
   "cell_type": "code",
   "execution_count": 118,
   "metadata": {},
   "outputs": [],
   "source": [
    "def Adj_Rand_Index(C_A, C_B):\n",
    "    \n",
    "    # Get the correct data type and use max to get the number of different truth values\n",
    "    C_A = C_A.astype('int64')\n",
    "    C_B = C_B.astype('int64')\n",
    "    k_A = max(C_A) + 1\n",
    "    k_B = max(C_B) + 1\n",
    "    \n",
    "    # Preallocate contingency matrix - it has entries n_ij which is the co-occurences which is number of times \n",
    "    # an element occurs in cluster i of X AND cluster j of Y\n",
    "    cont_matrix = np.zeros((k_A, k_B))\n",
    "    for i in range(34):\n",
    "        for j in range(k_A):\n",
    "            for k in range(k_B):\n",
    "                if C_A[i] == j and C_B[i] == k:\n",
    "                    cont_matrix[j, k] += 1                                \n",
    "                        \n",
    "    # Calculate the values we need to put into the ARI formula given above\n",
    "    S_n = np.sum(nc2_matrix(cont_matrix))\n",
    "\n",
    "    a_ij = [sum(cont_matrix[i]) for i in range(k_A)]\n",
    "    # Made into an array and changed shaped from (k_A, ) to (k_A, 1)\n",
    "    a_ij = np.array(a_ij)\n",
    "    a_ij = a_ij.reshape((k_A, 1))\n",
    "    S_a = sum(nc2_matrix(a_ij))\n",
    "\n",
    "    b_ij = [sum(cont_matrix[:, i]) for i in range(k_B)]\n",
    "    # Made into an array and changed shaped from (k_B, ) to (k_B, 1)\n",
    "    b_ij = np.array(b_ij)\n",
    "    b_ij = b_ij.reshape((k_B, 1))\n",
    "    S_b = sum(nc2_matrix(b_ij))\n",
    "\n",
    "    ARI = (S_n - (S_a @ S_b) / comb(34, 2)) / (0.5 * (S_a + S_b) - (S_a @ S_b) / comb(34, 2))\n",
    "    return ARI"
   ]
  },
  {
   "cell_type": "markdown",
   "metadata": {},
   "source": [
    "I will first import our real-life acrimonious split which I will refer to as the truth labels, from a microsoft excel spreadsheet using csv.reader:"
   ]
  },
  {
   "cell_type": "code",
   "execution_count": 114,
   "metadata": {},
   "outputs": [
    {
     "name": "stdout",
     "output_type": "stream",
     "text": [
      "[1. 1. 1. 1. 1. 1. 1. 1. 1. 0. 1. 1. 1. 1. 0. 0. 1. 1. 0. 1. 0. 1. 0. 0.\n",
      " 0. 0. 0. 0. 0. 0. 0. 0. 0. 0.]\n"
     ]
    }
   ],
   "source": [
    "# Import and define our truth labels\n",
    "import csv\n",
    "\n",
    "g = csv.reader(open(\"ground_truth_karate_club1.csv\", \"r\"), delimiter=\",\")\n",
    "g = list(g)\n",
    "\n",
    "label_truth = np.zeros((34,))\n",
    "for i in range(34):\n",
    "    if g[i][0] == 'Mr. Hi':\n",
    "        label_truth[i] = 1\n",
    "print(label_truth)"
   ]
  },
  {
   "cell_type": "markdown",
   "metadata": {},
   "source": [
    "Now, I will take my optimal clusters obtained in 2.1.2 through k-means clustering and define this as label 1:"
   ]
  },
  {
   "cell_type": "code",
   "execution_count": 115,
   "metadata": {},
   "outputs": [
    {
     "name": "stdout",
     "output_type": "stream",
     "text": [
      "[1 0 1 1 0 1 0 1 0 1 0 0 0 1 1 1 1 0 0 1 1 0 0 1 1 1 0 1 1 0 1 0 1 0]\n"
     ]
    }
   ],
   "source": [
    "#Label 1\n",
    "label_KMC = k_means_clustering(2)[1]\n",
    "print(label_KMC)"
   ]
  },
  {
   "cell_type": "markdown",
   "metadata": {},
   "source": [
    "Finally, I will take my optimal clusters obtained in 2.3.2 through node communities and define this as label 2:"
   ]
  },
  {
   "cell_type": "code",
   "execution_count": 116,
   "metadata": {},
   "outputs": [
    {
     "name": "stdout",
     "output_type": "stream",
     "text": [
      "[2 1 1 1 2 2 2 1 0 1 2 2 1 1 0 0 2 1 0 2 0 1 0 0 0 0 0 0 0 0 0 0 0 0]\n"
     ]
    }
   ],
   "source": [
    "#Label 2\n",
    "node_community_id = np.array(node_community_id)\n",
    "label_GNC = node_community_id.reshape((34, ))\n",
    "print(label_GNC)"
   ]
  },
  {
   "cell_type": "markdown",
   "metadata": {},
   "source": [
    "Now, I will use my ARI function on these three labels to assign a numerical value to the similarity between two data clusterings, I found the ARI between each of the three labels and outputted them:"
   ]
  },
  {
   "cell_type": "code",
   "execution_count": 117,
   "metadata": {},
   "outputs": [
    {
     "name": "stdout",
     "output_type": "stream",
     "text": [
      "[0.00129702]\n",
      "[0.00129702]\n",
      "[0.56843941]\n",
      "[0.56843941]\n",
      "[-0.03148701]\n",
      "[-0.03148701]\n"
     ]
    }
   ],
   "source": [
    "# Find the ARI between each of the three labels and check to make sure they are symmetric so that my function is working \n",
    "print(Adj_Rand_Index(label_truth, label_KMC))\n",
    "print(Adj_Rand_Index(label_KMC, label_truth))\n",
    "print(Adj_Rand_Index(label_truth, label_GNC))\n",
    "print(Adj_Rand_Index(label_GNC, label_truth))\n",
    "print(Adj_Rand_Index(label_KMC, label_GNC))\n",
    "print(Adj_Rand_Index(label_GNC, label_KMC))"
   ]
  },
  {
   "cell_type": "markdown",
   "metadata": {},
   "source": [
    "From this we see that:\n",
    "* The truth label and label 1 have almost no similarity and they seem to have a miniscule positive correlation this shows that k-means clustering is very poor at clustering the dataset in a way that actually happened in real life.\n",
    "* The truth label and label 2 have by far the similarity and they have strongest correlation this shows that the GMA is quite good at clustering the dataset in a way that actually happened in real life.\n",
    "* The label 1 and label 2 have almost no similarity but they seem to have a very slight negative correlation, this shows little agreement between k-means clustering and the GMA."
   ]
  },
  {
   "cell_type": "markdown",
   "metadata": {},
   "source": [
    "It seems from this that the GMA is the superior method of clustering data points out of GMA and k-means clustering"
   ]
  },
  {
   "cell_type": "markdown",
   "metadata": {},
   "source": [
    "## References"
   ]
  },
  {
   "cell_type": "markdown",
   "metadata": {},
   "source": [
    "- [Glorot initialisation] - link: http://proceedings.mlr.press/v9/glorot10a.html\n",
    "- [Data Normalization or Feature Scaling] - link: https://en.wikipedia.org/wiki/Feature_scaling\n",
    "- [Elbow method (clustering)] - link: https://en.wikipedia.org/wiki/Elbow_method_(clustering)\n",
    "- [Calinski-Harabasz Index – Cluster Validity indices] - link: https://www.geeksforgeeks.org/calinski-harabasz-index-cluster-validity-indices-set-3/\n",
    "- [networkx.algorithms.community.modularity_max.greedy] - link: https://networkx.org/documentation/networkx-2.2/reference/algorithms/generated/networkx.algorithms.community.modularity_max.greedy_modularity_communities.html\n",
    "- [The Adjusted Rand index - Dave Tang's blog] - link: https://davetang.org/muse/2017/09/21/adjusted-rand-index/"
   ]
  }
 ],
 "metadata": {
  "kernelspec": {
   "display_name": "Python 3",
   "language": "python",
   "name": "python3"
  },
  "language_info": {
   "codemirror_mode": {
    "name": "ipython",
    "version": 3
   },
   "file_extension": ".py",
   "mimetype": "text/x-python",
   "name": "python",
   "nbconvert_exporter": "python",
   "pygments_lexer": "ipython3",
   "version": "3.7.9"
  }
 },
 "nbformat": 4,
 "nbformat_minor": 4
}
